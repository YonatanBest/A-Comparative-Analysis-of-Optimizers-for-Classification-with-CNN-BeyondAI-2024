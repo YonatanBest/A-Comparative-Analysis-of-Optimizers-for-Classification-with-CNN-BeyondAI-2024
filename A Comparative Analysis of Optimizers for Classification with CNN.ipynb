{
 "cells": [
  {
   "cell_type": "markdown",
   "metadata": {},
   "source": [
    "# Installing required libraries"
   ]
  },
  {
   "cell_type": "code",
   "execution_count": null,
   "metadata": {},
   "outputs": [],
   "source": [
    "%pip install -r requirements.txt"
   ]
  },
  {
   "cell_type": "markdown",
   "metadata": {},
   "source": [
    "# Importing required libraries for the analysis."
   ]
  },
  {
   "cell_type": "code",
   "execution_count": null,
   "metadata": {
    "colab": {
     "base_uri": "https://localhost:8080/"
    },
    "id": "xQFIF7yWIxdj",
    "outputId": "ef7a535c-715a-4413-85a0-59b55da21195"
   },
   "outputs": [
    {
     "name": "stdout",
     "output_type": "stream",
     "text": [
      "Please provide your Kaggle credentials to download this dataset. Learn more: http://bit.ly/kaggle-creds\n",
      "Your Kaggle username: yonatanyi\n",
      "Your Kaggle Key: ··········\n",
      "Dataset URL: https://www.kaggle.com/datasets/tongpython/cat-and-dog\n",
      "Downloading cat-and-dog.zip to ./cat-and-dog\n"
     ]
    },
    {
     "name": "stderr",
     "output_type": "stream",
     "text": [
      "100%|██████████| 218M/218M [00:02<00:00, 106MB/s]\n"
     ]
    },
    {
     "name": "stdout",
     "output_type": "stream",
     "text": [
      "\n"
     ]
    }
   ],
   "source": [
    "import opendatasets as od\n",
    "import pandas\n",
    "\n",
    "od.download(\n",
    "    \"https://www.kaggle.com/datasets/tongpython/cat-and-dog\")"
   ]
  },
  {
   "cell_type": "markdown",
   "metadata": {},
   "source": [
    "# Importing required libraries for the model."
   ]
  },
  {
   "cell_type": "code",
   "execution_count": null,
   "metadata": {
    "id": "_fCPoEsCj8Lm"
   },
   "outputs": [],
   "source": [
    "import tensorflow as tf\n",
    "from tensorflow import keras\n",
    "from keras import Sequential\n",
    "from keras.layers import Dense, Conv2D, MaxPooling2D, Flatten, BatchNormalization, Dropout"
   ]
  },
  {
   "cell_type": "code",
   "execution_count": null,
   "metadata": {
    "id": "F2luwLXDNh-Y"
   },
   "outputs": [],
   "source": [
    "import os\n",
    "import random\n",
    "import numpy as np\n",
    "\n",
    "seed_value = 42\n",
    "os.environ['PYTHONHASHSEED'] = str(seed_value)\n",
    "random.seed(seed_value)\n",
    "np.random.seed(seed_value)\n",
    "tf.random.set_seed(seed_value)"
   ]
  },
  {
   "cell_type": "markdown",
   "metadata": {
    "id": "WVOJfiZjEF_Y"
   },
   "source": [
    "keras.utils.image_dataset_from_directory function from keras: https://keras.io/api/data_loading/image/"
   ]
  },
  {
   "cell_type": "code",
   "execution_count": null,
   "metadata": {
    "colab": {
     "base_uri": "https://localhost:8080/"
    },
    "id": "txN1XgBbmgfT",
    "outputId": "1b82ea99-276a-452a-f03d-6e13301b016c"
   },
   "outputs": [
    {
     "name": "stdout",
     "output_type": "stream",
     "text": [
      "Found 8005 files belonging to 2 classes.\n"
     ]
    }
   ],
   "source": [
    "train_ds = keras.utils.image_dataset_from_directory(\n",
    "    directory = '/content/cat-and-dog/training_set/training_set',\n",
    "    labels = 'inferred',\n",
    "    label_mode = 'int',\n",
    "    batch_size = 32,\n",
    "    image_size = (256,256)\n",
    ")"
   ]
  },
  {
   "cell_type": "code",
   "execution_count": null,
   "metadata": {
    "colab": {
     "base_uri": "https://localhost:8080/"
    },
    "id": "b573ZbOdGXS3",
    "outputId": "0717ec9a-34c6-4e70-bc95-609d644813a2"
   },
   "outputs": [
    {
     "name": "stdout",
     "output_type": "stream",
     "text": [
      "Found 2023 files belonging to 2 classes.\n"
     ]
    }
   ],
   "source": [
    "validation_ds = keras.utils.image_dataset_from_directory(\n",
    "    directory = '/content/cat-and-dog/test_set/test_set',\n",
    "    labels = 'inferred',\n",
    "    label_mode = 'int',\n",
    "    batch_size = 32,\n",
    "    image_size = (256,256)\n",
    ")"
   ]
  },
  {
   "cell_type": "markdown",
   "metadata": {
    "id": "K_T7xM7lHhOA"
   },
   "source": [
    "### The data is stored in numpy array with values from 0 to 255. We need to nomalize it from 0 to 1."
   ]
  },
  {
   "cell_type": "code",
   "execution_count": null,
   "metadata": {
    "id": "EEzicmQnGgFT"
   },
   "outputs": [],
   "source": [
    "def process(image, label):\n",
    "  image=tf.cast(image/255, tf.float32)\n",
    "  return image, label"
   ]
  },
  {
   "cell_type": "code",
   "execution_count": null,
   "metadata": {
    "id": "2M2R7atSIxFR"
   },
   "outputs": [],
   "source": [
    "train_ds = train_ds.map(process)\n",
    "validation_ds = validation_ds.map(process)"
   ]
  },
  {
   "cell_type": "markdown",
   "metadata": {
    "id": "eADMNevIuy9s"
   },
   "source": [
    "# Model function\n"
   ]
  },
  {
   "cell_type": "code",
   "execution_count": null,
   "metadata": {
    "id": "GrXT37-bKFNq"
   },
   "outputs": [],
   "source": [
    "def get_model():\n",
    "  model = Sequential()\n",
    "  model.add(Conv2D(32, kernel_size=(3,3), padding = 'valid', activation = 'relu', input_shape = (256,256,3)))\n",
    "  model.add(BatchNormalization())\n",
    "  model.add(MaxPooling2D(pool_size=(2,2), strides = 2, padding = 'valid'))\n",
    "\n",
    "  model.add(Conv2D(64, kernel_size=(3,3), padding = 'valid', activation = 'relu'))\n",
    "  model.add(BatchNormalization())\n",
    "  model.add(MaxPooling2D(pool_size=(2,2), strides = 2, padding = 'valid'))\n",
    "\n",
    "  model.add(Conv2D(128, kernel_size=(3,3), padding = 'valid', activation = 'relu'))\n",
    "  model.add(BatchNormalization())\n",
    "  model.add(MaxPooling2D(pool_size=(2,2), strides = 2, padding = 'valid'))\n",
    "\n",
    "  model.add(Flatten())\n",
    "\n",
    "  model.add(Dense(128, activation='relu'))\n",
    "  model.add(Dropout(0.1))\n",
    "  model.add(Dense(64, activation='relu'))\n",
    "  model.add(Dropout(0.1))\n",
    "  model.add(Dense(1, activation='sigmoid'))\n",
    "\n",
    "  return model"
   ]
  },
  {
   "cell_type": "markdown",
   "metadata": {
    "id": "54OayPE2Lp4T"
   },
   "source": [
    "# Model with Adam"
   ]
  },
  {
   "cell_type": "code",
   "execution_count": null,
   "metadata": {
    "colab": {
     "base_uri": "https://localhost:8080/"
    },
    "id": "cG2z5bE4I6rb",
    "outputId": "9eb90f14-72ac-4887-c505-6becbc8559d2"
   },
   "outputs": [
    {
     "name": "stderr",
     "output_type": "stream",
     "text": [
      "/usr/local/lib/python3.10/dist-packages/keras/src/layers/convolutional/base_conv.py:107: UserWarning: Do not pass an `input_shape`/`input_dim` argument to a layer. When using Sequential models, prefer using an `Input(shape)` object as the first layer in the model instead.\n",
      "  super().__init__(activity_regularizer=activity_regularizer, **kwargs)\n"
     ]
    }
   ],
   "source": [
    "model_Adam = get_model()"
   ]
  },
  {
   "cell_type": "code",
   "execution_count": null,
   "metadata": {
    "colab": {
     "base_uri": "https://localhost:8080/",
     "height": 657
    },
    "id": "MQ442KxXLx12",
    "outputId": "70fb8459-2b29-4939-95e6-531c805794b2"
   },
   "outputs": [
    {
     "data": {
      "text/html": [
       "<pre style=\"white-space:pre;overflow-x:auto;line-height:normal;font-family:Menlo,'DejaVu Sans Mono',consolas,'Courier New',monospace\"><span style=\"font-weight: bold\">Model: \"sequential\"</span>\n",
       "</pre>\n"
      ],
      "text/plain": [
       "\u001b[1mModel: \"sequential\"\u001b[0m\n"
      ]
     },
     "metadata": {},
     "output_type": "display_data"
    },
    {
     "data": {
      "text/html": [
       "<pre style=\"white-space:pre;overflow-x:auto;line-height:normal;font-family:Menlo,'DejaVu Sans Mono',consolas,'Courier New',monospace\">┏━━━━━━━━━━━━━━━━━━━━━━━━━━━━━━━━━━━━━━┳━━━━━━━━━━━━━━━━━━━━━━━━━━━━━┳━━━━━━━━━━━━━━━━━┓\n",
       "┃<span style=\"font-weight: bold\"> Layer (type)                         </span>┃<span style=\"font-weight: bold\"> Output Shape                </span>┃<span style=\"font-weight: bold\">         Param # </span>┃\n",
       "┡━━━━━━━━━━━━━━━━━━━━━━━━━━━━━━━━━━━━━━╇━━━━━━━━━━━━━━━━━━━━━━━━━━━━━╇━━━━━━━━━━━━━━━━━┩\n",
       "│ conv2d (<span style=\"color: #0087ff; text-decoration-color: #0087ff\">Conv2D</span>)                      │ (<span style=\"color: #00d7ff; text-decoration-color: #00d7ff\">None</span>, <span style=\"color: #00af00; text-decoration-color: #00af00\">254</span>, <span style=\"color: #00af00; text-decoration-color: #00af00\">254</span>, <span style=\"color: #00af00; text-decoration-color: #00af00\">32</span>)        │             <span style=\"color: #00af00; text-decoration-color: #00af00\">896</span> │\n",
       "├──────────────────────────────────────┼─────────────────────────────┼─────────────────┤\n",
       "│ batch_normalization                  │ (<span style=\"color: #00d7ff; text-decoration-color: #00d7ff\">None</span>, <span style=\"color: #00af00; text-decoration-color: #00af00\">254</span>, <span style=\"color: #00af00; text-decoration-color: #00af00\">254</span>, <span style=\"color: #00af00; text-decoration-color: #00af00\">32</span>)        │             <span style=\"color: #00af00; text-decoration-color: #00af00\">128</span> │\n",
       "│ (<span style=\"color: #0087ff; text-decoration-color: #0087ff\">BatchNormalization</span>)                 │                             │                 │\n",
       "├──────────────────────────────────────┼─────────────────────────────┼─────────────────┤\n",
       "│ max_pooling2d (<span style=\"color: #0087ff; text-decoration-color: #0087ff\">MaxPooling2D</span>)         │ (<span style=\"color: #00d7ff; text-decoration-color: #00d7ff\">None</span>, <span style=\"color: #00af00; text-decoration-color: #00af00\">127</span>, <span style=\"color: #00af00; text-decoration-color: #00af00\">127</span>, <span style=\"color: #00af00; text-decoration-color: #00af00\">32</span>)        │               <span style=\"color: #00af00; text-decoration-color: #00af00\">0</span> │\n",
       "├──────────────────────────────────────┼─────────────────────────────┼─────────────────┤\n",
       "│ conv2d_1 (<span style=\"color: #0087ff; text-decoration-color: #0087ff\">Conv2D</span>)                    │ (<span style=\"color: #00d7ff; text-decoration-color: #00d7ff\">None</span>, <span style=\"color: #00af00; text-decoration-color: #00af00\">125</span>, <span style=\"color: #00af00; text-decoration-color: #00af00\">125</span>, <span style=\"color: #00af00; text-decoration-color: #00af00\">64</span>)        │          <span style=\"color: #00af00; text-decoration-color: #00af00\">18,496</span> │\n",
       "├──────────────────────────────────────┼─────────────────────────────┼─────────────────┤\n",
       "│ batch_normalization_1                │ (<span style=\"color: #00d7ff; text-decoration-color: #00d7ff\">None</span>, <span style=\"color: #00af00; text-decoration-color: #00af00\">125</span>, <span style=\"color: #00af00; text-decoration-color: #00af00\">125</span>, <span style=\"color: #00af00; text-decoration-color: #00af00\">64</span>)        │             <span style=\"color: #00af00; text-decoration-color: #00af00\">256</span> │\n",
       "│ (<span style=\"color: #0087ff; text-decoration-color: #0087ff\">BatchNormalization</span>)                 │                             │                 │\n",
       "├──────────────────────────────────────┼─────────────────────────────┼─────────────────┤\n",
       "│ max_pooling2d_1 (<span style=\"color: #0087ff; text-decoration-color: #0087ff\">MaxPooling2D</span>)       │ (<span style=\"color: #00d7ff; text-decoration-color: #00d7ff\">None</span>, <span style=\"color: #00af00; text-decoration-color: #00af00\">62</span>, <span style=\"color: #00af00; text-decoration-color: #00af00\">62</span>, <span style=\"color: #00af00; text-decoration-color: #00af00\">64</span>)          │               <span style=\"color: #00af00; text-decoration-color: #00af00\">0</span> │\n",
       "├──────────────────────────────────────┼─────────────────────────────┼─────────────────┤\n",
       "│ conv2d_2 (<span style=\"color: #0087ff; text-decoration-color: #0087ff\">Conv2D</span>)                    │ (<span style=\"color: #00d7ff; text-decoration-color: #00d7ff\">None</span>, <span style=\"color: #00af00; text-decoration-color: #00af00\">60</span>, <span style=\"color: #00af00; text-decoration-color: #00af00\">60</span>, <span style=\"color: #00af00; text-decoration-color: #00af00\">128</span>)         │          <span style=\"color: #00af00; text-decoration-color: #00af00\">73,856</span> │\n",
       "├──────────────────────────────────────┼─────────────────────────────┼─────────────────┤\n",
       "│ batch_normalization_2                │ (<span style=\"color: #00d7ff; text-decoration-color: #00d7ff\">None</span>, <span style=\"color: #00af00; text-decoration-color: #00af00\">60</span>, <span style=\"color: #00af00; text-decoration-color: #00af00\">60</span>, <span style=\"color: #00af00; text-decoration-color: #00af00\">128</span>)         │             <span style=\"color: #00af00; text-decoration-color: #00af00\">512</span> │\n",
       "│ (<span style=\"color: #0087ff; text-decoration-color: #0087ff\">BatchNormalization</span>)                 │                             │                 │\n",
       "├──────────────────────────────────────┼─────────────────────────────┼─────────────────┤\n",
       "│ max_pooling2d_2 (<span style=\"color: #0087ff; text-decoration-color: #0087ff\">MaxPooling2D</span>)       │ (<span style=\"color: #00d7ff; text-decoration-color: #00d7ff\">None</span>, <span style=\"color: #00af00; text-decoration-color: #00af00\">30</span>, <span style=\"color: #00af00; text-decoration-color: #00af00\">30</span>, <span style=\"color: #00af00; text-decoration-color: #00af00\">128</span>)         │               <span style=\"color: #00af00; text-decoration-color: #00af00\">0</span> │\n",
       "├──────────────────────────────────────┼─────────────────────────────┼─────────────────┤\n",
       "│ flatten (<span style=\"color: #0087ff; text-decoration-color: #0087ff\">Flatten</span>)                    │ (<span style=\"color: #00d7ff; text-decoration-color: #00d7ff\">None</span>, <span style=\"color: #00af00; text-decoration-color: #00af00\">115200</span>)              │               <span style=\"color: #00af00; text-decoration-color: #00af00\">0</span> │\n",
       "├──────────────────────────────────────┼─────────────────────────────┼─────────────────┤\n",
       "│ dense (<span style=\"color: #0087ff; text-decoration-color: #0087ff\">Dense</span>)                        │ (<span style=\"color: #00d7ff; text-decoration-color: #00d7ff\">None</span>, <span style=\"color: #00af00; text-decoration-color: #00af00\">128</span>)                 │      <span style=\"color: #00af00; text-decoration-color: #00af00\">14,745,728</span> │\n",
       "├──────────────────────────────────────┼─────────────────────────────┼─────────────────┤\n",
       "│ dropout (<span style=\"color: #0087ff; text-decoration-color: #0087ff\">Dropout</span>)                    │ (<span style=\"color: #00d7ff; text-decoration-color: #00d7ff\">None</span>, <span style=\"color: #00af00; text-decoration-color: #00af00\">128</span>)                 │               <span style=\"color: #00af00; text-decoration-color: #00af00\">0</span> │\n",
       "├──────────────────────────────────────┼─────────────────────────────┼─────────────────┤\n",
       "│ dense_1 (<span style=\"color: #0087ff; text-decoration-color: #0087ff\">Dense</span>)                      │ (<span style=\"color: #00d7ff; text-decoration-color: #00d7ff\">None</span>, <span style=\"color: #00af00; text-decoration-color: #00af00\">64</span>)                  │           <span style=\"color: #00af00; text-decoration-color: #00af00\">8,256</span> │\n",
       "├──────────────────────────────────────┼─────────────────────────────┼─────────────────┤\n",
       "│ dropout_1 (<span style=\"color: #0087ff; text-decoration-color: #0087ff\">Dropout</span>)                  │ (<span style=\"color: #00d7ff; text-decoration-color: #00d7ff\">None</span>, <span style=\"color: #00af00; text-decoration-color: #00af00\">64</span>)                  │               <span style=\"color: #00af00; text-decoration-color: #00af00\">0</span> │\n",
       "├──────────────────────────────────────┼─────────────────────────────┼─────────────────┤\n",
       "│ dense_2 (<span style=\"color: #0087ff; text-decoration-color: #0087ff\">Dense</span>)                      │ (<span style=\"color: #00d7ff; text-decoration-color: #00d7ff\">None</span>, <span style=\"color: #00af00; text-decoration-color: #00af00\">1</span>)                   │              <span style=\"color: #00af00; text-decoration-color: #00af00\">65</span> │\n",
       "└──────────────────────────────────────┴─────────────────────────────┴─────────────────┘\n",
       "</pre>\n"
      ],
      "text/plain": [
       "┏━━━━━━━━━━━━━━━━━━━━━━━━━━━━━━━━━━━━━━┳━━━━━━━━━━━━━━━━━━━━━━━━━━━━━┳━━━━━━━━━━━━━━━━━┓\n",
       "┃\u001b[1m \u001b[0m\u001b[1mLayer (type)                        \u001b[0m\u001b[1m \u001b[0m┃\u001b[1m \u001b[0m\u001b[1mOutput Shape               \u001b[0m\u001b[1m \u001b[0m┃\u001b[1m \u001b[0m\u001b[1m        Param #\u001b[0m\u001b[1m \u001b[0m┃\n",
       "┡━━━━━━━━━━━━━━━━━━━━━━━━━━━━━━━━━━━━━━╇━━━━━━━━━━━━━━━━━━━━━━━━━━━━━╇━━━━━━━━━━━━━━━━━┩\n",
       "│ conv2d (\u001b[38;5;33mConv2D\u001b[0m)                      │ (\u001b[38;5;45mNone\u001b[0m, \u001b[38;5;34m254\u001b[0m, \u001b[38;5;34m254\u001b[0m, \u001b[38;5;34m32\u001b[0m)        │             \u001b[38;5;34m896\u001b[0m │\n",
       "├──────────────────────────────────────┼─────────────────────────────┼─────────────────┤\n",
       "│ batch_normalization                  │ (\u001b[38;5;45mNone\u001b[0m, \u001b[38;5;34m254\u001b[0m, \u001b[38;5;34m254\u001b[0m, \u001b[38;5;34m32\u001b[0m)        │             \u001b[38;5;34m128\u001b[0m │\n",
       "│ (\u001b[38;5;33mBatchNormalization\u001b[0m)                 │                             │                 │\n",
       "├──────────────────────────────────────┼─────────────────────────────┼─────────────────┤\n",
       "│ max_pooling2d (\u001b[38;5;33mMaxPooling2D\u001b[0m)         │ (\u001b[38;5;45mNone\u001b[0m, \u001b[38;5;34m127\u001b[0m, \u001b[38;5;34m127\u001b[0m, \u001b[38;5;34m32\u001b[0m)        │               \u001b[38;5;34m0\u001b[0m │\n",
       "├──────────────────────────────────────┼─────────────────────────────┼─────────────────┤\n",
       "│ conv2d_1 (\u001b[38;5;33mConv2D\u001b[0m)                    │ (\u001b[38;5;45mNone\u001b[0m, \u001b[38;5;34m125\u001b[0m, \u001b[38;5;34m125\u001b[0m, \u001b[38;5;34m64\u001b[0m)        │          \u001b[38;5;34m18,496\u001b[0m │\n",
       "├──────────────────────────────────────┼─────────────────────────────┼─────────────────┤\n",
       "│ batch_normalization_1                │ (\u001b[38;5;45mNone\u001b[0m, \u001b[38;5;34m125\u001b[0m, \u001b[38;5;34m125\u001b[0m, \u001b[38;5;34m64\u001b[0m)        │             \u001b[38;5;34m256\u001b[0m │\n",
       "│ (\u001b[38;5;33mBatchNormalization\u001b[0m)                 │                             │                 │\n",
       "├──────────────────────────────────────┼─────────────────────────────┼─────────────────┤\n",
       "│ max_pooling2d_1 (\u001b[38;5;33mMaxPooling2D\u001b[0m)       │ (\u001b[38;5;45mNone\u001b[0m, \u001b[38;5;34m62\u001b[0m, \u001b[38;5;34m62\u001b[0m, \u001b[38;5;34m64\u001b[0m)          │               \u001b[38;5;34m0\u001b[0m │\n",
       "├──────────────────────────────────────┼─────────────────────────────┼─────────────────┤\n",
       "│ conv2d_2 (\u001b[38;5;33mConv2D\u001b[0m)                    │ (\u001b[38;5;45mNone\u001b[0m, \u001b[38;5;34m60\u001b[0m, \u001b[38;5;34m60\u001b[0m, \u001b[38;5;34m128\u001b[0m)         │          \u001b[38;5;34m73,856\u001b[0m │\n",
       "├──────────────────────────────────────┼─────────────────────────────┼─────────────────┤\n",
       "│ batch_normalization_2                │ (\u001b[38;5;45mNone\u001b[0m, \u001b[38;5;34m60\u001b[0m, \u001b[38;5;34m60\u001b[0m, \u001b[38;5;34m128\u001b[0m)         │             \u001b[38;5;34m512\u001b[0m │\n",
       "│ (\u001b[38;5;33mBatchNormalization\u001b[0m)                 │                             │                 │\n",
       "├──────────────────────────────────────┼─────────────────────────────┼─────────────────┤\n",
       "│ max_pooling2d_2 (\u001b[38;5;33mMaxPooling2D\u001b[0m)       │ (\u001b[38;5;45mNone\u001b[0m, \u001b[38;5;34m30\u001b[0m, \u001b[38;5;34m30\u001b[0m, \u001b[38;5;34m128\u001b[0m)         │               \u001b[38;5;34m0\u001b[0m │\n",
       "├──────────────────────────────────────┼─────────────────────────────┼─────────────────┤\n",
       "│ flatten (\u001b[38;5;33mFlatten\u001b[0m)                    │ (\u001b[38;5;45mNone\u001b[0m, \u001b[38;5;34m115200\u001b[0m)              │               \u001b[38;5;34m0\u001b[0m │\n",
       "├──────────────────────────────────────┼─────────────────────────────┼─────────────────┤\n",
       "│ dense (\u001b[38;5;33mDense\u001b[0m)                        │ (\u001b[38;5;45mNone\u001b[0m, \u001b[38;5;34m128\u001b[0m)                 │      \u001b[38;5;34m14,745,728\u001b[0m │\n",
       "├──────────────────────────────────────┼─────────────────────────────┼─────────────────┤\n",
       "│ dropout (\u001b[38;5;33mDropout\u001b[0m)                    │ (\u001b[38;5;45mNone\u001b[0m, \u001b[38;5;34m128\u001b[0m)                 │               \u001b[38;5;34m0\u001b[0m │\n",
       "├──────────────────────────────────────┼─────────────────────────────┼─────────────────┤\n",
       "│ dense_1 (\u001b[38;5;33mDense\u001b[0m)                      │ (\u001b[38;5;45mNone\u001b[0m, \u001b[38;5;34m64\u001b[0m)                  │           \u001b[38;5;34m8,256\u001b[0m │\n",
       "├──────────────────────────────────────┼─────────────────────────────┼─────────────────┤\n",
       "│ dropout_1 (\u001b[38;5;33mDropout\u001b[0m)                  │ (\u001b[38;5;45mNone\u001b[0m, \u001b[38;5;34m64\u001b[0m)                  │               \u001b[38;5;34m0\u001b[0m │\n",
       "├──────────────────────────────────────┼─────────────────────────────┼─────────────────┤\n",
       "│ dense_2 (\u001b[38;5;33mDense\u001b[0m)                      │ (\u001b[38;5;45mNone\u001b[0m, \u001b[38;5;34m1\u001b[0m)                   │              \u001b[38;5;34m65\u001b[0m │\n",
       "└──────────────────────────────────────┴─────────────────────────────┴─────────────────┘\n"
      ]
     },
     "metadata": {},
     "output_type": "display_data"
    },
    {
     "data": {
      "text/html": [
       "<pre style=\"white-space:pre;overflow-x:auto;line-height:normal;font-family:Menlo,'DejaVu Sans Mono',consolas,'Courier New',monospace\"><span style=\"font-weight: bold\"> Total params: </span><span style=\"color: #00af00; text-decoration-color: #00af00\">14,848,193</span> (56.64 MB)\n",
       "</pre>\n"
      ],
      "text/plain": [
       "\u001b[1m Total params: \u001b[0m\u001b[38;5;34m14,848,193\u001b[0m (56.64 MB)\n"
      ]
     },
     "metadata": {},
     "output_type": "display_data"
    },
    {
     "data": {
      "text/html": [
       "<pre style=\"white-space:pre;overflow-x:auto;line-height:normal;font-family:Menlo,'DejaVu Sans Mono',consolas,'Courier New',monospace\"><span style=\"font-weight: bold\"> Trainable params: </span><span style=\"color: #00af00; text-decoration-color: #00af00\">14,847,745</span> (56.64 MB)\n",
       "</pre>\n"
      ],
      "text/plain": [
       "\u001b[1m Trainable params: \u001b[0m\u001b[38;5;34m14,847,745\u001b[0m (56.64 MB)\n"
      ]
     },
     "metadata": {},
     "output_type": "display_data"
    },
    {
     "data": {
      "text/html": [
       "<pre style=\"white-space:pre;overflow-x:auto;line-height:normal;font-family:Menlo,'DejaVu Sans Mono',consolas,'Courier New',monospace\"><span style=\"font-weight: bold\"> Non-trainable params: </span><span style=\"color: #00af00; text-decoration-color: #00af00\">448</span> (1.75 KB)\n",
       "</pre>\n"
      ],
      "text/plain": [
       "\u001b[1m Non-trainable params: \u001b[0m\u001b[38;5;34m448\u001b[0m (1.75 KB)\n"
      ]
     },
     "metadata": {},
     "output_type": "display_data"
    }
   ],
   "source": [
    "model_Adam.summary()"
   ]
  },
  {
   "cell_type": "code",
   "execution_count": null,
   "metadata": {
    "id": "x9r21mScmHId"
   },
   "outputs": [],
   "source": [
    "from tensorflow.keras.metrics import Precision, Recall"
   ]
  },
  {
   "cell_type": "code",
   "execution_count": null,
   "metadata": {
    "id": "D26zo4lRMHwI"
   },
   "outputs": [],
   "source": [
    "model_Adam.compile(optimizer='adam', loss='binary_crossentropy', metrics=['accuracy', Precision, Recall])"
   ]
  },
  {
   "cell_type": "code",
   "execution_count": null,
   "metadata": {
    "colab": {
     "base_uri": "https://localhost:8080/"
    },
    "id": "4GTErsWfMh-X",
    "outputId": "a3515cbe-037e-488b-ad0b-cded31146342"
   },
   "outputs": [
    {
     "name": "stdout",
     "output_type": "stream",
     "text": [
      "Epoch 1/20\n",
      "\u001b[1m251/251\u001b[0m \u001b[32m━━━━━━━━━━━━━━━━━━━━\u001b[0m\u001b[37m\u001b[0m \u001b[1m44s\u001b[0m 114ms/step - accuracy: 0.5481 - loss: 4.4865 - precision: 0.5544 - recall: 0.5635 - val_accuracy: 0.5512 - val_loss: 0.7407 - val_precision: 0.5778 - val_recall: 0.3814\n",
      "Epoch 2/20\n",
      "\u001b[1m251/251\u001b[0m \u001b[32m━━━━━━━━━━━━━━━━━━━━\u001b[0m\u001b[37m\u001b[0m \u001b[1m24s\u001b[0m 94ms/step - accuracy: 0.5830 - loss: 0.7811 - precision: 0.5881 - recall: 0.5882 - val_accuracy: 0.6387 - val_loss: 0.6444 - val_precision: 0.7707 - val_recall: 0.3953\n",
      "Epoch 3/20\n",
      "\u001b[1m251/251\u001b[0m \u001b[32m━━━━━━━━━━━━━━━━━━━━\u001b[0m\u001b[37m\u001b[0m \u001b[1m37s\u001b[0m 80ms/step - accuracy: 0.6622 - loss: 0.6159 - precision: 0.6844 - recall: 0.6203 - val_accuracy: 0.6530 - val_loss: 0.6978 - val_precision: 0.6189 - val_recall: 0.7974\n",
      "Epoch 4/20\n",
      "\u001b[1m251/251\u001b[0m \u001b[32m━━━━━━━━━━━━━━━━━━━━\u001b[0m\u001b[37m\u001b[0m \u001b[1m21s\u001b[0m 84ms/step - accuracy: 0.7090 - loss: 0.5890 - precision: 0.7262 - recall: 0.6783 - val_accuracy: 0.5734 - val_loss: 0.7156 - val_precision: 0.7729 - val_recall: 0.2085\n",
      "Epoch 5/20\n",
      "\u001b[1m251/251\u001b[0m \u001b[32m━━━━━━━━━━━━━━━━━━━━\u001b[0m\u001b[37m\u001b[0m \u001b[1m21s\u001b[0m 83ms/step - accuracy: 0.7159 - loss: 0.5635 - precision: 0.7354 - recall: 0.6864 - val_accuracy: 0.7509 - val_loss: 0.5117 - val_precision: 0.7500 - val_recall: 0.7530\n",
      "Epoch 6/20\n",
      "\u001b[1m251/251\u001b[0m \u001b[32m━━━━━━━━━━━━━━━━━━━━\u001b[0m\u001b[37m\u001b[0m \u001b[1m21s\u001b[0m 82ms/step - accuracy: 0.7566 - loss: 0.5083 - precision: 0.7675 - recall: 0.7457 - val_accuracy: 0.7301 - val_loss: 0.5289 - val_precision: 0.6991 - val_recall: 0.8083\n",
      "Epoch 7/20\n",
      "\u001b[1m251/251\u001b[0m \u001b[32m━━━━━━━━━━━━━━━━━━━━\u001b[0m\u001b[37m\u001b[0m \u001b[1m40s\u001b[0m 80ms/step - accuracy: 0.7940 - loss: 0.4524 - precision: 0.8036 - recall: 0.7844 - val_accuracy: 0.7494 - val_loss: 0.5221 - val_precision: 0.7468 - val_recall: 0.7549\n",
      "Epoch 8/20\n",
      "\u001b[1m251/251\u001b[0m \u001b[32m━━━━━━━━━━━━━━━━━━━━\u001b[0m\u001b[37m\u001b[0m \u001b[1m21s\u001b[0m 82ms/step - accuracy: 0.8084 - loss: 0.4121 - precision: 0.8176 - recall: 0.8005 - val_accuracy: 0.5339 - val_loss: 1.1753 - val_precision: 0.8416 - val_recall: 0.0840\n",
      "Epoch 9/20\n",
      "\u001b[1m251/251\u001b[0m \u001b[32m━━━━━━━━━━━━━━━━━━━━\u001b[0m\u001b[37m\u001b[0m \u001b[1m43s\u001b[0m 90ms/step - accuracy: 0.8399 - loss: 0.3734 - precision: 0.8406 - recall: 0.8447 - val_accuracy: 0.6906 - val_loss: 0.9106 - val_precision: 0.7443 - val_recall: 0.5810\n",
      "Epoch 10/20\n",
      "\u001b[1m251/251\u001b[0m \u001b[32m━━━━━━━━━━━━━━━━━━━━\u001b[0m\u001b[37m\u001b[0m \u001b[1m21s\u001b[0m 82ms/step - accuracy: 0.8920 - loss: 0.2570 - precision: 0.8943 - recall: 0.8918 - val_accuracy: 0.7721 - val_loss: 0.7070 - val_precision: 0.7616 - val_recall: 0.7925\n",
      "Epoch 11/20\n",
      "\u001b[1m251/251\u001b[0m \u001b[32m━━━━━━━━━━━━━━━━━━━━\u001b[0m\u001b[37m\u001b[0m \u001b[1m21s\u001b[0m 84ms/step - accuracy: 0.9202 - loss: 0.2096 - precision: 0.9258 - recall: 0.9153 - val_accuracy: 0.7489 - val_loss: 1.3505 - val_precision: 0.8182 - val_recall: 0.6403\n",
      "Epoch 12/20\n",
      "\u001b[1m251/251\u001b[0m \u001b[32m━━━━━━━━━━━━━━━━━━━━\u001b[0m\u001b[37m\u001b[0m \u001b[1m40s\u001b[0m 82ms/step - accuracy: 0.9432 - loss: 0.1433 - precision: 0.9425 - recall: 0.9452 - val_accuracy: 0.7573 - val_loss: 0.8699 - val_precision: 0.7483 - val_recall: 0.7757\n",
      "Epoch 13/20\n",
      "\u001b[1m251/251\u001b[0m \u001b[32m━━━━━━━━━━━━━━━━━━━━\u001b[0m\u001b[37m\u001b[0m \u001b[1m20s\u001b[0m 80ms/step - accuracy: 0.9597 - loss: 0.1163 - precision: 0.9610 - recall: 0.9593 - val_accuracy: 0.7276 - val_loss: 1.5185 - val_precision: 0.6753 - val_recall: 0.8775\n",
      "Epoch 14/20\n",
      "\u001b[1m251/251\u001b[0m \u001b[32m━━━━━━━━━━━━━━━━━━━━\u001b[0m\u001b[37m\u001b[0m \u001b[1m21s\u001b[0m 82ms/step - accuracy: 0.9694 - loss: 0.0734 - precision: 0.9708 - recall: 0.9690 - val_accuracy: 0.7667 - val_loss: 0.9723 - val_precision: 0.7795 - val_recall: 0.7441\n",
      "Epoch 15/20\n",
      "\u001b[1m251/251\u001b[0m \u001b[32m━━━━━━━━━━━━━━━━━━━━\u001b[0m\u001b[37m\u001b[0m \u001b[1m40s\u001b[0m 80ms/step - accuracy: 0.9755 - loss: 0.0703 - precision: 0.9759 - recall: 0.9758 - val_accuracy: 0.7311 - val_loss: 0.9343 - val_precision: 0.7175 - val_recall: 0.7628\n",
      "Epoch 16/20\n",
      "\u001b[1m251/251\u001b[0m \u001b[32m━━━━━━━━━━━━━━━━━━━━\u001b[0m\u001b[37m\u001b[0m \u001b[1m21s\u001b[0m 82ms/step - accuracy: 0.9733 - loss: 0.0746 - precision: 0.9706 - recall: 0.9770 - val_accuracy: 0.7578 - val_loss: 1.1132 - val_precision: 0.8287 - val_recall: 0.6502\n",
      "Epoch 17/20\n",
      "\u001b[1m251/251\u001b[0m \u001b[32m━━━━━━━━━━━━━━━━━━━━\u001b[0m\u001b[37m\u001b[0m \u001b[1m40s\u001b[0m 79ms/step - accuracy: 0.9816 - loss: 0.0638 - precision: 0.9818 - recall: 0.9817 - val_accuracy: 0.7939 - val_loss: 1.0918 - val_precision: 0.8026 - val_recall: 0.7796\n",
      "Epoch 18/20\n",
      "\u001b[1m251/251\u001b[0m \u001b[32m━━━━━━━━━━━━━━━━━━━━\u001b[0m\u001b[37m\u001b[0m \u001b[1m20s\u001b[0m 82ms/step - accuracy: 0.9858 - loss: 0.0357 - precision: 0.9864 - recall: 0.9855 - val_accuracy: 0.7612 - val_loss: 1.0712 - val_precision: 0.7949 - val_recall: 0.7045\n",
      "Epoch 19/20\n",
      "\u001b[1m251/251\u001b[0m \u001b[32m━━━━━━━━━━━━━━━━━━━━\u001b[0m\u001b[37m\u001b[0m \u001b[1m40s\u001b[0m 79ms/step - accuracy: 0.9862 - loss: 0.0419 - precision: 0.9845 - recall: 0.9882 - val_accuracy: 0.7756 - val_loss: 1.0013 - val_precision: 0.7812 - val_recall: 0.7658\n",
      "Epoch 20/20\n",
      "\u001b[1m251/251\u001b[0m \u001b[32m━━━━━━━━━━━━━━━━━━━━\u001b[0m\u001b[37m\u001b[0m \u001b[1m21s\u001b[0m 83ms/step - accuracy: 0.9880 - loss: 0.0406 - precision: 0.9886 - recall: 0.9876 - val_accuracy: 0.7637 - val_loss: 1.1965 - val_precision: 0.8423 - val_recall: 0.6492\n"
     ]
    }
   ],
   "source": [
    "history_Adam = model_Adam.fit(train_ds, epochs=20, validation_data=validation_ds)"
   ]
  },
  {
   "cell_type": "markdown",
   "metadata": {},
   "source": [
    "# Plotting the results to visualize model performance."
   ]
  },
  {
   "cell_type": "code",
   "execution_count": null,
   "metadata": {
    "colab": {
     "base_uri": "https://localhost:8080/",
     "height": 472
    },
    "id": "uU3EUtT-MyfY",
    "outputId": "00b4862a-a465-4c02-a140-25cadf25e81c"
   },
   "outputs": [
    {
     "data": {
      "image/png": "[encoded data removed]",
      "text/plain": [
       "<Figure size 640x480 with 1 Axes>"
      ]
     },
     "metadata": {},
     "output_type": "display_data"
    }
   ],
   "source": [
    "import matplotlib.pyplot as plt\n",
    "plt.plot(history_Adam.history['accuracy'], color='red', label='train')\n",
    "plt.plot(history_Adam.history['val_accuracy'], color='blue', label='validation')\n",
    "plt.title('model accuracy for Adam')\n",
    "plt.ylabel('accuracy')\n",
    "plt.xlabel('epoch')\n",
    "plt.legend()\n",
    "plt.show()"
   ]
  },
  {
   "cell_type": "code",
   "execution_count": null,
   "metadata": {
    "colab": {
     "base_uri": "https://localhost:8080/",
     "height": 472
    },
    "id": "uk1CIBsslAwh",
    "outputId": "27141690-ca2d-421a-9cbd-489b621af10a"
   },
   "outputs": [
    {
     "data": {
      "image/png": "[encoded data removed]",
      "text/plain": [
       "<Figure size 640x480 with 1 Axes>"
      ]
     },
     "metadata": {},
     "output_type": "display_data"
    }
   ],
   "source": [
    "plt.plot(history_Adam.history['loss'], color='red', label='train')\n",
    "plt.plot(history_Adam.history['val_loss'], color='blue', label='validation')\n",
    "plt.title('model loss for Adam')\n",
    "plt.ylabel('loss')\n",
    "plt.xlabel('epoch')\n",
    "plt.legend()\n",
    "plt.show()"
   ]
  },
  {
   "cell_type": "markdown",
   "metadata": {
    "id": "m38LxDJFpF2d"
   },
   "source": [
    "# Model with SGD"
   ]
  },
  {
   "cell_type": "code",
   "execution_count": null,
   "metadata": {
    "id": "u6ABWxz795c6"
   },
   "outputs": [],
   "source": [
    "model_SGD = get_model()"
   ]
  },
  {
   "cell_type": "code",
   "execution_count": null,
   "metadata": {
    "id": "8NcIbt-z4A9W"
   },
   "outputs": [],
   "source": [
    "model_SGD.compile(optimizer='SGD', loss='binary_crossentropy', metrics=['accuracy', Precision, Recall])"
   ]
  },
  {
   "cell_type": "code",
   "execution_count": null,
   "metadata": {
    "colab": {
     "base_uri": "https://localhost:8080/"
    },
    "id": "xHCLMdi658eh",
    "outputId": "dbab4db5-0994-4146-e190-65decbf27ff6"
   },
   "outputs": [
    {
     "name": "stdout",
     "output_type": "stream",
     "text": [
      "Epoch 1/20\n",
      "\u001b[1m251/251\u001b[0m \u001b[32m━━━━━━━━━━━━━━━━━━━━\u001b[0m\u001b[37m\u001b[0m \u001b[1m29s\u001b[0m 97ms/step - accuracy: 0.6097 - loss: 0.7465 - precision_1: 0.6137 - recall_1: 0.6194 - val_accuracy: 0.4918 - val_loss: 0.8252 - val_precision_1: 0.4846 - val_recall_1: 0.2480\n",
      "Epoch 2/20\n",
      "\u001b[1m251/251\u001b[0m \u001b[32m━━━━━━━━━━━━━━━━━━━━\u001b[0m\u001b[37m\u001b[0m \u001b[1m36s\u001b[0m 89ms/step - accuracy: 0.7268 - loss: 0.5351 - precision_1: 0.7249 - recall_1: 0.7420 - val_accuracy: 0.6752 - val_loss: 0.5996 - val_precision_1: 0.7718 - val_recall_1: 0.4980\n",
      "Epoch 3/20\n",
      "\u001b[1m251/251\u001b[0m \u001b[32m━━━━━━━━━━━━━━━━━━━━\u001b[0m\u001b[37m\u001b[0m \u001b[1m20s\u001b[0m 78ms/step - accuracy: 0.7802 - loss: 0.4567 - precision_1: 0.7852 - recall_1: 0.7809 - val_accuracy: 0.4998 - val_loss: 4.0410 - val_precision_1: 0.0000e+00 - val_recall_1: 0.0000e+00\n",
      "Epoch 4/20\n",
      "\u001b[1m251/251\u001b[0m \u001b[32m━━━━━━━━━━━━━━━━━━━━\u001b[0m\u001b[37m\u001b[0m \u001b[1m23s\u001b[0m 90ms/step - accuracy: 0.8406 - loss: 0.3724 - precision_1: 0.8435 - recall_1: 0.8391 - val_accuracy: 0.7138 - val_loss: 0.6091 - val_precision_1: 0.6714 - val_recall_1: 0.8379\n",
      "Epoch 5/20\n",
      "\u001b[1m251/251\u001b[0m \u001b[32m━━━━━━━━━━━━━━━━━━━━\u001b[0m\u001b[37m\u001b[0m \u001b[1m39s\u001b[0m 80ms/step - accuracy: 0.9017 - loss: 0.2327 - precision_1: 0.8998 - recall_1: 0.9059 - val_accuracy: 0.7509 - val_loss: 0.6458 - val_precision_1: 0.7810 - val_recall_1: 0.6976\n",
      "Epoch 6/20\n",
      "\u001b[1m251/251\u001b[0m \u001b[32m━━━━━━━━━━━━━━━━━━━━\u001b[0m\u001b[37m\u001b[0m \u001b[1m20s\u001b[0m 79ms/step - accuracy: 0.9417 - loss: 0.1592 - precision_1: 0.9447 - recall_1: 0.9401 - val_accuracy: 0.7173 - val_loss: 0.7144 - val_precision_1: 0.6818 - val_recall_1: 0.8152\n",
      "Epoch 7/20\n",
      "\u001b[1m251/251\u001b[0m \u001b[32m━━━━━━━━━━━━━━━━━━━━\u001b[0m\u001b[37m\u001b[0m \u001b[1m20s\u001b[0m 81ms/step - accuracy: 0.9626 - loss: 0.1024 - precision_1: 0.9632 - recall_1: 0.9622 - val_accuracy: 0.7563 - val_loss: 0.7728 - val_precision_1: 0.7712 - val_recall_1: 0.7292\n",
      "Epoch 8/20\n",
      "\u001b[1m251/251\u001b[0m \u001b[32m━━━━━━━━━━━━━━━━━━━━\u001b[0m\u001b[37m\u001b[0m \u001b[1m22s\u001b[0m 88ms/step - accuracy: 0.9784 - loss: 0.0631 - precision_1: 0.9765 - recall_1: 0.9810 - val_accuracy: 0.7603 - val_loss: 0.8365 - val_precision_1: 0.7526 - val_recall_1: 0.7757\n",
      "Epoch 9/20\n",
      "\u001b[1m251/251\u001b[0m \u001b[32m━━━━━━━━━━━━━━━━━━━━\u001b[0m\u001b[37m\u001b[0m \u001b[1m39s\u001b[0m 80ms/step - accuracy: 0.9805 - loss: 0.0522 - precision_1: 0.9788 - recall_1: 0.9827 - val_accuracy: 0.6456 - val_loss: 1.4747 - val_precision_1: 0.5949 - val_recall_1: 0.9140\n",
      "Epoch 10/20\n",
      "\u001b[1m251/251\u001b[0m \u001b[32m━━━━━━━━━━━━━━━━━━━━\u001b[0m\u001b[37m\u001b[0m \u001b[1m20s\u001b[0m 79ms/step - accuracy: 0.9860 - loss: 0.0495 - precision_1: 0.9842 - recall_1: 0.9880 - val_accuracy: 0.7514 - val_loss: 0.9390 - val_precision_1: 0.7278 - val_recall_1: 0.8034\n",
      "Epoch 11/20\n",
      "\u001b[1m251/251\u001b[0m \u001b[32m━━━━━━━━━━━━━━━━━━━━\u001b[0m\u001b[37m\u001b[0m \u001b[1m21s\u001b[0m 81ms/step - accuracy: 0.9948 - loss: 0.0198 - precision_1: 0.9939 - recall_1: 0.9960 - val_accuracy: 0.7242 - val_loss: 1.2572 - val_precision_1: 0.6799 - val_recall_1: 0.8478\n",
      "Epoch 12/20\n",
      "\u001b[1m251/251\u001b[0m \u001b[32m━━━━━━━━━━━━━━━━━━━━\u001b[0m\u001b[37m\u001b[0m \u001b[1m40s\u001b[0m 78ms/step - accuracy: 0.9934 - loss: 0.0185 - precision_1: 0.9919 - recall_1: 0.9952 - val_accuracy: 0.7311 - val_loss: 1.1838 - val_precision_1: 0.6759 - val_recall_1: 0.8883\n",
      "Epoch 13/20\n",
      "\u001b[1m251/251\u001b[0m \u001b[32m━━━━━━━━━━━━━━━━━━━━\u001b[0m\u001b[37m\u001b[0m \u001b[1m21s\u001b[0m 82ms/step - accuracy: 0.9948 - loss: 0.0185 - precision_1: 0.9930 - recall_1: 0.9967 - val_accuracy: 0.7523 - val_loss: 1.1876 - val_precision_1: 0.7464 - val_recall_1: 0.7648\n",
      "Epoch 14/20\n",
      "\u001b[1m251/251\u001b[0m \u001b[32m━━━━━━━━━━━━━━━━━━━━\u001b[0m\u001b[37m\u001b[0m \u001b[1m41s\u001b[0m 83ms/step - accuracy: 0.9955 - loss: 0.0145 - precision_1: 0.9956 - recall_1: 0.9954 - val_accuracy: 0.7390 - val_loss: 1.0400 - val_precision_1: 0.7608 - val_recall_1: 0.6976\n",
      "Epoch 15/20\n",
      "\u001b[1m251/251\u001b[0m \u001b[32m━━━━━━━━━━━━━━━━━━━━\u001b[0m\u001b[37m\u001b[0m \u001b[1m21s\u001b[0m 83ms/step - accuracy: 0.9958 - loss: 0.0139 - precision_1: 0.9960 - recall_1: 0.9957 - val_accuracy: 0.7563 - val_loss: 1.1516 - val_precision_1: 0.7746 - val_recall_1: 0.7233\n",
      "Epoch 16/20\n",
      "\u001b[1m251/251\u001b[0m \u001b[32m━━━━━━━━━━━━━━━━━━━━\u001b[0m\u001b[37m\u001b[0m \u001b[1m20s\u001b[0m 78ms/step - accuracy: 0.9934 - loss: 0.0201 - precision_1: 0.9928 - recall_1: 0.9940 - val_accuracy: 0.7573 - val_loss: 1.0260 - val_precision_1: 0.7498 - val_recall_1: 0.7727\n",
      "Epoch 17/20\n",
      "\u001b[1m251/251\u001b[0m \u001b[32m━━━━━━━━━━━━━━━━━━━━\u001b[0m\u001b[37m\u001b[0m \u001b[1m23s\u001b[0m 90ms/step - accuracy: 0.9945 - loss: 0.0155 - precision_1: 0.9941 - recall_1: 0.9949 - val_accuracy: 0.7617 - val_loss: 1.1035 - val_precision_1: 0.7524 - val_recall_1: 0.7806\n",
      "Epoch 18/20\n",
      "\u001b[1m251/251\u001b[0m \u001b[32m━━━━━━━━━━━━━━━━━━━━\u001b[0m\u001b[37m\u001b[0m \u001b[1m38s\u001b[0m 79ms/step - accuracy: 0.9974 - loss: 0.0084 - precision_1: 0.9975 - recall_1: 0.9974 - val_accuracy: 0.7632 - val_loss: 1.1128 - val_precision_1: 0.7706 - val_recall_1: 0.7500\n",
      "Epoch 19/20\n",
      "\u001b[1m251/251\u001b[0m \u001b[32m━━━━━━━━━━━━━━━━━━━━\u001b[0m\u001b[37m\u001b[0m \u001b[1m21s\u001b[0m 83ms/step - accuracy: 0.9971 - loss: 0.0094 - precision_1: 0.9973 - recall_1: 0.9970 - val_accuracy: 0.7642 - val_loss: 1.1294 - val_precision_1: 0.7749 - val_recall_1: 0.7451\n",
      "Epoch 20/20\n",
      "\u001b[1m251/251\u001b[0m \u001b[32m━━━━━━━━━━━━━━━━━━━━\u001b[0m\u001b[37m\u001b[0m \u001b[1m40s\u001b[0m 81ms/step - accuracy: 0.9956 - loss: 0.0114 - precision_1: 0.9954 - recall_1: 0.9958 - val_accuracy: 0.7692 - val_loss: 1.1867 - val_precision_1: 0.7733 - val_recall_1: 0.7619\n"
     ]
    }
   ],
   "source": [
    "history_SGD = model_SGD.fit(train_ds, epochs=20, validation_data=validation_ds)"
   ]
  },
  {
   "cell_type": "markdown",
   "metadata": {},
   "source": [
    "# Plotting the results to visualize model performance."
   ]
  },
  {
   "cell_type": "code",
   "execution_count": null,
   "metadata": {
    "colab": {
     "base_uri": "https://localhost:8080/",
     "height": 472
    },
    "id": "CMswuQ9w8GnK",
    "outputId": "d709c78f-f96f-4d1f-a569-973e6f4f9614"
   },
   "outputs": [
    {
     "data": {
      "image/png": "[encoded data removed]",
      "text/plain": [
       "<Figure size 640x480 with 1 Axes>"
      ]
     },
     "metadata": {},
     "output_type": "display_data"
    }
   ],
   "source": [
    "import matplotlib.pyplot as plt\n",
    "plt.plot(history_SGD.history['accuracy'], color='red', label='train')\n",
    "plt.plot(history_SGD.history['val_accuracy'], color='blue', label='validation')\n",
    "plt.title('model accuracy for SGD')\n",
    "plt.ylabel('accuracy')\n",
    "plt.xlabel('epoch')\n",
    "plt.legend()\n",
    "plt.show()"
   ]
  },
  {
   "cell_type": "markdown",
   "metadata": {},
   "source": [
    "# Plotting the results to visualize model performance."
   ]
  },
  {
   "cell_type": "code",
   "execution_count": null,
   "metadata": {
    "colab": {
     "base_uri": "https://localhost:8080/",
     "height": 472
    },
    "id": "QBA1DP_e8Gux",
    "outputId": "70665040-92da-4b83-bc47-ebfe58c82bbe"
   },
   "outputs": [
    {
     "data": {
      "image/png": "[encoded data removed]",
      "text/plain": [
       "<Figure size 640x480 with 1 Axes>"
      ]
     },
     "metadata": {},
     "output_type": "display_data"
    }
   ],
   "source": [
    "plt.plot(history_SGD.history['loss'], color='red', label='train')\n",
    "plt.plot(history_SGD.history['val_loss'], color='blue', label='validation')\n",
    "plt.title('model loss for SGD')\n",
    "plt.ylabel('loss')\n",
    "plt.xlabel('epoch')\n",
    "plt.legend()\n",
    "plt.show()"
   ]
  },
  {
   "cell_type": "markdown",
   "metadata": {
    "id": "jR20XD8f4jTv"
   },
   "source": [
    "# Model with Adagrad"
   ]
  },
  {
   "cell_type": "code",
   "execution_count": null,
   "metadata": {
    "id": "-RFlWPeV-eoE"
   },
   "outputs": [],
   "source": [
    "model_adagrad = get_model()"
   ]
  },
  {
   "cell_type": "code",
   "execution_count": null,
   "metadata": {
    "id": "Plw_ep6n4qsj"
   },
   "outputs": [],
   "source": [
    "model_adagrad.compile(optimizer='Adagrad', loss='binary_crossentropy', metrics=['accuracy', Precision, Recall])"
   ]
  },
  {
   "cell_type": "code",
   "execution_count": null,
   "metadata": {
    "colab": {
     "base_uri": "https://localhost:8080/"
    },
    "id": "S7DUpIQqAiEF",
    "outputId": "43f6538f-4531-4ced-c043-c667c2574147"
   },
   "outputs": [
    {
     "name": "stdout",
     "output_type": "stream",
     "text": [
      "Epoch 1/20\n",
      "\u001b[1m251/251\u001b[0m \u001b[32m━━━━━━━━━━━━━━━━━━━━\u001b[0m\u001b[37m\u001b[0m \u001b[1m31s\u001b[0m 104ms/step - accuracy: 0.6137 - loss: 0.6903 - precision_2: 0.6258 - recall_2: 0.5809 - val_accuracy: 0.4998 - val_loss: 1.8179 - val_precision_2: 0.0000e+00 - val_recall_2: 0.0000e+00\n",
      "Epoch 2/20\n",
      "\u001b[1m251/251\u001b[0m \u001b[32m━━━━━━━━━━━━━━━━━━━━\u001b[0m\u001b[37m\u001b[0m \u001b[1m20s\u001b[0m 81ms/step - accuracy: 0.7742 - loss: 0.4753 - precision_2: 0.7777 - recall_2: 0.7771 - val_accuracy: 0.6298 - val_loss: 0.7996 - val_precision_2: 0.8544 - val_recall_2: 0.3132\n",
      "Epoch 3/20\n",
      "\u001b[1m251/251\u001b[0m \u001b[32m━━━━━━━━━━━━━━━━━━━━\u001b[0m\u001b[37m\u001b[0m \u001b[1m20s\u001b[0m 79ms/step - accuracy: 0.8594 - loss: 0.3340 - precision_2: 0.8677 - recall_2: 0.8533 - val_accuracy: 0.7598 - val_loss: 0.5006 - val_precision_2: 0.7667 - val_recall_2: 0.7470\n",
      "Epoch 4/20\n",
      "\u001b[1m251/251\u001b[0m \u001b[32m━━━━━━━━━━━━━━━━━━━━\u001b[0m\u001b[37m\u001b[0m \u001b[1m21s\u001b[0m 80ms/step - accuracy: 0.9203 - loss: 0.2123 - precision_2: 0.9251 - recall_2: 0.9168 - val_accuracy: 0.7662 - val_loss: 0.5297 - val_precision_2: 0.7640 - val_recall_2: 0.7708\n",
      "Epoch 5/20\n",
      "\u001b[1m251/251\u001b[0m \u001b[32m━━━━━━━━━━━━━━━━━━━━\u001b[0m\u001b[37m\u001b[0m \u001b[1m23s\u001b[0m 89ms/step - accuracy: 0.9551 - loss: 0.1425 - precision_2: 0.9585 - recall_2: 0.9521 - val_accuracy: 0.7390 - val_loss: 0.6259 - val_precision_2: 0.7944 - val_recall_2: 0.6453\n",
      "Epoch 6/20\n",
      "\u001b[1m251/251\u001b[0m \u001b[32m━━━━━━━━━━━━━━━━━━━━\u001b[0m\u001b[37m\u001b[0m \u001b[1m21s\u001b[0m 82ms/step - accuracy: 0.9755 - loss: 0.1001 - precision_2: 0.9782 - recall_2: 0.9730 - val_accuracy: 0.7820 - val_loss: 0.5317 - val_precision_2: 0.8021 - val_recall_2: 0.7490\n",
      "Epoch 7/20\n",
      "\u001b[1m251/251\u001b[0m \u001b[32m━━━━━━━━━━━━━━━━━━━━\u001b[0m\u001b[37m\u001b[0m \u001b[1m41s\u001b[0m 82ms/step - accuracy: 0.9850 - loss: 0.0653 - precision_2: 0.9894 - recall_2: 0.9807 - val_accuracy: 0.7776 - val_loss: 0.5579 - val_precision_2: 0.7927 - val_recall_2: 0.7520\n",
      "Epoch 8/20\n",
      "\u001b[1m251/251\u001b[0m \u001b[32m━━━━━━━━━━━━━━━━━━━━\u001b[0m\u001b[37m\u001b[0m \u001b[1m20s\u001b[0m 80ms/step - accuracy: 0.9895 - loss: 0.0484 - precision_2: 0.9905 - recall_2: 0.9887 - val_accuracy: 0.7820 - val_loss: 0.5673 - val_precision_2: 0.7875 - val_recall_2: 0.7727\n",
      "Epoch 9/20\n",
      "\u001b[1m251/251\u001b[0m \u001b[32m━━━━━━━━━━━━━━━━━━━━\u001b[0m\u001b[37m\u001b[0m \u001b[1m21s\u001b[0m 81ms/step - accuracy: 0.9928 - loss: 0.0387 - precision_2: 0.9925 - recall_2: 0.9934 - val_accuracy: 0.7860 - val_loss: 0.5959 - val_precision_2: 0.7969 - val_recall_2: 0.7678\n",
      "Epoch 10/20\n",
      "\u001b[1m251/251\u001b[0m \u001b[32m━━━━━━━━━━━━━━━━━━━━\u001b[0m\u001b[37m\u001b[0m \u001b[1m40s\u001b[0m 79ms/step - accuracy: 0.9956 - loss: 0.0296 - precision_2: 0.9961 - recall_2: 0.9949 - val_accuracy: 0.7830 - val_loss: 0.5978 - val_precision_2: 0.7834 - val_recall_2: 0.7826\n",
      "Epoch 11/20\n",
      "\u001b[1m251/251\u001b[0m \u001b[32m━━━━━━━━━━━━━━━━━━━━\u001b[0m\u001b[37m\u001b[0m \u001b[1m24s\u001b[0m 92ms/step - accuracy: 0.9967 - loss: 0.0233 - precision_2: 0.9965 - recall_2: 0.9970 - val_accuracy: 0.7667 - val_loss: 0.6533 - val_precision_2: 0.7473 - val_recall_2: 0.8063\n",
      "Epoch 12/20\n",
      "\u001b[1m251/251\u001b[0m \u001b[32m━━━━━━━━━━━━━━━━━━━━\u001b[0m\u001b[37m\u001b[0m \u001b[1m38s\u001b[0m 79ms/step - accuracy: 0.9966 - loss: 0.0217 - precision_2: 0.9966 - recall_2: 0.9966 - val_accuracy: 0.7751 - val_loss: 0.6641 - val_precision_2: 0.7437 - val_recall_2: 0.8399\n",
      "Epoch 13/20\n",
      "\u001b[1m251/251\u001b[0m \u001b[32m━━━━━━━━━━━━━━━━━━━━\u001b[0m\u001b[37m\u001b[0m \u001b[1m21s\u001b[0m 83ms/step - accuracy: 0.9987 - loss: 0.0156 - precision_2: 0.9988 - recall_2: 0.9987 - val_accuracy: 0.7909 - val_loss: 0.6233 - val_precision_2: 0.8027 - val_recall_2: 0.7717\n",
      "Epoch 14/20\n",
      "\u001b[1m251/251\u001b[0m \u001b[32m━━━━━━━━━━━━━━━━━━━━\u001b[0m\u001b[37m\u001b[0m \u001b[1m23s\u001b[0m 91ms/step - accuracy: 0.9988 - loss: 0.0143 - precision_2: 0.9995 - recall_2: 0.9981 - val_accuracy: 0.7785 - val_loss: 0.6299 - val_precision_2: 0.7872 - val_recall_2: 0.7638\n",
      "Epoch 15/20\n",
      "\u001b[1m251/251\u001b[0m \u001b[32m━━━━━━━━━━━━━━━━━━━━\u001b[0m\u001b[37m\u001b[0m \u001b[1m41s\u001b[0m 90ms/step - accuracy: 0.9991 - loss: 0.0119 - precision_2: 0.9986 - recall_2: 0.9997 - val_accuracy: 0.7934 - val_loss: 0.6458 - val_precision_2: 0.8049 - val_recall_2: 0.7747\n",
      "Epoch 16/20\n",
      "\u001b[1m251/251\u001b[0m \u001b[32m━━━━━━━━━━━━━━━━━━━━\u001b[0m\u001b[37m\u001b[0m \u001b[1m23s\u001b[0m 91ms/step - accuracy: 0.9993 - loss: 0.0103 - precision_2: 0.9990 - recall_2: 0.9996 - val_accuracy: 0.7904 - val_loss: 0.6540 - val_precision_2: 0.7865 - val_recall_2: 0.7974\n",
      "Epoch 17/20\n",
      "\u001b[1m251/251\u001b[0m \u001b[32m━━━━━━━━━━━━━━━━━━━━\u001b[0m\u001b[37m\u001b[0m \u001b[1m20s\u001b[0m 80ms/step - accuracy: 0.9995 - loss: 0.0092 - precision_2: 0.9996 - recall_2: 0.9993 - val_accuracy: 0.7884 - val_loss: 0.6610 - val_precision_2: 0.8140 - val_recall_2: 0.7480\n",
      "Epoch 18/20\n",
      "\u001b[1m251/251\u001b[0m \u001b[32m━━━━━━━━━━━━━━━━━━━━\u001b[0m\u001b[37m\u001b[0m \u001b[1m21s\u001b[0m 83ms/step - accuracy: 0.9996 - loss: 0.0085 - precision_2: 0.9997 - recall_2: 0.9994 - val_accuracy: 0.7929 - val_loss: 0.6724 - val_precision_2: 0.8262 - val_recall_2: 0.7421\n",
      "Epoch 19/20\n",
      "\u001b[1m251/251\u001b[0m \u001b[32m━━━━━━━━━━━━━━━━━━━━\u001b[0m\u001b[37m\u001b[0m \u001b[1m40s\u001b[0m 82ms/step - accuracy: 0.9987 - loss: 0.0105 - precision_2: 0.9991 - recall_2: 0.9982 - val_accuracy: 0.7904 - val_loss: 0.6699 - val_precision_2: 0.7838 - val_recall_2: 0.8024\n",
      "Epoch 20/20\n",
      "\u001b[1m251/251\u001b[0m \u001b[32m━━━━━━━━━━━━━━━━━━━━\u001b[0m\u001b[37m\u001b[0m \u001b[1m20s\u001b[0m 79ms/step - accuracy: 0.9995 - loss: 0.0079 - precision_2: 0.9994 - recall_2: 0.9997 - val_accuracy: 0.7909 - val_loss: 0.6864 - val_precision_2: 0.7845 - val_recall_2: 0.8024\n"
     ]
    }
   ],
   "source": [
    "history_Adagrad = model_adagrad.fit(train_ds, epochs=20, validation_data=validation_ds)"
   ]
  },
  {
   "cell_type": "markdown",
   "metadata": {},
   "source": [
    "# Plotting the results to visualize model performance."
   ]
  },
  {
   "cell_type": "code",
   "execution_count": null,
   "metadata": {
    "colab": {
     "base_uri": "https://localhost:8080/",
     "height": 472
    },
    "id": "ckbnDIf68Yyv",
    "outputId": "433aaa86-0649-42d2-8a37-5d5b7788cd8f"
   },
   "outputs": [
    {
     "data": {
      "image/png": "[encoded data removed]",
      "text/plain": [
       "<Figure size 640x480 with 1 Axes>"
      ]
     },
     "metadata": {},
     "output_type": "display_data"
    }
   ],
   "source": [
    "import matplotlib.pyplot as plt\n",
    "plt.plot(history_Adagrad.history['accuracy'], color='red', label='train')\n",
    "plt.plot(history_Adagrad.history['val_accuracy'], color='blue', label='validation')\n",
    "plt.title('model accuracy for Adagrad')\n",
    "plt.ylabel('accuracy')\n",
    "plt.xlabel('epoch')\n",
    "plt.legend()\n",
    "plt.show()"
   ]
  },
  {
   "cell_type": "code",
   "execution_count": null,
   "metadata": {
    "colab": {
     "base_uri": "https://localhost:8080/",
     "height": 472
    },
    "id": "e5lnVq8b8Y11",
    "outputId": "0a9a0519-e710-4acb-cd62-868244584397"
   },
   "outputs": [
    {
     "data": {
      "image/png": "[encoded data removed]",
      "text/plain": [
       "<Figure size 640x480 with 1 Axes>"
      ]
     },
     "metadata": {},
     "output_type": "display_data"
    }
   ],
   "source": [
    "plt.plot(history_Adagrad.history['loss'], color='red', label='train')\n",
    "plt.plot(history_Adagrad.history['val_loss'], color='blue', label='validation')\n",
    "plt.title('model loss for Adagrad')\n",
    "plt.ylabel('loss')\n",
    "plt.xlabel('epoch')\n",
    "plt.legend()\n",
    "plt.show()"
   ]
  },
  {
   "cell_type": "markdown",
   "metadata": {
    "id": "sCIjyPO5mkMJ"
   },
   "source": [
    "# Model with Nadam"
   ]
  },
  {
   "cell_type": "code",
   "execution_count": null,
   "metadata": {
    "id": "Vp83K4Dr_SPW"
   },
   "outputs": [],
   "source": [
    "model_nadam = get_model()"
   ]
  },
  {
   "cell_type": "code",
   "execution_count": null,
   "metadata": {
    "id": "clpPh6tRnk14"
   },
   "outputs": [],
   "source": [
    "model_nadam.compile(optimizer='Nadam', loss='binary_crossentropy', metrics=['accuracy', Precision, Recall])"
   ]
  },
  {
   "cell_type": "code",
   "execution_count": null,
   "metadata": {
    "colab": {
     "base_uri": "https://localhost:8080/"
    },
    "id": "O0y7z4kwn2eE",
    "outputId": "68cf559d-bef6-4703-a5eb-c040350cb1ae"
   },
   "outputs": [
    {
     "name": "stdout",
     "output_type": "stream",
     "text": [
      "Epoch 1/20\n",
      "\u001b[1m251/251\u001b[0m \u001b[32m━━━━━━━━━━━━━━━━━━━━\u001b[0m\u001b[37m\u001b[0m \u001b[1m34s\u001b[0m 107ms/step - accuracy: 0.5554 - loss: 2.6314 - precision_3: 0.5603 - recall_3: 0.5621 - val_accuracy: 0.5067 - val_loss: 0.8102 - val_precision_3: 0.5233 - val_recall_3: 0.1551\n",
      "Epoch 2/20\n",
      "\u001b[1m251/251\u001b[0m \u001b[32m━━━━━━━━━━━━━━━━━━━━\u001b[0m\u001b[37m\u001b[0m \u001b[1m21s\u001b[0m 82ms/step - accuracy: 0.5630 - loss: 0.6822 - precision_3: 0.7472 - recall_3: 0.2043 - val_accuracy: 0.5166 - val_loss: 0.6869 - val_precision_3: 0.6574 - val_recall_3: 0.0702\n",
      "Epoch 3/20\n",
      "\u001b[1m251/251\u001b[0m \u001b[32m━━━━━━━━━━━━━━━━━━━━\u001b[0m\u001b[37m\u001b[0m \u001b[1m20s\u001b[0m 80ms/step - accuracy: 0.5853 - loss: 0.6563 - precision_3: 0.8086 - recall_3: 0.2405 - val_accuracy: 0.5803 - val_loss: 0.6671 - val_precision_3: 0.9553 - val_recall_3: 0.1690\n",
      "Epoch 4/20\n",
      "\u001b[1m251/251\u001b[0m \u001b[32m━━━━━━━━━━━━━━━━━━━━\u001b[0m\u001b[37m\u001b[0m \u001b[1m21s\u001b[0m 83ms/step - accuracy: 0.6154 - loss: 0.6307 - precision_3: 0.8232 - recall_3: 0.3047 - val_accuracy: 0.6209 - val_loss: 0.7282 - val_precision_3: 0.6081 - val_recall_3: 0.6808\n",
      "Epoch 5/20\n",
      "\u001b[1m251/251\u001b[0m \u001b[32m━━━━━━━━━━━━━━━━━━━━\u001b[0m\u001b[37m\u001b[0m \u001b[1m23s\u001b[0m 91ms/step - accuracy: 0.6396 - loss: 0.6847 - precision_3: 0.7975 - recall_3: 0.3907 - val_accuracy: 0.6332 - val_loss: 0.6377 - val_precision_3: 0.7184 - val_recall_3: 0.4387\n",
      "Epoch 6/20\n",
      "\u001b[1m251/251\u001b[0m \u001b[32m━━━━━━━━━━━━━━━━━━━━\u001b[0m\u001b[37m\u001b[0m \u001b[1m20s\u001b[0m 80ms/step - accuracy: 0.6558 - loss: 0.6206 - precision_3: 0.7649 - recall_3: 0.4641 - val_accuracy: 0.6802 - val_loss: 0.6829 - val_precision_3: 0.6868 - val_recall_3: 0.6630\n",
      "Epoch 7/20\n",
      "\u001b[1m251/251\u001b[0m \u001b[32m━━━━━━━━━━━━━━━━━━━━\u001b[0m\u001b[37m\u001b[0m \u001b[1m22s\u001b[0m 87ms/step - accuracy: 0.6995 - loss: 0.5906 - precision_3: 0.7793 - recall_3: 0.5648 - val_accuracy: 0.6288 - val_loss: 1.2439 - val_precision_3: 0.5928 - val_recall_3: 0.8241\n",
      "Epoch 8/20\n",
      "\u001b[1m251/251\u001b[0m \u001b[32m━━━━━━━━━━━━━━━━━━━━\u001b[0m\u001b[37m\u001b[0m \u001b[1m40s\u001b[0m 83ms/step - accuracy: 0.6948 - loss: 0.5791 - precision_3: 0.8128 - recall_3: 0.5154 - val_accuracy: 0.6915 - val_loss: 0.6688 - val_precision_3: 0.6567 - val_recall_3: 0.8034\n",
      "Epoch 9/20\n",
      "\u001b[1m251/251\u001b[0m \u001b[32m━━━━━━━━━━━━━━━━━━━━\u001b[0m\u001b[37m\u001b[0m \u001b[1m40s\u001b[0m 81ms/step - accuracy: 0.7336 - loss: 0.5490 - precision_3: 0.8009 - recall_3: 0.6316 - val_accuracy: 0.7059 - val_loss: 0.5810 - val_precision_3: 0.7957 - val_recall_3: 0.5543\n",
      "Epoch 10/20\n",
      "\u001b[1m251/251\u001b[0m \u001b[32m━━━━━━━━━━━━━━━━━━━━\u001b[0m\u001b[37m\u001b[0m \u001b[1m21s\u001b[0m 83ms/step - accuracy: 0.7446 - loss: 0.5369 - precision_3: 0.8041 - recall_3: 0.6552 - val_accuracy: 0.6639 - val_loss: 0.6411 - val_precision_3: 0.6797 - val_recall_3: 0.6206\n",
      "Epoch 11/20\n",
      "\u001b[1m251/251\u001b[0m \u001b[32m━━━━━━━━━━━━━━━━━━━━\u001b[0m\u001b[37m\u001b[0m \u001b[1m21s\u001b[0m 84ms/step - accuracy: 0.7428 - loss: 0.5243 - precision_3: 0.7733 - recall_3: 0.6952 - val_accuracy: 0.7177 - val_loss: 0.5675 - val_precision_3: 0.7143 - val_recall_3: 0.7263\n",
      "Epoch 12/20\n",
      "\u001b[1m251/251\u001b[0m \u001b[32m━━━━━━━━━━━━━━━━━━━━\u001b[0m\u001b[37m\u001b[0m \u001b[1m23s\u001b[0m 92ms/step - accuracy: 0.7597 - loss: 0.4987 - precision_3: 0.8049 - recall_3: 0.6944 - val_accuracy: 0.6461 - val_loss: 0.6553 - val_precision_3: 0.8426 - val_recall_3: 0.3597\n",
      "Epoch 13/20\n",
      "\u001b[1m251/251\u001b[0m \u001b[32m━━━━━━━━━━━━━━━━━━━━\u001b[0m\u001b[37m\u001b[0m \u001b[1m38s\u001b[0m 81ms/step - accuracy: 0.7597 - loss: 0.5069 - precision_3: 0.7784 - recall_3: 0.7372 - val_accuracy: 0.6955 - val_loss: 0.6627 - val_precision_3: 0.7240 - val_recall_3: 0.6324\n",
      "Epoch 14/20\n",
      "\u001b[1m251/251\u001b[0m \u001b[32m━━━━━━━━━━━━━━━━━━━━\u001b[0m\u001b[37m\u001b[0m \u001b[1m24s\u001b[0m 93ms/step - accuracy: 0.7475 - loss: 0.5257 - precision_3: 0.7970 - recall_3: 0.6736 - val_accuracy: 0.6757 - val_loss: 0.5978 - val_precision_3: 0.6348 - val_recall_3: 0.8281\n",
      "Epoch 15/20\n",
      "\u001b[1m251/251\u001b[0m \u001b[32m━━━━━━━━━━━━━━━━━━━━\u001b[0m\u001b[37m\u001b[0m \u001b[1m40s\u001b[0m 91ms/step - accuracy: 0.7375 - loss: 0.5292 - precision_3: 0.7537 - recall_3: 0.7154 - val_accuracy: 0.7177 - val_loss: 0.7310 - val_precision_3: 0.7591 - val_recall_3: 0.6383\n",
      "Epoch 16/20\n",
      "\u001b[1m251/251\u001b[0m \u001b[32m━━━━━━━━━━━━━━━━━━━━\u001b[0m\u001b[37m\u001b[0m \u001b[1m40s\u001b[0m 86ms/step - accuracy: 0.7695 - loss: 0.4947 - precision_3: 0.8051 - recall_3: 0.7201 - val_accuracy: 0.7153 - val_loss: 0.6743 - val_precision_3: 0.6767 - val_recall_3: 0.8251\n",
      "Epoch 17/20\n",
      "\u001b[1m251/251\u001b[0m \u001b[32m━━━━━━━━━━━━━━━━━━━━\u001b[0m\u001b[37m\u001b[0m \u001b[1m23s\u001b[0m 92ms/step - accuracy: 0.8018 - loss: 0.4401 - precision_3: 0.8347 - recall_3: 0.7581 - val_accuracy: 0.7430 - val_loss: 0.5158 - val_precision_3: 0.7674 - val_recall_3: 0.6976\n",
      "Epoch 18/20\n",
      "\u001b[1m251/251\u001b[0m \u001b[32m━━━━━━━━━━━━━━━━━━━━\u001b[0m\u001b[37m\u001b[0m \u001b[1m39s\u001b[0m 84ms/step - accuracy: 0.8122 - loss: 0.4277 - precision_3: 0.8342 - recall_3: 0.7863 - val_accuracy: 0.6644 - val_loss: 0.6605 - val_precision_3: 0.6470 - val_recall_3: 0.7243\n",
      "Epoch 19/20\n",
      "\u001b[1m251/251\u001b[0m \u001b[32m━━━━━━━━━━━━━━━━━━━━\u001b[0m\u001b[37m\u001b[0m \u001b[1m44s\u001b[0m 94ms/step - accuracy: 0.8131 - loss: 0.4193 - precision_3: 0.8383 - recall_3: 0.7810 - val_accuracy: 0.6574 - val_loss: 0.7341 - val_precision_3: 0.6056 - val_recall_3: 0.9042\n",
      "Epoch 20/20\n",
      "\u001b[1m251/251\u001b[0m \u001b[32m━━━━━━━━━━━━━━━━━━━━\u001b[0m\u001b[37m\u001b[0m \u001b[1m23s\u001b[0m 92ms/step - accuracy: 0.8218 - loss: 0.4107 - precision_3: 0.8500 - recall_3: 0.7871 - val_accuracy: 0.7034 - val_loss: 0.6348 - val_precision_3: 0.6661 - val_recall_3: 0.8162\n"
     ]
    }
   ],
   "source": [
    "history_Nadam = model_nadam.fit(train_ds, epochs=20, validation_data=validation_ds)"
   ]
  },
  {
   "cell_type": "markdown",
   "metadata": {},
   "source": [
    "# Plotting the results to visualize model performance."
   ]
  },
  {
   "cell_type": "code",
   "execution_count": null,
   "metadata": {
    "colab": {
     "base_uri": "https://localhost:8080/",
     "height": 472
    },
    "id": "SN9zyr6poCV3",
    "outputId": "f8b7f1df-c1bc-40e1-eac4-de5f5bc04e4b"
   },
   "outputs": [
    {
     "data": {
      "image/png": "[encoded data removed]",
      "text/plain": [
       "<Figure size 640x480 with 1 Axes>"
      ]
     },
     "metadata": {},
     "output_type": "display_data"
    }
   ],
   "source": [
    "import matplotlib.pyplot as plt\n",
    "plt.plot(history_Nadam.history['accuracy'], color='red', label='train')\n",
    "plt.plot(history_Nadam.history['val_accuracy'], color='blue', label='validation')\n",
    "plt.title('model accuracy for Nadam')\n",
    "plt.ylabel('accuracy')\n",
    "plt.xlabel('epoch')\n",
    "plt.legend()\n",
    "plt.show()"
   ]
  },
  {
   "cell_type": "code",
   "execution_count": null,
   "metadata": {
    "colab": {
     "base_uri": "https://localhost:8080/",
     "height": 472
    },
    "id": "v0s_NfnxoG5Z",
    "outputId": "49f57b69-2d76-4d28-a80a-443d4ce45c5d"
   },
   "outputs": [
    {
     "data": {
      "image/png": "[encoded data removed]",
      "text/plain": [
       "<Figure size 640x480 with 1 Axes>"
      ]
     },
     "metadata": {},
     "output_type": "display_data"
    }
   ],
   "source": [
    "plt.plot(history_Nadam.history['loss'], color='red', label='train')\n",
    "plt.plot(history_Nadam.history['val_loss'], color='blue', label='validation')\n",
    "plt.title('model loss for Nadam')\n",
    "plt.ylabel('loss')\n",
    "plt.xlabel('epoch')\n",
    "plt.legend()\n",
    "plt.show()"
   ]
  },
  {
   "cell_type": "markdown",
   "metadata": {
    "id": "c5yH8EoPmoee"
   },
   "source": [
    "# Model with RMSprop"
   ]
  },
  {
   "cell_type": "code",
   "execution_count": null,
   "metadata": {
    "id": "sRvG8ca8A_QJ"
   },
   "outputs": [],
   "source": [
    "model_rmsprop = get_model()"
   ]
  },
  {
   "cell_type": "code",
   "execution_count": null,
   "metadata": {
    "colab": {
     "base_uri": "https://localhost:8080/"
    },
    "id": "BUqCHu0gooHD",
    "outputId": "f56718c0-eab3-404f-d2f8-a50681ae97a9"
   },
   "outputs": [
    {
     "name": "stdout",
     "output_type": "stream",
     "text": [
      "Epoch 1/20\n",
      "\u001b[1m251/251\u001b[0m \u001b[32m━━━━━━━━━━━━━━━━━━━━\u001b[0m\u001b[37m\u001b[0m \u001b[1m29s\u001b[0m 96ms/step - accuracy: 0.5454 - loss: 5.5327 - precision_4: 0.5502 - recall_4: 0.5558 - val_accuracy: 0.5017 - val_loss: 4.5716 - val_precision_4: 0.6667 - val_recall_4: 0.0079\n",
      "Epoch 2/20\n",
      "\u001b[1m251/251\u001b[0m \u001b[32m━━━━━━━━━━━━━━━━━━━━\u001b[0m\u001b[37m\u001b[0m \u001b[1m34s\u001b[0m 83ms/step - accuracy: 0.5167 - loss: 0.7847 - precision_4: 0.5310 - recall_4: 0.4248 - val_accuracy: 0.5531 - val_loss: 0.9155 - val_precision_4: 0.5443 - val_recall_4: 0.6551\n",
      "Epoch 3/20\n",
      "\u001b[1m251/251\u001b[0m \u001b[32m━━━━━━━━━━━━━━━━━━━━\u001b[0m\u001b[37m\u001b[0m \u001b[1m20s\u001b[0m 81ms/step - accuracy: 0.5365 - loss: 0.7359 - precision_4: 0.5238 - recall_4: 0.9192 - val_accuracy: 0.5437 - val_loss: 0.9867 - val_precision_4: 0.5244 - val_recall_4: 0.9466\n",
      "Epoch 4/20\n",
      "\u001b[1m251/251\u001b[0m \u001b[32m━━━━━━━━━━━━━━━━━━━━\u001b[0m\u001b[37m\u001b[0m \u001b[1m21s\u001b[0m 81ms/step - accuracy: 0.5818 - loss: 0.6956 - precision_4: 0.5529 - recall_4: 0.8985 - val_accuracy: 0.6426 - val_loss: 0.7760 - val_precision_4: 0.7050 - val_recall_4: 0.4911\n",
      "Epoch 5/20\n",
      "\u001b[1m251/251\u001b[0m \u001b[32m━━━━━━━━━━━━━━━━━━━━\u001b[0m\u001b[37m\u001b[0m \u001b[1m40s\u001b[0m 79ms/step - accuracy: 0.6648 - loss: 0.6129 - precision_4: 0.6458 - recall_4: 0.7632 - val_accuracy: 0.5299 - val_loss: 1.2710 - val_precision_4: 0.8427 - val_recall_4: 0.0741\n",
      "Epoch 6/20\n",
      "\u001b[1m251/251\u001b[0m \u001b[32m━━━━━━━━━━━━━━━━━━━━\u001b[0m\u001b[37m\u001b[0m \u001b[1m22s\u001b[0m 85ms/step - accuracy: 0.7231 - loss: 0.5421 - precision_4: 0.8074 - recall_4: 0.5970 - val_accuracy: 0.5250 - val_loss: 0.6514 - val_precision_4: 0.8696 - val_recall_4: 0.0593\n",
      "Epoch 7/20\n",
      "\u001b[1m251/251\u001b[0m \u001b[32m━━━━━━━━━━━━━━━━━━━━\u001b[0m\u001b[37m\u001b[0m \u001b[1m42s\u001b[0m 89ms/step - accuracy: 0.7682 - loss: 0.4712 - precision_4: 0.8503 - recall_4: 0.6587 - val_accuracy: 0.7000 - val_loss: 0.6372 - val_precision_4: 0.6942 - val_recall_4: 0.7154\n",
      "Epoch 8/20\n",
      "\u001b[1m251/251\u001b[0m \u001b[32m━━━━━━━━━━━━━━━━━━━━\u001b[0m\u001b[37m\u001b[0m \u001b[1m21s\u001b[0m 82ms/step - accuracy: 0.7880 - loss: 0.4149 - precision_4: 0.8699 - recall_4: 0.6827 - val_accuracy: 0.6579 - val_loss: 0.6493 - val_precision_4: 0.8042 - val_recall_4: 0.4180\n",
      "Epoch 9/20\n",
      "\u001b[1m251/251\u001b[0m \u001b[32m━━━━━━━━━━━━━━━━━━━━\u001b[0m\u001b[37m\u001b[0m \u001b[1m23s\u001b[0m 90ms/step - accuracy: 0.8188 - loss: 0.3575 - precision_4: 0.8309 - recall_4: 0.8079 - val_accuracy: 0.7039 - val_loss: 0.9399 - val_precision_4: 0.8413 - val_recall_4: 0.5030\n",
      "Epoch 10/20\n",
      "\u001b[1m251/251\u001b[0m \u001b[32m━━━━━━━━━━━━━━━━━━━━\u001b[0m\u001b[37m\u001b[0m \u001b[1m20s\u001b[0m 79ms/step - accuracy: 0.8452 - loss: 0.2952 - precision_4: 0.8032 - recall_4: 0.9197 - val_accuracy: 0.7548 - val_loss: 0.7437 - val_precision_4: 0.7710 - val_recall_4: 0.7253\n",
      "Epoch 11/20\n",
      "\u001b[1m251/251\u001b[0m \u001b[32m━━━━━━━━━━━━━━━━━━━━\u001b[0m\u001b[37m\u001b[0m \u001b[1m21s\u001b[0m 80ms/step - accuracy: 0.8675 - loss: 0.2663 - precision_4: 0.8378 - recall_4: 0.9159 - val_accuracy: 0.7014 - val_loss: 0.9171 - val_precision_4: 0.8446 - val_recall_4: 0.4941\n",
      "Epoch 12/20\n",
      "\u001b[1m251/251\u001b[0m \u001b[32m━━━━━━━━━━━━━━━━━━━━\u001b[0m\u001b[37m\u001b[0m \u001b[1m20s\u001b[0m 79ms/step - accuracy: 0.8950 - loss: 0.2310 - precision_4: 0.8639 - recall_4: 0.9400 - val_accuracy: 0.7612 - val_loss: 0.7021 - val_precision_4: 0.7521 - val_recall_4: 0.7796\n",
      "Epoch 13/20\n",
      "\u001b[1m251/251\u001b[0m \u001b[32m━━━━━━━━━━━━━━━━━━━━\u001b[0m\u001b[37m\u001b[0m \u001b[1m20s\u001b[0m 81ms/step - accuracy: 0.8996 - loss: 0.2120 - precision_4: 0.8665 - recall_4: 0.9476 - val_accuracy: 0.7405 - val_loss: 1.7280 - val_precision_4: 0.8884 - val_recall_4: 0.5504\n",
      "Epoch 14/20\n",
      "\u001b[1m251/251\u001b[0m \u001b[32m━━━━━━━━━━━━━━━━━━━━\u001b[0m\u001b[37m\u001b[0m \u001b[1m20s\u001b[0m 78ms/step - accuracy: 0.9167 - loss: 0.1893 - precision_4: 0.8950 - recall_4: 0.9463 - val_accuracy: 0.7187 - val_loss: 1.5041 - val_precision_4: 0.7738 - val_recall_4: 0.6186\n",
      "Epoch 15/20\n",
      "\u001b[1m251/251\u001b[0m \u001b[32m━━━━━━━━━━━━━━━━━━━━\u001b[0m\u001b[37m\u001b[0m \u001b[1m20s\u001b[0m 81ms/step - accuracy: 0.9212 - loss: 0.1770 - precision_4: 0.8950 - recall_4: 0.9563 - val_accuracy: 0.7261 - val_loss: 1.4201 - val_precision_4: 0.8459 - val_recall_4: 0.5534\n",
      "Epoch 16/20\n",
      "\u001b[1m251/251\u001b[0m \u001b[32m━━━━━━━━━━━━━━━━━━━━\u001b[0m\u001b[37m\u001b[0m \u001b[1m22s\u001b[0m 88ms/step - accuracy: 0.9365 - loss: 0.1519 - precision_4: 0.9153 - recall_4: 0.9639 - val_accuracy: 0.7696 - val_loss: 1.4092 - val_precision_4: 0.7741 - val_recall_4: 0.7619\n",
      "Epoch 17/20\n",
      "\u001b[1m251/251\u001b[0m \u001b[32m━━━━━━━━━━━━━━━━━━━━\u001b[0m\u001b[37m\u001b[0m \u001b[1m20s\u001b[0m 79ms/step - accuracy: 0.9394 - loss: 0.1466 - precision_4: 0.9221 - recall_4: 0.9608 - val_accuracy: 0.7420 - val_loss: 1.4947 - val_precision_4: 0.7298 - val_recall_4: 0.7688\n",
      "Epoch 18/20\n",
      "\u001b[1m251/251\u001b[0m \u001b[32m━━━━━━━━━━━━━━━━━━━━\u001b[0m\u001b[37m\u001b[0m \u001b[1m24s\u001b[0m 91ms/step - accuracy: 0.9519 - loss: 0.1073 - precision_4: 0.9437 - recall_4: 0.9626 - val_accuracy: 0.7420 - val_loss: 0.9291 - val_precision_4: 0.7130 - val_recall_4: 0.8103\n",
      "Epoch 19/20\n",
      "\u001b[1m251/251\u001b[0m \u001b[32m━━━━━━━━━━━━━━━━━━━━\u001b[0m\u001b[37m\u001b[0m \u001b[1m20s\u001b[0m 78ms/step - accuracy: 0.9504 - loss: 0.1310 - precision_4: 0.9512 - recall_4: 0.9509 - val_accuracy: 0.7795 - val_loss: 0.9387 - val_precision_4: 0.7680 - val_recall_4: 0.8014\n",
      "Epoch 20/20\n",
      "\u001b[1m251/251\u001b[0m \u001b[32m━━━━━━━━━━━━━━━━━━━━\u001b[0m\u001b[37m\u001b[0m \u001b[1m21s\u001b[0m 80ms/step - accuracy: 0.9662 - loss: 0.1005 - precision_4: 0.9678 - recall_4: 0.9656 - val_accuracy: 0.7439 - val_loss: 0.9399 - val_precision_4: 0.8320 - val_recall_4: 0.6117\n"
     ]
    }
   ],
   "source": [
    "model_rmsprop.compile(optimizer='RMSprop', loss='binary_crossentropy', metrics=['accuracy', Precision, Recall])\n",
    "history_RMSprop = model_rmsprop.fit(train_ds, epochs=20, validation_data=validation_ds)"
   ]
  },
  {
   "cell_type": "markdown",
   "metadata": {},
   "source": [
    "# Plotting the results to visualize model performance."
   ]
  },
  {
   "cell_type": "code",
   "execution_count": null,
   "metadata": {
    "colab": {
     "base_uri": "https://localhost:8080/",
     "height": 472
    },
    "id": "rfXzewelqEoW",
    "outputId": "cdf57f97-da0f-4ef1-b375-d2a798e7245e"
   },
   "outputs": [
    {
     "data": {
      "image/png": "[encoded data removed]",
      "text/plain": [
       "<Figure size 640x480 with 1 Axes>"
      ]
     },
     "metadata": {},
     "output_type": "display_data"
    }
   ],
   "source": [
    "import matplotlib.pyplot as plt\n",
    "plt.plot(history_RMSprop.history['accuracy'], color='red', label='train')\n",
    "plt.plot(history_RMSprop.history['val_accuracy'], color='blue', label='validation')\n",
    "plt.title('model accuracy for RMSprop')\n",
    "plt.ylabel('accuracy')\n",
    "plt.xlabel('epoch')\n",
    "plt.legend()\n",
    "plt.show()"
   ]
  },
  {
   "cell_type": "code",
   "execution_count": null,
   "metadata": {
    "colab": {
     "base_uri": "https://localhost:8080/",
     "height": 472
    },
    "id": "-45XUG5dqFWS",
    "outputId": "b681afbf-5c59-404c-ec14-6830be02bb34"
   },
   "outputs": [
    {
     "data": {
      "image/png": "[encoded data removed]",
      "text/plain": [
       "<Figure size 640x480 with 1 Axes>"
      ]
     },
     "metadata": {},
     "output_type": "display_data"
    }
   ],
   "source": [
    "plt.plot(history_RMSprop.history['loss'], color='red', label='train')\n",
    "plt.plot(history_RMSprop.history['val_loss'], color='blue', label='validation')\n",
    "plt.title('model loss for RMSprop')\n",
    "plt.ylabel('loss')\n",
    "plt.xlabel('epoch')\n",
    "plt.legend()\n",
    "plt.show()"
   ]
  },
  {
   "cell_type": "markdown",
   "metadata": {
    "id": "OvfRK_NvmuTD"
   },
   "source": [
    "# Model with AdaDelta"
   ]
  },
  {
   "cell_type": "code",
   "execution_count": null,
   "metadata": {
    "id": "cNSQRhBoBXM3"
   },
   "outputs": [],
   "source": [
    "model_adadelta = get_model()"
   ]
  },
  {
   "cell_type": "code",
   "execution_count": null,
   "metadata": {
    "colab": {
     "base_uri": "https://localhost:8080/"
    },
    "id": "foLZd7YQqSOQ",
    "outputId": "0673138a-cf5b-4173-d604-181bd29918a2"
   },
   "outputs": [
    {
     "name": "stdout",
     "output_type": "stream",
     "text": [
      "Epoch 1/20\n",
      "\u001b[1m251/251\u001b[0m \u001b[32m━━━━━━━━━━━━━━━━━━━━\u001b[0m\u001b[37m\u001b[0m \u001b[1m32s\u001b[0m 97ms/step - accuracy: 0.5392 - loss: 0.8240 - precision_5: 0.5309 - recall_5: 0.7713 - val_accuracy: 0.5200 - val_loss: 0.7111 - val_precision_5: 0.5124 - val_recall_5: 0.8340\n",
      "Epoch 2/20\n",
      "\u001b[1m251/251\u001b[0m \u001b[32m━━━━━━━━━━━━━━━━━━━━\u001b[0m\u001b[37m\u001b[0m \u001b[1m32s\u001b[0m 80ms/step - accuracy: 0.6363 - loss: 0.6389 - precision_5: 0.6317 - recall_5: 0.6739 - val_accuracy: 0.6041 - val_loss: 0.6671 - val_precision_5: 0.6667 - val_recall_5: 0.4170\n",
      "Epoch 3/20\n",
      "\u001b[1m251/251\u001b[0m \u001b[32m━━━━━━━━━━━━━━━━━━━━\u001b[0m\u001b[37m\u001b[0m \u001b[1m23s\u001b[0m 92ms/step - accuracy: 0.6793 - loss: 0.5915 - precision_5: 0.6832 - recall_5: 0.6856 - val_accuracy: 0.6535 - val_loss: 0.6326 - val_precision_5: 0.6913 - val_recall_5: 0.5553\n",
      "Epoch 4/20\n",
      "\u001b[1m251/251\u001b[0m \u001b[32m━━━━━━━━━━━━━━━━━━━━\u001b[0m\u001b[37m\u001b[0m \u001b[1m38s\u001b[0m 81ms/step - accuracy: 0.7153 - loss: 0.5475 - precision_5: 0.7181 - recall_5: 0.7201 - val_accuracy: 0.6693 - val_loss: 0.6202 - val_precision_5: 0.6983 - val_recall_5: 0.5968\n",
      "Epoch 5/20\n",
      "\u001b[1m251/251\u001b[0m \u001b[32m━━━━━━━━━━━━━━━━━━━━\u001b[0m\u001b[37m\u001b[0m \u001b[1m23s\u001b[0m 91ms/step - accuracy: 0.7431 - loss: 0.5164 - precision_5: 0.7488 - recall_5: 0.7385 - val_accuracy: 0.6777 - val_loss: 0.6096 - val_precision_5: 0.7036 - val_recall_5: 0.6146\n",
      "Epoch 6/20\n",
      "\u001b[1m251/251\u001b[0m \u001b[32m━━━━━━━━━━━━━━━━━━━━\u001b[0m\u001b[37m\u001b[0m \u001b[1m39s\u001b[0m 82ms/step - accuracy: 0.7705 - loss: 0.4856 - precision_5: 0.7718 - recall_5: 0.7717 - val_accuracy: 0.6826 - val_loss: 0.6041 - val_precision_5: 0.7176 - val_recall_5: 0.6028\n",
      "Epoch 7/20\n",
      "\u001b[1m251/251\u001b[0m \u001b[32m━━━━━━━━━━━━━━━━━━━━\u001b[0m\u001b[37m\u001b[0m \u001b[1m20s\u001b[0m 82ms/step - accuracy: 0.7879 - loss: 0.4609 - precision_5: 0.7926 - recall_5: 0.7843 - val_accuracy: 0.6856 - val_loss: 0.5963 - val_precision_5: 0.7201 - val_recall_5: 0.6077\n",
      "Epoch 8/20\n",
      "\u001b[1m251/251\u001b[0m \u001b[32m━━━━━━━━━━━━━━━━━━━━\u001b[0m\u001b[37m\u001b[0m \u001b[1m21s\u001b[0m 82ms/step - accuracy: 0.7972 - loss: 0.4429 - precision_5: 0.7986 - recall_5: 0.8015 - val_accuracy: 0.6920 - val_loss: 0.5912 - val_precision_5: 0.7264 - val_recall_5: 0.6166\n",
      "Epoch 9/20\n",
      "\u001b[1m251/251\u001b[0m \u001b[32m━━━━━━━━━━━━━━━━━━━━\u001b[0m\u001b[37m\u001b[0m \u001b[1m40s\u001b[0m 80ms/step - accuracy: 0.8183 - loss: 0.4175 - precision_5: 0.8241 - recall_5: 0.8134 - val_accuracy: 0.6925 - val_loss: 0.5883 - val_precision_5: 0.7294 - val_recall_5: 0.6126\n",
      "Epoch 10/20\n",
      "\u001b[1m251/251\u001b[0m \u001b[32m━━━━━━━━━━━━━━━━━━━━\u001b[0m\u001b[37m\u001b[0m \u001b[1m21s\u001b[0m 83ms/step - accuracy: 0.8371 - loss: 0.3930 - precision_5: 0.8439 - recall_5: 0.8298 - val_accuracy: 0.6980 - val_loss: 0.5860 - val_precision_5: 0.7401 - val_recall_5: 0.6107\n",
      "Epoch 11/20\n",
      "\u001b[1m251/251\u001b[0m \u001b[32m━━━━━━━━━━━━━━━━━━━━\u001b[0m\u001b[37m\u001b[0m \u001b[1m40s\u001b[0m 80ms/step - accuracy: 0.8417 - loss: 0.3786 - precision_5: 0.8478 - recall_5: 0.8355 - val_accuracy: 0.7019 - val_loss: 0.5850 - val_precision_5: 0.7437 - val_recall_5: 0.6166\n",
      "Epoch 12/20\n",
      "\u001b[1m251/251\u001b[0m \u001b[32m━━━━━━━━━━━━━━━━━━━━\u001b[0m\u001b[37m\u001b[0m \u001b[1m23s\u001b[0m 92ms/step - accuracy: 0.8564 - loss: 0.3534 - precision_5: 0.8661 - recall_5: 0.8469 - val_accuracy: 0.7029 - val_loss: 0.5797 - val_precision_5: 0.7317 - val_recall_5: 0.6413\n",
      "Epoch 13/20\n",
      "\u001b[1m251/251\u001b[0m \u001b[32m━━━━━━━━━━━━━━━━━━━━\u001b[0m\u001b[37m\u001b[0m \u001b[1m21s\u001b[0m 85ms/step - accuracy: 0.8663 - loss: 0.3440 - precision_5: 0.8689 - recall_5: 0.8657 - val_accuracy: 0.7074 - val_loss: 0.5785 - val_precision_5: 0.7471 - val_recall_5: 0.6275\n",
      "Epoch 14/20\n",
      "\u001b[1m251/251\u001b[0m \u001b[32m━━━━━━━━━━━━━━━━━━━━\u001b[0m\u001b[37m\u001b[0m \u001b[1m20s\u001b[0m 80ms/step - accuracy: 0.8701 - loss: 0.3234 - precision_5: 0.8787 - recall_5: 0.8635 - val_accuracy: 0.7153 - val_loss: 0.5801 - val_precision_5: 0.7547 - val_recall_5: 0.6383\n",
      "Epoch 15/20\n",
      "\u001b[1m251/251\u001b[0m \u001b[32m━━━━━━━━━━━━━━━━━━━━\u001b[0m\u001b[37m\u001b[0m \u001b[1m23s\u001b[0m 91ms/step - accuracy: 0.8847 - loss: 0.3051 - precision_5: 0.8913 - recall_5: 0.8791 - val_accuracy: 0.7074 - val_loss: 0.5768 - val_precision_5: 0.7386 - val_recall_5: 0.6423\n",
      "Epoch 16/20\n",
      "\u001b[1m251/251\u001b[0m \u001b[32m━━━━━━━━━━━━━━━━━━━━\u001b[0m\u001b[37m\u001b[0m \u001b[1m39s\u001b[0m 82ms/step - accuracy: 0.9008 - loss: 0.2865 - precision_5: 0.9060 - recall_5: 0.8971 - val_accuracy: 0.7079 - val_loss: 0.5756 - val_precision_5: 0.7491 - val_recall_5: 0.6255\n",
      "Epoch 17/20\n",
      "\u001b[1m251/251\u001b[0m \u001b[32m━━━━━━━━━━━━━━━━━━━━\u001b[0m\u001b[37m\u001b[0m \u001b[1m21s\u001b[0m 85ms/step - accuracy: 0.9030 - loss: 0.2793 - precision_5: 0.9079 - recall_5: 0.8987 - val_accuracy: 0.7148 - val_loss: 0.5747 - val_precision_5: 0.7617 - val_recall_5: 0.6255\n",
      "Epoch 18/20\n",
      "\u001b[1m251/251\u001b[0m \u001b[32m━━━━━━━━━━━━━━━━━━━━\u001b[0m\u001b[37m\u001b[0m \u001b[1m40s\u001b[0m 82ms/step - accuracy: 0.9156 - loss: 0.2641 - precision_5: 0.9226 - recall_5: 0.9081 - val_accuracy: 0.7173 - val_loss: 0.5733 - val_precision_5: 0.7582 - val_recall_5: 0.6383\n",
      "Epoch 19/20\n",
      "\u001b[1m251/251\u001b[0m \u001b[32m━━━━━━━━━━━━━━━━━━━━\u001b[0m\u001b[37m\u001b[0m \u001b[1m21s\u001b[0m 83ms/step - accuracy: 0.9123 - loss: 0.2530 - precision_5: 0.9215 - recall_5: 0.9041 - val_accuracy: 0.7207 - val_loss: 0.5718 - val_precision_5: 0.7639 - val_recall_5: 0.6393\n",
      "Epoch 20/20\n",
      "\u001b[1m251/251\u001b[0m \u001b[32m━━━━━━━━━━━━━━━━━━━━\u001b[0m\u001b[37m\u001b[0m \u001b[1m21s\u001b[0m 82ms/step - accuracy: 0.9258 - loss: 0.2362 - precision_5: 0.9347 - recall_5: 0.9186 - val_accuracy: 0.7187 - val_loss: 0.5775 - val_precision_5: 0.7653 - val_recall_5: 0.6314\n"
     ]
    }
   ],
   "source": [
    "model_adadelta.compile(optimizer='AdaDelta', loss='binary_crossentropy', metrics=['accuracy', Precision, Recall])\n",
    "history_AdaDelta = model_adadelta.fit(train_ds, epochs=20, validation_data=validation_ds)"
   ]
  },
  {
   "cell_type": "markdown",
   "metadata": {},
   "source": [
    "# Plotting the results to visualize model performance."
   ]
  },
  {
   "cell_type": "code",
   "execution_count": null,
   "metadata": {
    "colab": {
     "base_uri": "https://localhost:8080/",
     "height": 472
    },
    "id": "YYFJdVokqWjG",
    "outputId": "46369a60-7e7f-4686-92be-b74144ca09e8"
   },
   "outputs": [
    {
     "data": {
      "image/png": "[encoded data removed]",
      "text/plain": [
       "<Figure size 640x480 with 1 Axes>"
      ]
     },
     "metadata": {},
     "output_type": "display_data"
    }
   ],
   "source": [
    "import matplotlib.pyplot as plt\n",
    "plt.plot(history_AdaDelta.history['accuracy'], color='red', label='train')\n",
    "plt.plot(history_AdaDelta.history['val_accuracy'], color='blue', label='validation')\n",
    "plt.title('model accuracy for AdaDelta')\n",
    "plt.ylabel('accuracy')\n",
    "plt.xlabel('epoch')\n",
    "plt.legend()\n",
    "plt.show()"
   ]
  },
  {
   "cell_type": "code",
   "execution_count": null,
   "metadata": {
    "colab": {
     "base_uri": "https://localhost:8080/",
     "height": 472
    },
    "id": "BMbDKMr2qWaI",
    "outputId": "eca3f324-6bac-4e40-f2de-b4930988cdbc"
   },
   "outputs": [
    {
     "data": {
      "image/png": "[encoded data removed]",
      "text/plain": [
       "<Figure size 640x480 with 1 Axes>"
      ]
     },
     "metadata": {},
     "output_type": "display_data"
    }
   ],
   "source": [
    "plt.plot(history_AdaDelta.history['loss'], color='red', label='train')\n",
    "plt.plot(history_AdaDelta.history['val_loss'], color='blue', label='validation')\n",
    "plt.title('model loss for AdaDelta')\n",
    "plt.ylabel('loss')\n",
    "plt.xlabel('epoch')\n",
    "plt.legend()\n",
    "plt.show()"
   ]
  },
  {
   "cell_type": "markdown",
   "metadata": {
    "id": "gDFPLvhneroD"
   },
   "source": [
    "# Different Learning rates with SGD"
   ]
  },
  {
   "cell_type": "code",
   "execution_count": null,
   "metadata": {
    "id": "g_uoinSLUrEf"
   },
   "outputs": [],
   "source": [
    "from tensorflow.keras.optimizers import SGD"
   ]
  },
  {
   "cell_type": "code",
   "execution_count": null,
   "metadata": {
    "colab": {
     "base_uri": "https://localhost:8080/"
    },
    "id": "BKJLn16YPc-p",
    "outputId": "9dc56f10-2151-4e4d-fe9b-a73163a433f8"
   },
   "outputs": [
    {
     "name": "stdout",
     "output_type": "stream",
     "text": [
      "Epoch 1/20\n"
     ]
    },
    {
     "name": "stderr",
     "output_type": "stream",
     "text": [
      "/usr/local/lib/python3.10/dist-packages/keras/src/layers/convolutional/base_conv.py:107: UserWarning: Do not pass an `input_shape`/`input_dim` argument to a layer. When using Sequential models, prefer using an `Input(shape)` object as the first layer in the model instead.\n",
      "  super().__init__(activity_regularizer=activity_regularizer, **kwargs)\n"
     ]
    },
    {
     "name": "stdout",
     "output_type": "stream",
     "text": [
      "\u001b[1m251/251\u001b[0m \u001b[32m━━━━━━━━━━━━━━━━━━━━\u001b[0m\u001b[37m\u001b[0m \u001b[1m37s\u001b[0m 106ms/step - accuracy: 0.5225 - loss: 3.2009 - val_accuracy: 0.4983 - val_loss: 0.6928\n",
      "Epoch 2/20\n",
      "\u001b[1m251/251\u001b[0m \u001b[32m━━━━━━━━━━━━━━━━━━━━\u001b[0m\u001b[37m\u001b[0m \u001b[1m22s\u001b[0m 89ms/step - accuracy: 0.5040 - loss: 0.6936 - val_accuracy: 0.4998 - val_loss: 0.6932\n",
      "Epoch 3/20\n",
      "\u001b[1m251/251\u001b[0m \u001b[32m━━━━━━━━━━━━━━━━━━━━\u001b[0m\u001b[37m\u001b[0m \u001b[1m39s\u001b[0m 80ms/step - accuracy: 0.5047 - loss: 0.6940 - val_accuracy: 0.4988 - val_loss: 0.6927\n",
      "Epoch 4/20\n",
      "\u001b[1m251/251\u001b[0m \u001b[32m━━━━━━━━━━━━━━━━━━━━\u001b[0m\u001b[37m\u001b[0m \u001b[1m20s\u001b[0m 77ms/step - accuracy: 0.5033 - loss: 0.6935 - val_accuracy: 0.4998 - val_loss: 0.6932\n",
      "Epoch 5/20\n",
      "\u001b[1m251/251\u001b[0m \u001b[32m━━━━━━━━━━━━━━━━━━━━\u001b[0m\u001b[37m\u001b[0m \u001b[1m21s\u001b[0m 79ms/step - accuracy: 0.4922 - loss: 0.6917 - val_accuracy: 0.5002 - val_loss: 0.6929\n",
      "Epoch 6/20\n",
      "\u001b[1m251/251\u001b[0m \u001b[32m━━━━━━━━━━━━━━━━━━━━\u001b[0m\u001b[37m\u001b[0m \u001b[1m19s\u001b[0m 77ms/step - accuracy: 0.5050 - loss: 0.6917 - val_accuracy: 0.5002 - val_loss: 0.6936\n",
      "Epoch 7/20\n",
      "\u001b[1m251/251\u001b[0m \u001b[32m━━━━━━━━━━━━━━━━━━━━\u001b[0m\u001b[37m\u001b[0m \u001b[1m21s\u001b[0m 78ms/step - accuracy: 0.5042 - loss: 0.6927 - val_accuracy: 0.4978 - val_loss: 0.6926\n",
      "Epoch 8/20\n",
      "\u001b[1m251/251\u001b[0m \u001b[32m━━━━━━━━━━━━━━━━━━━━\u001b[0m\u001b[37m\u001b[0m \u001b[1m19s\u001b[0m 77ms/step - accuracy: 0.5055 - loss: 0.6913 - val_accuracy: 0.4993 - val_loss: 0.6909\n",
      "Epoch 9/20\n",
      "\u001b[1m251/251\u001b[0m \u001b[32m━━━━━━━━━━━━━━━━━━━━\u001b[0m\u001b[37m\u001b[0m \u001b[1m23s\u001b[0m 92ms/step - accuracy: 0.5138 - loss: 0.6896 - val_accuracy: 0.4993 - val_loss: 0.6902\n",
      "Epoch 10/20\n",
      "\u001b[1m251/251\u001b[0m \u001b[32m━━━━━━━━━━━━━━━━━━━━\u001b[0m\u001b[37m\u001b[0m \u001b[1m20s\u001b[0m 79ms/step - accuracy: 0.5084 - loss: 0.6919 - val_accuracy: 0.5002 - val_loss: 0.6930\n",
      "Epoch 11/20\n",
      "\u001b[1m251/251\u001b[0m \u001b[32m━━━━━━━━━━━━━━━━━━━━\u001b[0m\u001b[37m\u001b[0m \u001b[1m20s\u001b[0m 76ms/step - accuracy: 0.5062 - loss: 0.6917 - val_accuracy: 0.4998 - val_loss: 0.6937\n",
      "Epoch 12/20\n",
      "\u001b[1m251/251\u001b[0m \u001b[32m━━━━━━━━━━━━━━━━━━━━\u001b[0m\u001b[37m\u001b[0m \u001b[1m20s\u001b[0m 80ms/step - accuracy: 0.5121 - loss: 0.6942 - val_accuracy: 0.4983 - val_loss: 0.6932\n",
      "Epoch 13/20\n",
      "\u001b[1m251/251\u001b[0m \u001b[32m━━━━━━━━━━━━━━━━━━━━\u001b[0m\u001b[37m\u001b[0m \u001b[1m19s\u001b[0m 76ms/step - accuracy: 0.4998 - loss: 0.6972 - val_accuracy: 0.4998 - val_loss: 0.6955\n",
      "Epoch 14/20\n",
      "\u001b[1m251/251\u001b[0m \u001b[32m━━━━━━━━━━━━━━━━━━━━\u001b[0m\u001b[37m\u001b[0m \u001b[1m22s\u001b[0m 86ms/step - accuracy: 0.5061 - loss: 0.6932 - val_accuracy: 0.4998 - val_loss: 0.7005\n",
      "Epoch 15/20\n",
      "\u001b[1m251/251\u001b[0m \u001b[32m━━━━━━━━━━━━━━━━━━━━\u001b[0m\u001b[37m\u001b[0m \u001b[1m39s\u001b[0m 79ms/step - accuracy: 0.5125 - loss: 0.6854 - val_accuracy: 0.4988 - val_loss: 0.6926\n",
      "Epoch 16/20\n",
      "\u001b[1m251/251\u001b[0m \u001b[32m━━━━━━━━━━━━━━━━━━━━\u001b[0m\u001b[37m\u001b[0m \u001b[1m20s\u001b[0m 77ms/step - accuracy: 0.5024 - loss: 0.6893 - val_accuracy: 0.5215 - val_loss: 0.6996\n",
      "Epoch 17/20\n",
      "\u001b[1m251/251\u001b[0m \u001b[32m━━━━━━━━━━━━━━━━━━━━\u001b[0m\u001b[37m\u001b[0m \u001b[1m20s\u001b[0m 80ms/step - accuracy: 0.5171 - loss: 0.6911 - val_accuracy: 0.4983 - val_loss: 0.7032\n",
      "Epoch 18/20\n",
      "\u001b[1m251/251\u001b[0m \u001b[32m━━━━━━━━━━━━━━━━━━━━\u001b[0m\u001b[37m\u001b[0m \u001b[1m19s\u001b[0m 76ms/step - accuracy: 0.5192 - loss: 0.6848 - val_accuracy: 0.4983 - val_loss: 0.6931\n",
      "Epoch 19/20\n",
      "\u001b[1m251/251\u001b[0m \u001b[32m━━━━━━━━━━━━━━━━━━━━\u001b[0m\u001b[37m\u001b[0m \u001b[1m21s\u001b[0m 78ms/step - accuracy: 0.5060 - loss: 0.6893 - val_accuracy: 0.4998 - val_loss: 0.6911\n",
      "Epoch 20/20\n",
      "\u001b[1m251/251\u001b[0m \u001b[32m━━━━━━━━━━━━━━━━━━━━\u001b[0m\u001b[37m\u001b[0m \u001b[1m22s\u001b[0m 87ms/step - accuracy: 0.5135 - loss: 0.6864 - val_accuracy: 0.5002 - val_loss: 0.6921\n"
     ]
    }
   ],
   "source": [
    "model_SGD_i = get_model()\n",
    "model_SGD_i.compile(optimizer=SGD(learning_rate=0.1), loss='binary_crossentropy', metrics=['accuracy'])\n",
    "history_SGD = model_SGD_i.fit(train_ds, epochs=20, validation_data=validation_ds)"
   ]
  },
  {
   "cell_type": "code",
   "execution_count": null,
   "metadata": {
    "colab": {
     "base_uri": "https://localhost:8080/"
    },
    "id": "Xlwba-IFfMGm",
    "outputId": "a516d1cd-f4cf-4899-e141-6863ee6ee262"
   },
   "outputs": [
    {
     "name": "stdout",
     "output_type": "stream",
     "text": [
      "Epoch 1/20\n",
      "\u001b[1m251/251\u001b[0m \u001b[32m━━━━━━━━━━━━━━━━━━━━\u001b[0m\u001b[37m\u001b[0m \u001b[1m26s\u001b[0m 92ms/step - accuracy: 0.6065 - loss: 0.7769 - val_accuracy: 0.4983 - val_loss: 0.8595\n",
      "Epoch 2/20\n",
      "\u001b[1m251/251\u001b[0m \u001b[32m━━━━━━━━━━━━━━━━━━━━\u001b[0m\u001b[37m\u001b[0m \u001b[1m36s\u001b[0m 82ms/step - accuracy: 0.7281 - loss: 0.5304 - val_accuracy: 0.5932 - val_loss: 0.6891\n",
      "Epoch 3/20\n",
      "\u001b[1m251/251\u001b[0m \u001b[32m━━━━━━━━━━━━━━━━━━━━\u001b[0m\u001b[37m\u001b[0m \u001b[1m20s\u001b[0m 78ms/step - accuracy: 0.7925 - loss: 0.4352 - val_accuracy: 0.6184 - val_loss: 0.8609\n",
      "Epoch 4/20\n",
      "\u001b[1m251/251\u001b[0m \u001b[32m━━━━━━━━━━━━━━━━━━━━\u001b[0m\u001b[37m\u001b[0m \u001b[1m23s\u001b[0m 89ms/step - accuracy: 0.8542 - loss: 0.3441 - val_accuracy: 0.7425 - val_loss: 0.5721\n",
      "Epoch 5/20\n",
      "\u001b[1m251/251\u001b[0m \u001b[32m━━━━━━━━━━━━━━━━━━━━\u001b[0m\u001b[37m\u001b[0m \u001b[1m19s\u001b[0m 77ms/step - accuracy: 0.9175 - loss: 0.2135 - val_accuracy: 0.7533 - val_loss: 0.6049\n",
      "Epoch 6/20\n",
      "\u001b[1m251/251\u001b[0m \u001b[32m━━━━━━━━━━━━━━━━━━━━\u001b[0m\u001b[37m\u001b[0m \u001b[1m20s\u001b[0m 80ms/step - accuracy: 0.9497 - loss: 0.1397 - val_accuracy: 0.7261 - val_loss: 0.7313\n",
      "Epoch 7/20\n",
      "\u001b[1m251/251\u001b[0m \u001b[32m━━━━━━━━━━━━━━━━━━━━\u001b[0m\u001b[37m\u001b[0m \u001b[1m19s\u001b[0m 77ms/step - accuracy: 0.9699 - loss: 0.0873 - val_accuracy: 0.7627 - val_loss: 0.6890\n",
      "Epoch 8/20\n",
      "\u001b[1m251/251\u001b[0m \u001b[32m━━━━━━━━━━━━━━━━━━━━\u001b[0m\u001b[37m\u001b[0m \u001b[1m20s\u001b[0m 80ms/step - accuracy: 0.9818 - loss: 0.0525 - val_accuracy: 0.7622 - val_loss: 0.9142\n",
      "Epoch 9/20\n",
      "\u001b[1m251/251\u001b[0m \u001b[32m━━━━━━━━━━━━━━━━━━━━\u001b[0m\u001b[37m\u001b[0m \u001b[1m19s\u001b[0m 77ms/step - accuracy: 0.9842 - loss: 0.0473 - val_accuracy: 0.7662 - val_loss: 0.7776\n",
      "Epoch 10/20\n",
      "\u001b[1m251/251\u001b[0m \u001b[32m━━━━━━━━━━━━━━━━━━━━\u001b[0m\u001b[37m\u001b[0m \u001b[1m21s\u001b[0m 78ms/step - accuracy: 0.9877 - loss: 0.0373 - val_accuracy: 0.7657 - val_loss: 0.9632\n",
      "Epoch 11/20\n",
      "\u001b[1m251/251\u001b[0m \u001b[32m━━━━━━━━━━━━━━━━━━━━\u001b[0m\u001b[37m\u001b[0m \u001b[1m22s\u001b[0m 87ms/step - accuracy: 0.9897 - loss: 0.0313 - val_accuracy: 0.7622 - val_loss: 0.8831\n",
      "Epoch 12/20\n",
      "\u001b[1m251/251\u001b[0m \u001b[32m━━━━━━━━━━━━━━━━━━━━\u001b[0m\u001b[37m\u001b[0m \u001b[1m41s\u001b[0m 88ms/step - accuracy: 0.9937 - loss: 0.0227 - val_accuracy: 0.7360 - val_loss: 1.0170\n",
      "Epoch 13/20\n",
      "\u001b[1m251/251\u001b[0m \u001b[32m━━━━━━━━━━━━━━━━━━━━\u001b[0m\u001b[37m\u001b[0m \u001b[1m38s\u001b[0m 77ms/step - accuracy: 0.9945 - loss: 0.0178 - val_accuracy: 0.7568 - val_loss: 0.8473\n",
      "Epoch 14/20\n",
      "\u001b[1m251/251\u001b[0m \u001b[32m━━━━━━━━━━━━━━━━━━━━\u001b[0m\u001b[37m\u001b[0m \u001b[1m21s\u001b[0m 79ms/step - accuracy: 0.9966 - loss: 0.0131 - val_accuracy: 0.7716 - val_loss: 0.9882\n",
      "Epoch 15/20\n",
      "\u001b[1m251/251\u001b[0m \u001b[32m━━━━━━━━━━━━━━━━━━━━\u001b[0m\u001b[37m\u001b[0m \u001b[1m19s\u001b[0m 77ms/step - accuracy: 0.9943 - loss: 0.0162 - val_accuracy: 0.7716 - val_loss: 0.9968\n",
      "Epoch 16/20\n",
      "\u001b[1m251/251\u001b[0m \u001b[32m━━━━━━━━━━━━━━━━━━━━\u001b[0m\u001b[37m\u001b[0m \u001b[1m20s\u001b[0m 80ms/step - accuracy: 0.9949 - loss: 0.0147 - val_accuracy: 0.7692 - val_loss: 1.0009\n",
      "Epoch 17/20\n",
      "\u001b[1m251/251\u001b[0m \u001b[32m━━━━━━━━━━━━━━━━━━━━\u001b[0m\u001b[37m\u001b[0m \u001b[1m19s\u001b[0m 77ms/step - accuracy: 0.9988 - loss: 0.0060 - val_accuracy: 0.7509 - val_loss: 1.2520\n",
      "Epoch 18/20\n",
      "\u001b[1m251/251\u001b[0m \u001b[32m━━━━━━━━━━━━━━━━━━━━\u001b[0m\u001b[37m\u001b[0m \u001b[1m22s\u001b[0m 88ms/step - accuracy: 0.9982 - loss: 0.0074 - val_accuracy: 0.7766 - val_loss: 1.0171\n",
      "Epoch 19/20\n",
      "\u001b[1m251/251\u001b[0m \u001b[32m━━━━━━━━━━━━━━━━━━━━\u001b[0m\u001b[37m\u001b[0m \u001b[1m38s\u001b[0m 77ms/step - accuracy: 0.9973 - loss: 0.0107 - val_accuracy: 0.7761 - val_loss: 1.0602\n",
      "Epoch 20/20\n",
      "\u001b[1m251/251\u001b[0m \u001b[32m━━━━━━━━━━━━━━━━━━━━\u001b[0m\u001b[37m\u001b[0m \u001b[1m22s\u001b[0m 88ms/step - accuracy: 0.9954 - loss: 0.0166 - val_accuracy: 0.7795 - val_loss: 1.0532\n"
     ]
    }
   ],
   "source": [
    "model_SGD_ii = get_model()\n",
    "model_SGD_ii.compile(optimizer=SGD(learning_rate=0.01), loss='binary_crossentropy', metrics=['accuracy'])\n",
    "history_SGD = model_SGD_ii.fit(train_ds, epochs=20, validation_data=validation_ds)"
   ]
  },
  {
   "cell_type": "code",
   "execution_count": null,
   "metadata": {
    "colab": {
     "base_uri": "https://localhost:8080/"
    },
    "id": "rX3UaioIfWmK",
    "outputId": "88a3c771-1a8c-4ffb-e4a4-63fc8338d975"
   },
   "outputs": [
    {
     "name": "stdout",
     "output_type": "stream",
     "text": [
      "Epoch 1/20\n",
      "\u001b[1m251/251\u001b[0m \u001b[32m━━━━━━━━━━━━━━━━━━━━\u001b[0m\u001b[37m\u001b[0m \u001b[1m27s\u001b[0m 89ms/step - accuracy: 0.5965 - loss: 0.7190 - val_accuracy: 0.5952 - val_loss: 0.6732\n",
      "Epoch 2/20\n",
      "\u001b[1m251/251\u001b[0m \u001b[32m━━━━━━━━━━━━━━━━━━━━\u001b[0m\u001b[37m\u001b[0m \u001b[1m34s\u001b[0m 78ms/step - accuracy: 0.7578 - loss: 0.4891 - val_accuracy: 0.6441 - val_loss: 0.6687\n",
      "Epoch 3/20\n",
      "\u001b[1m251/251\u001b[0m \u001b[32m━━━━━━━━━━━━━━━━━━━━\u001b[0m\u001b[37m\u001b[0m \u001b[1m20s\u001b[0m 80ms/step - accuracy: 0.8422 - loss: 0.3657 - val_accuracy: 0.7222 - val_loss: 0.5744\n",
      "Epoch 4/20\n",
      "\u001b[1m251/251\u001b[0m \u001b[32m━━━━━━━━━━━━━━━━━━━━\u001b[0m\u001b[37m\u001b[0m \u001b[1m20s\u001b[0m 77ms/step - accuracy: 0.8990 - loss: 0.2737 - val_accuracy: 0.7197 - val_loss: 0.5853\n",
      "Epoch 5/20\n",
      "\u001b[1m251/251\u001b[0m \u001b[32m━━━━━━━━━━━━━━━━━━━━\u001b[0m\u001b[37m\u001b[0m \u001b[1m21s\u001b[0m 80ms/step - accuracy: 0.9321 - loss: 0.2117 - val_accuracy: 0.7346 - val_loss: 0.5687\n",
      "Epoch 6/20\n",
      "\u001b[1m251/251\u001b[0m \u001b[32m━━━━━━━━━━━━━━━━━━━━\u001b[0m\u001b[37m\u001b[0m \u001b[1m22s\u001b[0m 88ms/step - accuracy: 0.9639 - loss: 0.1476 - val_accuracy: 0.7192 - val_loss: 0.6052\n",
      "Epoch 7/20\n",
      "\u001b[1m251/251\u001b[0m \u001b[32m━━━━━━━━━━━━━━━━━━━━\u001b[0m\u001b[37m\u001b[0m \u001b[1m19s\u001b[0m 77ms/step - accuracy: 0.9651 - loss: 0.1209 - val_accuracy: 0.7350 - val_loss: 0.6455\n",
      "Epoch 8/20\n",
      "\u001b[1m251/251\u001b[0m \u001b[32m━━━━━━━━━━━━━━━━━━━━\u001b[0m\u001b[37m\u001b[0m \u001b[1m22s\u001b[0m 88ms/step - accuracy: 0.9812 - loss: 0.0919 - val_accuracy: 0.7331 - val_loss: 0.6771\n",
      "Epoch 9/20\n",
      "\u001b[1m251/251\u001b[0m \u001b[32m━━━━━━━━━━━━━━━━━━━━\u001b[0m\u001b[37m\u001b[0m \u001b[1m39s\u001b[0m 79ms/step - accuracy: 0.9827 - loss: 0.0734 - val_accuracy: 0.7464 - val_loss: 0.6641\n",
      "Epoch 10/20\n",
      "\u001b[1m251/251\u001b[0m \u001b[32m━━━━━━━━━━━━━━━━━━━━\u001b[0m\u001b[37m\u001b[0m \u001b[1m21s\u001b[0m 83ms/step - accuracy: 0.9885 - loss: 0.0593 - val_accuracy: 0.7484 - val_loss: 0.6596\n",
      "Epoch 11/20\n",
      "\u001b[1m251/251\u001b[0m \u001b[32m━━━━━━━━━━━━━━━━━━━━\u001b[0m\u001b[37m\u001b[0m \u001b[1m40s\u001b[0m 80ms/step - accuracy: 0.9915 - loss: 0.0483 - val_accuracy: 0.7306 - val_loss: 0.6799\n",
      "Epoch 12/20\n",
      "\u001b[1m251/251\u001b[0m \u001b[32m━━━━━━━━━━━━━━━━━━━━\u001b[0m\u001b[37m\u001b[0m \u001b[1m22s\u001b[0m 89ms/step - accuracy: 0.9943 - loss: 0.0396 - val_accuracy: 0.7533 - val_loss: 0.6616\n",
      "Epoch 13/20\n",
      "\u001b[1m251/251\u001b[0m \u001b[32m━━━━━━━━━━━━━━━━━━━━\u001b[0m\u001b[37m\u001b[0m \u001b[1m20s\u001b[0m 78ms/step - accuracy: 0.9957 - loss: 0.0323 - val_accuracy: 0.7588 - val_loss: 0.6903\n",
      "Epoch 14/20\n",
      "\u001b[1m251/251\u001b[0m \u001b[32m━━━━━━━━━━━━━━━━━━━━\u001b[0m\u001b[37m\u001b[0m \u001b[1m21s\u001b[0m 82ms/step - accuracy: 0.9970 - loss: 0.0279 - val_accuracy: 0.7583 - val_loss: 0.6896\n",
      "Epoch 15/20\n",
      "\u001b[1m251/251\u001b[0m \u001b[32m━━━━━━━━━━━━━━━━━━━━\u001b[0m\u001b[37m\u001b[0m \u001b[1m40s\u001b[0m 80ms/step - accuracy: 0.9963 - loss: 0.0259 - val_accuracy: 0.7612 - val_loss: 0.6752\n",
      "Epoch 16/20\n",
      "\u001b[1m251/251\u001b[0m \u001b[32m━━━━━━━━━━━━━━━━━━━━\u001b[0m\u001b[37m\u001b[0m \u001b[1m20s\u001b[0m 79ms/step - accuracy: 0.9977 - loss: 0.0209 - val_accuracy: 0.7573 - val_loss: 0.7146\n",
      "Epoch 17/20\n",
      "\u001b[1m251/251\u001b[0m \u001b[32m━━━━━━━━━━━━━━━━━━━━\u001b[0m\u001b[37m\u001b[0m \u001b[1m20s\u001b[0m 81ms/step - accuracy: 0.9980 - loss: 0.0196 - val_accuracy: 0.7415 - val_loss: 0.8078\n",
      "Epoch 18/20\n",
      "\u001b[1m251/251\u001b[0m \u001b[32m━━━━━━━━━━━━━━━━━━━━\u001b[0m\u001b[37m\u001b[0m \u001b[1m20s\u001b[0m 78ms/step - accuracy: 0.9973 - loss: 0.0212 - val_accuracy: 0.7583 - val_loss: 0.7437\n",
      "Epoch 19/20\n",
      "\u001b[1m251/251\u001b[0m \u001b[32m━━━━━━━━━━━━━━━━━━━━\u001b[0m\u001b[37m\u001b[0m \u001b[1m20s\u001b[0m 80ms/step - accuracy: 0.9981 - loss: 0.0174 - val_accuracy: 0.7558 - val_loss: 0.7418\n",
      "Epoch 20/20\n",
      "\u001b[1m251/251\u001b[0m \u001b[32m━━━━━━━━━━━━━━━━━━━━\u001b[0m\u001b[37m\u001b[0m \u001b[1m22s\u001b[0m 88ms/step - accuracy: 0.9984 - loss: 0.0158 - val_accuracy: 0.7553 - val_loss: 0.7156\n"
     ]
    }
   ],
   "source": [
    "model_SGD_iii = get_model()\n",
    "model_SGD_iii.compile(optimizer=SGD(learning_rate=0.001), loss='binary_crossentropy', metrics=['accuracy'])\n",
    "history_SGD = model_SGD_iii.fit(train_ds, epochs=20, validation_data=validation_ds)"
   ]
  },
  {
   "cell_type": "code",
   "execution_count": null,
   "metadata": {
    "colab": {
     "base_uri": "https://localhost:8080/"
    },
    "id": "0uyJiuNLfgMH",
    "outputId": "712fb9c6-0ba4-4aa6-b530-33761aefa7bb"
   },
   "outputs": [
    {
     "name": "stdout",
     "output_type": "stream",
     "text": [
      "Epoch 1/20\n",
      "\u001b[1m251/251\u001b[0m \u001b[32m━━━━━━━━━━━━━━━━━━━━\u001b[0m\u001b[37m\u001b[0m \u001b[1m28s\u001b[0m 97ms/step - accuracy: 0.5368 - loss: 0.7633 - val_accuracy: 0.5541 - val_loss: 0.6875\n",
      "Epoch 2/20\n",
      "\u001b[1m251/251\u001b[0m \u001b[32m━━━━━━━━━━━━━━━━━━━━\u001b[0m\u001b[37m\u001b[0m \u001b[1m19s\u001b[0m 77ms/step - accuracy: 0.6317 - loss: 0.6470 - val_accuracy: 0.6031 - val_loss: 0.6616\n",
      "Epoch 3/20\n",
      "\u001b[1m251/251\u001b[0m \u001b[32m━━━━━━━━━━━━━━━━━━━━\u001b[0m\u001b[37m\u001b[0m \u001b[1m20s\u001b[0m 79ms/step - accuracy: 0.6880 - loss: 0.5862 - val_accuracy: 0.6579 - val_loss: 0.6143\n",
      "Epoch 4/20\n",
      "\u001b[1m251/251\u001b[0m \u001b[32m━━━━━━━━━━━━━━━━━━━━\u001b[0m\u001b[37m\u001b[0m \u001b[1m19s\u001b[0m 77ms/step - accuracy: 0.7231 - loss: 0.5442 - val_accuracy: 0.6688 - val_loss: 0.6069\n",
      "Epoch 5/20\n",
      "\u001b[1m251/251\u001b[0m \u001b[32m━━━━━━━━━━━━━━━━━━━━\u001b[0m\u001b[37m\u001b[0m \u001b[1m20s\u001b[0m 79ms/step - accuracy: 0.7556 - loss: 0.5096 - val_accuracy: 0.6757 - val_loss: 0.5945\n",
      "Epoch 6/20\n",
      "\u001b[1m251/251\u001b[0m \u001b[32m━━━━━━━━━━━━━━━━━━━━\u001b[0m\u001b[37m\u001b[0m \u001b[1m20s\u001b[0m 77ms/step - accuracy: 0.7679 - loss: 0.4858 - val_accuracy: 0.6861 - val_loss: 0.5880\n",
      "Epoch 7/20\n",
      "\u001b[1m251/251\u001b[0m \u001b[32m━━━━━━━━━━━━━━━━━━━━\u001b[0m\u001b[37m\u001b[0m \u001b[1m21s\u001b[0m 80ms/step - accuracy: 0.7814 - loss: 0.4608 - val_accuracy: 0.6881 - val_loss: 0.5810\n",
      "Epoch 8/20\n",
      "\u001b[1m251/251\u001b[0m \u001b[32m━━━━━━━━━━━━━━━━━━━━\u001b[0m\u001b[37m\u001b[0m \u001b[1m22s\u001b[0m 87ms/step - accuracy: 0.7972 - loss: 0.4432 - val_accuracy: 0.6935 - val_loss: 0.5759\n",
      "Epoch 9/20\n",
      "\u001b[1m251/251\u001b[0m \u001b[32m━━━━━━━━━━━━━━━━━━━━\u001b[0m\u001b[37m\u001b[0m \u001b[1m20s\u001b[0m 78ms/step - accuracy: 0.8156 - loss: 0.4192 - val_accuracy: 0.6955 - val_loss: 0.5728\n",
      "Epoch 10/20\n",
      "\u001b[1m251/251\u001b[0m \u001b[32m━━━━━━━━━━━━━━━━━━━━\u001b[0m\u001b[37m\u001b[0m \u001b[1m23s\u001b[0m 89ms/step - accuracy: 0.8309 - loss: 0.3961 - val_accuracy: 0.6985 - val_loss: 0.5740\n",
      "Epoch 11/20\n",
      "\u001b[1m251/251\u001b[0m \u001b[32m━━━━━━━━━━━━━━━━━━━━\u001b[0m\u001b[37m\u001b[0m \u001b[1m20s\u001b[0m 80ms/step - accuracy: 0.8439 - loss: 0.3738 - val_accuracy: 0.7044 - val_loss: 0.5636\n",
      "Epoch 12/20\n",
      "\u001b[1m251/251\u001b[0m \u001b[32m━━━━━━━━━━━━━━━━━━━━\u001b[0m\u001b[37m\u001b[0m \u001b[1m20s\u001b[0m 79ms/step - accuracy: 0.8600 - loss: 0.3549 - val_accuracy: 0.7158 - val_loss: 0.5594\n",
      "Epoch 13/20\n",
      "\u001b[1m251/251\u001b[0m \u001b[32m━━━━━━━━━━━━━━━━━━━━\u001b[0m\u001b[37m\u001b[0m \u001b[1m23s\u001b[0m 87ms/step - accuracy: 0.8682 - loss: 0.3436 - val_accuracy: 0.7118 - val_loss: 0.5565\n",
      "Epoch 14/20\n",
      "\u001b[1m251/251\u001b[0m \u001b[32m━━━━━━━━━━━━━━━━━━━━\u001b[0m\u001b[37m\u001b[0m \u001b[1m19s\u001b[0m 77ms/step - accuracy: 0.8759 - loss: 0.3283 - val_accuracy: 0.7182 - val_loss: 0.5560\n",
      "Epoch 15/20\n",
      "\u001b[1m251/251\u001b[0m \u001b[32m━━━━━━━━━━━━━━━━━━━━\u001b[0m\u001b[37m\u001b[0m \u001b[1m24s\u001b[0m 89ms/step - accuracy: 0.8783 - loss: 0.3173 - val_accuracy: 0.7242 - val_loss: 0.5528\n",
      "Epoch 16/20\n",
      "\u001b[1m251/251\u001b[0m \u001b[32m━━━━━━━━━━━━━━━━━━━━\u001b[0m\u001b[37m\u001b[0m \u001b[1m38s\u001b[0m 77ms/step - accuracy: 0.8964 - loss: 0.2974 - val_accuracy: 0.7222 - val_loss: 0.5506\n",
      "Epoch 17/20\n",
      "\u001b[1m251/251\u001b[0m \u001b[32m━━━━━━━━━━━━━━━━━━━━\u001b[0m\u001b[37m\u001b[0m \u001b[1m21s\u001b[0m 81ms/step - accuracy: 0.9050 - loss: 0.2836 - val_accuracy: 0.7227 - val_loss: 0.5487\n",
      "Epoch 18/20\n",
      "\u001b[1m251/251\u001b[0m \u001b[32m━━━━━━━━━━━━━━━━━━━━\u001b[0m\u001b[37m\u001b[0m \u001b[1m20s\u001b[0m 77ms/step - accuracy: 0.9074 - loss: 0.2773 - val_accuracy: 0.7291 - val_loss: 0.5484\n",
      "Epoch 19/20\n",
      "\u001b[1m251/251\u001b[0m \u001b[32m━━━━━━━━━━━━━━━━━━━━\u001b[0m\u001b[37m\u001b[0m \u001b[1m21s\u001b[0m 79ms/step - accuracy: 0.9051 - loss: 0.2688 - val_accuracy: 0.7286 - val_loss: 0.5510\n",
      "Epoch 20/20\n",
      "\u001b[1m251/251\u001b[0m \u001b[32m━━━━━━━━━━━━━━━━━━━━\u001b[0m\u001b[37m\u001b[0m \u001b[1m20s\u001b[0m 77ms/step - accuracy: 0.9166 - loss: 0.2560 - val_accuracy: 0.7355 - val_loss: 0.5468\n"
     ]
    }
   ],
   "source": [
    "model_SGD_iv = get_model()\n",
    "model_SGD_iv.compile(optimizer=SGD(learning_rate=0.0001), loss='binary_crossentropy', metrics=['accuracy'])\n",
    "history_SGD = model_SGD_iv.fit(train_ds, epochs=20, validation_data=validation_ds)"
   ]
  },
  {
   "cell_type": "markdown",
   "metadata": {
    "id": "QSSPV-jxhrF5"
   },
   "source": [
    "## Choose the best performing learning rate and assign it a variable lr"
   ]
  },
  {
   "cell_type": "code",
   "execution_count": null,
   "metadata": {
    "id": "xFpWAWOnh0kb"
   },
   "outputs": [],
   "source": [
    "lr = 0.01"
   ]
  },
  {
   "cell_type": "markdown",
   "metadata": {
    "id": "NlKRvMYrg75u"
   },
   "source": [
    "# Different Batch sizes with SGD"
   ]
  },
  {
   "cell_type": "code",
   "execution_count": null,
   "metadata": {
    "colab": {
     "base_uri": "https://localhost:8080/"
    },
    "id": "ZEAO78ighCCx",
    "outputId": "78e4b0b7-4d05-4d07-de13-992e3f60a31d"
   },
   "outputs": [
    {
     "name": "stdout",
     "output_type": "stream",
     "text": [
      "Epoch 1/20\n",
      "\u001b[1m251/251\u001b[0m \u001b[32m━━━━━━━━━━━━━━━━━━━━\u001b[0m\u001b[37m\u001b[0m \u001b[1m39s\u001b[0m 111ms/step - accuracy: 0.6093 - loss: 0.7868 - val_accuracy: 0.5017 - val_loss: 1.3458\n",
      "Epoch 2/20\n",
      "\u001b[1m251/251\u001b[0m \u001b[32m━━━━━━━━━━━━━━━━━━━━\u001b[0m\u001b[37m\u001b[0m \u001b[1m20s\u001b[0m 80ms/step - accuracy: 0.7138 - loss: 0.5518 - val_accuracy: 0.6199 - val_loss: 0.8402\n",
      "Epoch 3/20\n",
      "\u001b[1m251/251\u001b[0m \u001b[32m━━━━━━━━━━━━━━━━━━━━\u001b[0m\u001b[37m\u001b[0m \u001b[1m20s\u001b[0m 78ms/step - accuracy: 0.7828 - loss: 0.4474 - val_accuracy: 0.7306 - val_loss: 0.5401\n",
      "Epoch 4/20\n",
      "\u001b[1m251/251\u001b[0m \u001b[32m━━━━━━━━━━━━━━━━━━━━\u001b[0m\u001b[37m\u001b[0m \u001b[1m20s\u001b[0m 80ms/step - accuracy: 0.8484 - loss: 0.3376 - val_accuracy: 0.7148 - val_loss: 0.6631\n",
      "Epoch 5/20\n",
      "\u001b[1m251/251\u001b[0m \u001b[32m━━━━━━━━━━━━━━━━━━━━\u001b[0m\u001b[37m\u001b[0m \u001b[1m19s\u001b[0m 77ms/step - accuracy: 0.9126 - loss: 0.2180 - val_accuracy: 0.7603 - val_loss: 0.6227\n",
      "Epoch 6/20\n",
      "\u001b[1m251/251\u001b[0m \u001b[32m━━━━━━━━━━━━━━━━━━━━\u001b[0m\u001b[37m\u001b[0m \u001b[1m21s\u001b[0m 79ms/step - accuracy: 0.9520 - loss: 0.1355 - val_accuracy: 0.6540 - val_loss: 1.0479\n",
      "Epoch 7/20\n",
      "\u001b[1m251/251\u001b[0m \u001b[32m━━━━━━━━━━━━━━━━━━━━\u001b[0m\u001b[37m\u001b[0m \u001b[1m19s\u001b[0m 77ms/step - accuracy: 0.9606 - loss: 0.1053 - val_accuracy: 0.7523 - val_loss: 0.8111\n",
      "Epoch 8/20\n",
      "\u001b[1m251/251\u001b[0m \u001b[32m━━━━━━━━━━━━━━━━━━━━\u001b[0m\u001b[37m\u001b[0m \u001b[1m21s\u001b[0m 80ms/step - accuracy: 0.9777 - loss: 0.0655 - val_accuracy: 0.7400 - val_loss: 1.0461\n",
      "Epoch 9/20\n",
      "\u001b[1m251/251\u001b[0m \u001b[32m━━━━━━━━━━━━━━━━━━━━\u001b[0m\u001b[37m\u001b[0m \u001b[1m19s\u001b[0m 76ms/step - accuracy: 0.9897 - loss: 0.0369 - val_accuracy: 0.7682 - val_loss: 0.8318\n",
      "Epoch 10/20\n",
      "\u001b[1m251/251\u001b[0m \u001b[32m━━━━━━━━━━━━━━━━━━━━\u001b[0m\u001b[37m\u001b[0m \u001b[1m21s\u001b[0m 79ms/step - accuracy: 0.9918 - loss: 0.0258 - val_accuracy: 0.7370 - val_loss: 1.1200\n",
      "Epoch 11/20\n",
      "\u001b[1m251/251\u001b[0m \u001b[32m━━━━━━━━━━━━━━━━━━━━\u001b[0m\u001b[37m\u001b[0m \u001b[1m22s\u001b[0m 87ms/step - accuracy: 0.9945 - loss: 0.0173 - val_accuracy: 0.6930 - val_loss: 1.5461\n",
      "Epoch 12/20\n",
      "\u001b[1m251/251\u001b[0m \u001b[32m━━━━━━━━━━━━━━━━━━━━\u001b[0m\u001b[37m\u001b[0m \u001b[1m19s\u001b[0m 77ms/step - accuracy: 0.9906 - loss: 0.0284 - val_accuracy: 0.7415 - val_loss: 1.2308\n",
      "Epoch 13/20\n",
      "\u001b[1m251/251\u001b[0m \u001b[32m━━━━━━━━━━━━━━━━━━━━\u001b[0m\u001b[37m\u001b[0m \u001b[1m21s\u001b[0m 79ms/step - accuracy: 0.9934 - loss: 0.0191 - val_accuracy: 0.7682 - val_loss: 0.9605\n",
      "Epoch 14/20\n",
      "\u001b[1m251/251\u001b[0m \u001b[32m━━━━━━━━━━━━━━━━━━━━\u001b[0m\u001b[37m\u001b[0m \u001b[1m20s\u001b[0m 77ms/step - accuracy: 0.9946 - loss: 0.0174 - val_accuracy: 0.5828 - val_loss: 4.1961\n",
      "Epoch 15/20\n",
      "\u001b[1m251/251\u001b[0m \u001b[32m━━━━━━━━━━━━━━━━━━━━\u001b[0m\u001b[37m\u001b[0m \u001b[1m22s\u001b[0m 89ms/step - accuracy: 0.9741 - loss: 0.1204 - val_accuracy: 0.7583 - val_loss: 0.9817\n",
      "Epoch 16/20\n",
      "\u001b[1m251/251\u001b[0m \u001b[32m━━━━━━━━━━━━━━━━━━━━\u001b[0m\u001b[37m\u001b[0m \u001b[1m20s\u001b[0m 80ms/step - accuracy: 0.9942 - loss: 0.0156 - val_accuracy: 0.7400 - val_loss: 1.2795\n",
      "Epoch 17/20\n",
      "\u001b[1m251/251\u001b[0m \u001b[32m━━━━━━━━━━━━━━━━━━━━\u001b[0m\u001b[37m\u001b[0m \u001b[1m20s\u001b[0m 77ms/step - accuracy: 0.9929 - loss: 0.0212 - val_accuracy: 0.7563 - val_loss: 1.0909\n",
      "Epoch 18/20\n",
      "\u001b[1m251/251\u001b[0m \u001b[32m━━━━━━━━━━━━━━━━━━━━\u001b[0m\u001b[37m\u001b[0m \u001b[1m21s\u001b[0m 81ms/step - accuracy: 0.9985 - loss: 0.0081 - val_accuracy: 0.7687 - val_loss: 1.0252\n",
      "Epoch 19/20\n",
      "\u001b[1m251/251\u001b[0m \u001b[32m━━━━━━━━━━━━━━━━━━━━\u001b[0m\u001b[37m\u001b[0m \u001b[1m19s\u001b[0m 77ms/step - accuracy: 0.9952 - loss: 0.0125 - val_accuracy: 0.7776 - val_loss: 1.0498\n",
      "Epoch 20/20\n",
      "\u001b[1m251/251\u001b[0m \u001b[32m━━━━━━━━━━━━━━━━━━━━\u001b[0m\u001b[37m\u001b[0m \u001b[1m23s\u001b[0m 89ms/step - accuracy: 0.9977 - loss: 0.0083 - val_accuracy: 0.7711 - val_loss: 1.1612\n"
     ]
    }
   ],
   "source": [
    "model_SGD_16 = get_model()\n",
    "model_SGD_16.compile(optimizer=SGD(learning_rate=lr), loss='binary_crossentropy', metrics=['accuracy'])\n",
    "history_SGD = model_SGD_16.fit(train_ds, epochs=20, validation_data=validation_ds, batch_size=16)"
   ]
  },
  {
   "cell_type": "code",
   "execution_count": null,
   "metadata": {
    "colab": {
     "base_uri": "https://localhost:8080/"
    },
    "id": "UAcJ9x6yhKl5",
    "outputId": "678737d5-16b5-4a0b-fcc2-2d1cf7aaac90"
   },
   "outputs": [
    {
     "name": "stdout",
     "output_type": "stream",
     "text": [
      "Epoch 1/20\n",
      "\u001b[1m251/251\u001b[0m \u001b[32m━━━━━━━━━━━━━━━━━━━━\u001b[0m\u001b[37m\u001b[0m \u001b[1m27s\u001b[0m 91ms/step - accuracy: 0.5940 - loss: 0.8134 - val_accuracy: 0.5022 - val_loss: 1.3705\n",
      "Epoch 2/20\n",
      "\u001b[1m251/251\u001b[0m \u001b[32m━━━━━━━━━━━━━━━━━━━━\u001b[0m\u001b[37m\u001b[0m \u001b[1m20s\u001b[0m 81ms/step - accuracy: 0.7044 - loss: 0.5595 - val_accuracy: 0.6495 - val_loss: 0.6281\n",
      "Epoch 3/20\n",
      "\u001b[1m251/251\u001b[0m \u001b[32m━━━━━━━━━━━━━━━━━━━━\u001b[0m\u001b[37m\u001b[0m \u001b[1m19s\u001b[0m 77ms/step - accuracy: 0.7656 - loss: 0.4695 - val_accuracy: 0.5783 - val_loss: 1.1684\n",
      "Epoch 4/20\n",
      "\u001b[1m251/251\u001b[0m \u001b[32m━━━━━━━━━━━━━━━━━━━━\u001b[0m\u001b[37m\u001b[0m \u001b[1m23s\u001b[0m 88ms/step - accuracy: 0.8166 - loss: 0.3943 - val_accuracy: 0.6777 - val_loss: 0.6312\n",
      "Epoch 5/20\n",
      "\u001b[1m251/251\u001b[0m \u001b[32m━━━━━━━━━━━━━━━━━━━━\u001b[0m\u001b[37m\u001b[0m \u001b[1m39s\u001b[0m 79ms/step - accuracy: 0.8879 - loss: 0.2710 - val_accuracy: 0.7044 - val_loss: 0.6463\n",
      "Epoch 6/20\n",
      "\u001b[1m251/251\u001b[0m \u001b[32m━━━━━━━━━━━━━━━━━━━━\u001b[0m\u001b[37m\u001b[0m \u001b[1m20s\u001b[0m 80ms/step - accuracy: 0.9274 - loss: 0.1823 - val_accuracy: 0.7380 - val_loss: 0.6375\n",
      "Epoch 7/20\n",
      "\u001b[1m251/251\u001b[0m \u001b[32m━━━━━━━━━━━━━━━━━━━━\u001b[0m\u001b[37m\u001b[0m \u001b[1m20s\u001b[0m 79ms/step - accuracy: 0.9608 - loss: 0.1036 - val_accuracy: 0.7563 - val_loss: 0.7443\n",
      "Epoch 8/20\n",
      "\u001b[1m251/251\u001b[0m \u001b[32m━━━━━━━━━━━━━━━━━━━━\u001b[0m\u001b[37m\u001b[0m \u001b[1m22s\u001b[0m 87ms/step - accuracy: 0.9817 - loss: 0.0597 - val_accuracy: 0.7049 - val_loss: 1.0471\n",
      "Epoch 9/20\n",
      "\u001b[1m251/251\u001b[0m \u001b[32m━━━━━━━━━━━━━━━━━━━━\u001b[0m\u001b[37m\u001b[0m \u001b[1m39s\u001b[0m 79ms/step - accuracy: 0.9757 - loss: 0.0740 - val_accuracy: 0.7242 - val_loss: 1.0735\n",
      "Epoch 10/20\n",
      "\u001b[1m251/251\u001b[0m \u001b[32m━━━━━━━━━━━━━━━━━━━━\u001b[0m\u001b[37m\u001b[0m \u001b[1m20s\u001b[0m 77ms/step - accuracy: 0.9827 - loss: 0.0503 - val_accuracy: 0.7593 - val_loss: 0.8112\n",
      "Epoch 11/20\n",
      "\u001b[1m251/251\u001b[0m \u001b[32m━━━━━━━━━━━━━━━━━━━━\u001b[0m\u001b[37m\u001b[0m \u001b[1m21s\u001b[0m 79ms/step - accuracy: 0.9861 - loss: 0.0401 - val_accuracy: 0.7563 - val_loss: 0.8729\n",
      "Epoch 12/20\n",
      "\u001b[1m251/251\u001b[0m \u001b[32m━━━━━━━━━━━━━━━━━━━━\u001b[0m\u001b[37m\u001b[0m \u001b[1m20s\u001b[0m 79ms/step - accuracy: 0.9913 - loss: 0.0292 - val_accuracy: 0.7449 - val_loss: 1.0036\n",
      "Epoch 13/20\n",
      "\u001b[1m251/251\u001b[0m \u001b[32m━━━━━━━━━━━━━━━━━━━━\u001b[0m\u001b[37m\u001b[0m \u001b[1m19s\u001b[0m 77ms/step - accuracy: 0.9933 - loss: 0.0210 - val_accuracy: 0.7499 - val_loss: 0.9845\n",
      "Epoch 14/20\n",
      "\u001b[1m251/251\u001b[0m \u001b[32m━━━━━━━━━━━━━━━━━━━━\u001b[0m\u001b[37m\u001b[0m \u001b[1m20s\u001b[0m 79ms/step - accuracy: 0.9947 - loss: 0.0200 - val_accuracy: 0.7415 - val_loss: 0.9563\n",
      "Epoch 15/20\n",
      "\u001b[1m251/251\u001b[0m \u001b[32m━━━━━━━━━━━━━━━━━━━━\u001b[0m\u001b[37m\u001b[0m \u001b[1m20s\u001b[0m 79ms/step - accuracy: 0.9928 - loss: 0.0205 - val_accuracy: 0.7682 - val_loss: 1.0681\n",
      "Epoch 16/20\n",
      "\u001b[1m251/251\u001b[0m \u001b[32m━━━━━━━━━━━━━━━━━━━━\u001b[0m\u001b[37m\u001b[0m \u001b[1m21s\u001b[0m 80ms/step - accuracy: 0.9963 - loss: 0.0120 - val_accuracy: 0.7578 - val_loss: 0.9164\n",
      "Epoch 17/20\n",
      "\u001b[1m251/251\u001b[0m \u001b[32m━━━━━━━━━━━━━━━━━━━━\u001b[0m\u001b[37m\u001b[0m \u001b[1m20s\u001b[0m 77ms/step - accuracy: 0.9979 - loss: 0.0104 - val_accuracy: 0.7652 - val_loss: 0.9810\n",
      "Epoch 18/20\n",
      "\u001b[1m251/251\u001b[0m \u001b[32m━━━━━━━━━━━━━━━━━━━━\u001b[0m\u001b[37m\u001b[0m \u001b[1m21s\u001b[0m 81ms/step - accuracy: 0.9960 - loss: 0.0121 - val_accuracy: 0.7795 - val_loss: 1.0216\n",
      "Epoch 19/20\n",
      "\u001b[1m251/251\u001b[0m \u001b[32m━━━━━━━━━━━━━━━━━━━━\u001b[0m\u001b[37m\u001b[0m \u001b[1m19s\u001b[0m 77ms/step - accuracy: 0.9948 - loss: 0.0161 - val_accuracy: 0.7711 - val_loss: 1.1436\n",
      "Epoch 20/20\n",
      "\u001b[1m251/251\u001b[0m \u001b[32m━━━━━━━━━━━━━━━━━━━━\u001b[0m\u001b[37m\u001b[0m \u001b[1m22s\u001b[0m 88ms/step - accuracy: 0.9960 - loss: 0.0119 - val_accuracy: 0.7731 - val_loss: 1.0664\n"
     ]
    }
   ],
   "source": [
    "model_SGD_32 = get_model()\n",
    "model_SGD_32.compile(optimizer=SGD(learning_rate=lr), loss='binary_crossentropy', metrics=['accuracy'])\n",
    "history_SGD = model_SGD_32.fit(train_ds, epochs=20, validation_data=validation_ds, batch_size=32)"
   ]
  },
  {
   "cell_type": "code",
   "execution_count": null,
   "metadata": {
    "colab": {
     "base_uri": "https://localhost:8080/"
    },
    "id": "Pzyuuho6hQxh",
    "outputId": "e1214055-56ae-40e3-ba04-09c393dc808f"
   },
   "outputs": [
    {
     "name": "stdout",
     "output_type": "stream",
     "text": [
      "Epoch 1/20\n",
      "\u001b[1m251/251\u001b[0m \u001b[32m━━━━━━━━━━━━━━━━━━━━\u001b[0m\u001b[37m\u001b[0m \u001b[1m28s\u001b[0m 99ms/step - accuracy: 0.6074 - loss: 0.8178 - val_accuracy: 0.5180 - val_loss: 0.7629\n",
      "Epoch 2/20\n",
      "\u001b[1m251/251\u001b[0m \u001b[32m━━━━━━━━━━━━━━━━━━━━\u001b[0m\u001b[37m\u001b[0m \u001b[1m21s\u001b[0m 82ms/step - accuracy: 0.7027 - loss: 0.5572 - val_accuracy: 0.6639 - val_loss: 0.6555\n",
      "Epoch 3/20\n",
      "\u001b[1m251/251\u001b[0m \u001b[32m━━━━━━━━━━━━━━━━━━━━\u001b[0m\u001b[37m\u001b[0m \u001b[1m43s\u001b[0m 89ms/step - accuracy: 0.7767 - loss: 0.4592 - val_accuracy: 0.6090 - val_loss: 0.7085\n",
      "Epoch 4/20\n",
      "\u001b[1m251/251\u001b[0m \u001b[32m━━━━━━━━━━━━━━━━━━━━\u001b[0m\u001b[37m\u001b[0m \u001b[1m38s\u001b[0m 77ms/step - accuracy: 0.8403 - loss: 0.3624 - val_accuracy: 0.7227 - val_loss: 0.6453\n",
      "Epoch 5/20\n",
      "\u001b[1m251/251\u001b[0m \u001b[32m━━━━━━━━━━━━━━━━━━━━\u001b[0m\u001b[37m\u001b[0m \u001b[1m21s\u001b[0m 81ms/step - accuracy: 0.8859 - loss: 0.2683 - val_accuracy: 0.7494 - val_loss: 0.6590\n",
      "Epoch 6/20\n",
      "\u001b[1m251/251\u001b[0m \u001b[32m━━━━━━━━━━━━━━━━━━━━\u001b[0m\u001b[37m\u001b[0m \u001b[1m19s\u001b[0m 77ms/step - accuracy: 0.9460 - loss: 0.1527 - val_accuracy: 0.7326 - val_loss: 0.6850\n",
      "Epoch 7/20\n",
      "\u001b[1m251/251\u001b[0m \u001b[32m━━━━━━━━━━━━━━━━━━━━\u001b[0m\u001b[37m\u001b[0m \u001b[1m21s\u001b[0m 78ms/step - accuracy: 0.9668 - loss: 0.0950 - val_accuracy: 0.7425 - val_loss: 0.7586\n",
      "Epoch 8/20\n",
      "\u001b[1m251/251\u001b[0m \u001b[32m━━━━━━━━━━━━━━━━━━━━\u001b[0m\u001b[37m\u001b[0m \u001b[1m20s\u001b[0m 77ms/step - accuracy: 0.9757 - loss: 0.0713 - val_accuracy: 0.7533 - val_loss: 0.8333\n",
      "Epoch 9/20\n",
      "\u001b[1m251/251\u001b[0m \u001b[32m━━━━━━━━━━━━━━━━━━━━\u001b[0m\u001b[37m\u001b[0m \u001b[1m21s\u001b[0m 80ms/step - accuracy: 0.9886 - loss: 0.0371 - val_accuracy: 0.7519 - val_loss: 0.9187\n",
      "Epoch 10/20\n",
      "\u001b[1m251/251\u001b[0m \u001b[32m━━━━━━━━━━━━━━━━━━━━\u001b[0m\u001b[37m\u001b[0m \u001b[1m22s\u001b[0m 87ms/step - accuracy: 0.9857 - loss: 0.0442 - val_accuracy: 0.7474 - val_loss: 1.0404\n",
      "Epoch 11/20\n",
      "\u001b[1m251/251\u001b[0m \u001b[32m━━━━━━━━━━━━━━━━━━━━\u001b[0m\u001b[37m\u001b[0m \u001b[1m19s\u001b[0m 77ms/step - accuracy: 0.9888 - loss: 0.0367 - val_accuracy: 0.7108 - val_loss: 1.7078\n",
      "Epoch 12/20\n",
      "\u001b[1m251/251\u001b[0m \u001b[32m━━━━━━━━━━━━━━━━━━━━\u001b[0m\u001b[37m\u001b[0m \u001b[1m23s\u001b[0m 89ms/step - accuracy: 0.9855 - loss: 0.0401 - val_accuracy: 0.7578 - val_loss: 0.9626\n",
      "Epoch 13/20\n",
      "\u001b[1m251/251\u001b[0m \u001b[32m━━━━━━━━━━━━━━━━━━━━\u001b[0m\u001b[37m\u001b[0m \u001b[1m38s\u001b[0m 77ms/step - accuracy: 0.9915 - loss: 0.0230 - val_accuracy: 0.6505 - val_loss: 2.6625\n",
      "Epoch 14/20\n",
      "\u001b[1m251/251\u001b[0m \u001b[32m━━━━━━━━━━━━━━━━━━━━\u001b[0m\u001b[37m\u001b[0m \u001b[1m21s\u001b[0m 83ms/step - accuracy: 0.9856 - loss: 0.0375 - val_accuracy: 0.7578 - val_loss: 0.9124\n",
      "Epoch 15/20\n",
      "\u001b[1m251/251\u001b[0m \u001b[32m━━━━━━━━━━━━━━━━━━━━\u001b[0m\u001b[37m\u001b[0m \u001b[1m19s\u001b[0m 77ms/step - accuracy: 0.9953 - loss: 0.0156 - val_accuracy: 0.7627 - val_loss: 1.0289\n",
      "Epoch 16/20\n",
      "\u001b[1m251/251\u001b[0m \u001b[32m━━━━━━━━━━━━━━━━━━━━\u001b[0m\u001b[37m\u001b[0m \u001b[1m20s\u001b[0m 81ms/step - accuracy: 0.9925 - loss: 0.0228 - val_accuracy: 0.7667 - val_loss: 1.0581\n",
      "Epoch 17/20\n",
      "\u001b[1m251/251\u001b[0m \u001b[32m━━━━━━━━━━━━━━━━━━━━\u001b[0m\u001b[37m\u001b[0m \u001b[1m19s\u001b[0m 76ms/step - accuracy: 0.9936 - loss: 0.0171 - val_accuracy: 0.7726 - val_loss: 1.0024\n",
      "Epoch 18/20\n",
      "\u001b[1m251/251\u001b[0m \u001b[32m━━━━━━━━━━━━━━━━━━━━\u001b[0m\u001b[37m\u001b[0m \u001b[1m20s\u001b[0m 81ms/step - accuracy: 0.9961 - loss: 0.0115 - val_accuracy: 0.7701 - val_loss: 1.1233\n",
      "Epoch 19/20\n",
      "\u001b[1m251/251\u001b[0m \u001b[32m━━━━━━━━━━━━━━━━━━━━\u001b[0m\u001b[37m\u001b[0m \u001b[1m19s\u001b[0m 77ms/step - accuracy: 0.9959 - loss: 0.0127 - val_accuracy: 0.7509 - val_loss: 1.0887\n",
      "Epoch 20/20\n",
      "\u001b[1m251/251\u001b[0m \u001b[32m━━━━━━━━━━━━━━━━━━━━\u001b[0m\u001b[37m\u001b[0m \u001b[1m20s\u001b[0m 81ms/step - accuracy: 0.9979 - loss: 0.0090 - val_accuracy: 0.7647 - val_loss: 1.0190\n"
     ]
    }
   ],
   "source": [
    "model_SGD_64 = get_model()\n",
    "model_SGD_64.compile(optimizer=SGD(learning_rate=lr), loss='binary_crossentropy', metrics=['accuracy'])\n",
    "history_SGD = model_SGD_64.fit(train_ds, epochs=20, validation_data=validation_ds, batch_size=64)"
   ]
  },
  {
   "cell_type": "code",
   "execution_count": null,
   "metadata": {
    "colab": {
     "base_uri": "https://localhost:8080/"
    },
    "id": "OAnBv6jJhVF4",
    "outputId": "bd36281b-c91b-40e5-d0ba-19b2e8f0ede5"
   },
   "outputs": [
    {
     "name": "stdout",
     "output_type": "stream",
     "text": [
      "Epoch 1/20\n",
      "\u001b[1m251/251\u001b[0m \u001b[32m━━━━━━━━━━━━━━━━━━━━\u001b[0m\u001b[37m\u001b[0m \u001b[1m26s\u001b[0m 92ms/step - accuracy: 0.5857 - loss: 0.8019 - val_accuracy: 0.4998 - val_loss: 1.1792\n",
      "Epoch 2/20\n",
      "\u001b[1m251/251\u001b[0m \u001b[32m━━━━━━━━━━━━━━━━━━━━\u001b[0m\u001b[37m\u001b[0m \u001b[1m36s\u001b[0m 82ms/step - accuracy: 0.7148 - loss: 0.5497 - val_accuracy: 0.6639 - val_loss: 0.6335\n",
      "Epoch 3/20\n",
      "\u001b[1m251/251\u001b[0m \u001b[32m━━━━━━━━━━━━━━━━━━━━\u001b[0m\u001b[37m\u001b[0m \u001b[1m40s\u001b[0m 79ms/step - accuracy: 0.7799 - loss: 0.4471 - val_accuracy: 0.6174 - val_loss: 0.7451\n",
      "Epoch 4/20\n",
      "\u001b[1m251/251\u001b[0m \u001b[32m━━━━━━━━━━━━━━━━━━━━\u001b[0m\u001b[37m\u001b[0m \u001b[1m20s\u001b[0m 77ms/step - accuracy: 0.8460 - loss: 0.3448 - val_accuracy: 0.6985 - val_loss: 0.8157\n",
      "Epoch 5/20\n",
      "\u001b[1m251/251\u001b[0m \u001b[32m━━━━━━━━━━━━━━━━━━━━\u001b[0m\u001b[37m\u001b[0m \u001b[1m21s\u001b[0m 80ms/step - accuracy: 0.8839 - loss: 0.2773 - val_accuracy: 0.7439 - val_loss: 0.6158\n",
      "Epoch 6/20\n",
      "\u001b[1m251/251\u001b[0m \u001b[32m━━━━━━━━━━━━━━━━━━━━\u001b[0m\u001b[37m\u001b[0m \u001b[1m21s\u001b[0m 82ms/step - accuracy: 0.9421 - loss: 0.1568 - val_accuracy: 0.7054 - val_loss: 1.0792\n",
      "Epoch 7/20\n",
      "\u001b[1m251/251\u001b[0m \u001b[32m━━━━━━━━━━━━━━━━━━━━\u001b[0m\u001b[37m\u001b[0m \u001b[1m19s\u001b[0m 77ms/step - accuracy: 0.9484 - loss: 0.1371 - val_accuracy: 0.7647 - val_loss: 0.7293\n",
      "Epoch 8/20\n",
      "\u001b[1m251/251\u001b[0m \u001b[32m━━━━━━━━━━━━━━━━━━━━\u001b[0m\u001b[37m\u001b[0m \u001b[1m22s\u001b[0m 88ms/step - accuracy: 0.9793 - loss: 0.0682 - val_accuracy: 0.7108 - val_loss: 0.9320\n",
      "Epoch 9/20\n",
      "\u001b[1m251/251\u001b[0m \u001b[32m━━━━━━━━━━━━━━━━━━━━\u001b[0m\u001b[37m\u001b[0m \u001b[1m39s\u001b[0m 80ms/step - accuracy: 0.9850 - loss: 0.0438 - val_accuracy: 0.7523 - val_loss: 0.9557\n",
      "Epoch 10/20\n",
      "\u001b[1m251/251\u001b[0m \u001b[32m━━━━━━━━━━━━━━━━━━━━\u001b[0m\u001b[37m\u001b[0m \u001b[1m19s\u001b[0m 77ms/step - accuracy: 0.9850 - loss: 0.0401 - val_accuracy: 0.7499 - val_loss: 0.9333\n",
      "Epoch 11/20\n",
      "\u001b[1m251/251\u001b[0m \u001b[32m━━━━━━━━━━━━━━━━━━━━\u001b[0m\u001b[37m\u001b[0m \u001b[1m20s\u001b[0m 80ms/step - accuracy: 0.9885 - loss: 0.0334 - val_accuracy: 0.7696 - val_loss: 0.8866\n",
      "Epoch 12/20\n",
      "\u001b[1m251/251\u001b[0m \u001b[32m━━━━━━━━━━━━━━━━━━━━\u001b[0m\u001b[37m\u001b[0m \u001b[1m20s\u001b[0m 77ms/step - accuracy: 0.9914 - loss: 0.0284 - val_accuracy: 0.7662 - val_loss: 0.8806\n",
      "Epoch 13/20\n",
      "\u001b[1m251/251\u001b[0m \u001b[32m━━━━━━━━━━━━━━━━━━━━\u001b[0m\u001b[37m\u001b[0m \u001b[1m21s\u001b[0m 79ms/step - accuracy: 0.9930 - loss: 0.0241 - val_accuracy: 0.7642 - val_loss: 0.9844\n",
      "Epoch 14/20\n",
      "\u001b[1m251/251\u001b[0m \u001b[32m━━━━━━━━━━━━━━━━━━━━\u001b[0m\u001b[37m\u001b[0m \u001b[1m23s\u001b[0m 88ms/step - accuracy: 0.9960 - loss: 0.0135 - val_accuracy: 0.7608 - val_loss: 0.9510\n",
      "Epoch 15/20\n",
      "\u001b[1m251/251\u001b[0m \u001b[32m━━━━━━━━━━━━━━━━━━━━\u001b[0m\u001b[37m\u001b[0m \u001b[1m39s\u001b[0m 78ms/step - accuracy: 0.9940 - loss: 0.0171 - val_accuracy: 0.7192 - val_loss: 1.0248\n",
      "Epoch 16/20\n",
      "\u001b[1m251/251\u001b[0m \u001b[32m━━━━━━━━━━━━━━━━━━━━\u001b[0m\u001b[37m\u001b[0m \u001b[1m20s\u001b[0m 78ms/step - accuracy: 0.9946 - loss: 0.0174 - val_accuracy: 0.7588 - val_loss: 1.0250\n",
      "Epoch 17/20\n",
      "\u001b[1m251/251\u001b[0m \u001b[32m━━━━━━━━━━━━━━━━━━━━\u001b[0m\u001b[37m\u001b[0m \u001b[1m20s\u001b[0m 79ms/step - accuracy: 0.9967 - loss: 0.0113 - val_accuracy: 0.7187 - val_loss: 1.2655\n",
      "Epoch 18/20\n",
      "\u001b[1m251/251\u001b[0m \u001b[32m━━━━━━━━━━━━━━━━━━━━\u001b[0m\u001b[37m\u001b[0m \u001b[1m20s\u001b[0m 77ms/step - accuracy: 0.9956 - loss: 0.0150 - val_accuracy: 0.7435 - val_loss: 1.1294\n",
      "Epoch 19/20\n",
      "\u001b[1m251/251\u001b[0m \u001b[32m━━━━━━━━━━━━━━━━━━━━\u001b[0m\u001b[37m\u001b[0m \u001b[1m21s\u001b[0m 79ms/step - accuracy: 0.9966 - loss: 0.0103 - val_accuracy: 0.7301 - val_loss: 1.1786\n",
      "Epoch 20/20\n",
      "\u001b[1m251/251\u001b[0m \u001b[32m━━━━━━━━━━━━━━━━━━━━\u001b[0m\u001b[37m\u001b[0m \u001b[1m21s\u001b[0m 81ms/step - accuracy: 0.9968 - loss: 0.0105 - val_accuracy: 0.7622 - val_loss: 1.1840\n"
     ]
    }
   ],
   "source": [
    "model_SGD_128 = get_model()\n",
    "model_SGD_128.compile(optimizer=SGD(learning_rate=lr), loss='binary_crossentropy', metrics=['accuracy'])\n",
    "history_SGD = model_SGD_128.fit(train_ds, epochs=20, validation_data=validation_ds, batch_size=128)"
   ]
  },
  {
   "cell_type": "code",
   "execution_count": null,
   "metadata": {
    "colab": {
     "base_uri": "https://localhost:8080/"
    },
    "id": "pLiNTa_VhZMm",
    "outputId": "8d9f8d6f-bbde-4bf9-fceb-88dcd3c307d8"
   },
   "outputs": [
    {
     "name": "stdout",
     "output_type": "stream",
     "text": [
      "Epoch 1/20\n",
      "\u001b[1m251/251\u001b[0m \u001b[32m━━━━━━━━━━━━━━━━━━━━\u001b[0m\u001b[37m\u001b[0m \u001b[1m27s\u001b[0m 96ms/step - accuracy: 0.6018 - loss: 0.7216 - val_accuracy: 0.5002 - val_loss: 0.9004\n",
      "Epoch 2/20\n",
      "\u001b[1m251/251\u001b[0m \u001b[32m━━━━━━━━━━━━━━━━━━━━\u001b[0m\u001b[37m\u001b[0m \u001b[1m34s\u001b[0m 77ms/step - accuracy: 0.7302 - loss: 0.5242 - val_accuracy: 0.7163 - val_loss: 0.5472\n",
      "Epoch 3/20\n",
      "\u001b[1m251/251\u001b[0m \u001b[32m━━━━━━━━━━━━━━━━━━━━\u001b[0m\u001b[37m\u001b[0m \u001b[1m21s\u001b[0m 79ms/step - accuracy: 0.7911 - loss: 0.4290 - val_accuracy: 0.7044 - val_loss: 0.5684\n",
      "Epoch 4/20\n",
      "\u001b[1m251/251\u001b[0m \u001b[32m━━━━━━━━━━━━━━━━━━━━\u001b[0m\u001b[37m\u001b[0m \u001b[1m21s\u001b[0m 82ms/step - accuracy: 0.8515 - loss: 0.3239 - val_accuracy: 0.7177 - val_loss: 0.7073\n",
      "Epoch 5/20\n",
      "\u001b[1m251/251\u001b[0m \u001b[32m━━━━━━━━━━━━━━━━━━━━\u001b[0m\u001b[37m\u001b[0m \u001b[1m40s\u001b[0m 78ms/step - accuracy: 0.9118 - loss: 0.2190 - val_accuracy: 0.7222 - val_loss: 0.7096\n",
      "Epoch 6/20\n",
      "\u001b[1m251/251\u001b[0m \u001b[32m━━━━━━━━━━━━━━━━━━━━\u001b[0m\u001b[37m\u001b[0m \u001b[1m20s\u001b[0m 78ms/step - accuracy: 0.9455 - loss: 0.1429 - val_accuracy: 0.7266 - val_loss: 0.7972\n",
      "Epoch 7/20\n",
      "\u001b[1m251/251\u001b[0m \u001b[32m━━━━━━━━━━━━━━━━━━━━\u001b[0m\u001b[37m\u001b[0m \u001b[1m21s\u001b[0m 80ms/step - accuracy: 0.9688 - loss: 0.0893 - val_accuracy: 0.7341 - val_loss: 0.9053\n",
      "Epoch 8/20\n",
      "\u001b[1m251/251\u001b[0m \u001b[32m━━━━━━━━━━━━━━━━━━━━\u001b[0m\u001b[37m\u001b[0m \u001b[1m20s\u001b[0m 78ms/step - accuracy: 0.9775 - loss: 0.0618 - val_accuracy: 0.7316 - val_loss: 0.8669\n",
      "Epoch 9/20\n",
      "\u001b[1m251/251\u001b[0m \u001b[32m━━━━━━━━━━━━━━━━━━━━\u001b[0m\u001b[37m\u001b[0m \u001b[1m20s\u001b[0m 80ms/step - accuracy: 0.9793 - loss: 0.0623 - val_accuracy: 0.7385 - val_loss: 1.0297\n",
      "Epoch 10/20\n",
      "\u001b[1m251/251\u001b[0m \u001b[32m━━━━━━━━━━━━━━━━━━━━\u001b[0m\u001b[37m\u001b[0m \u001b[1m19s\u001b[0m 77ms/step - accuracy: 0.9918 - loss: 0.0264 - val_accuracy: 0.7523 - val_loss: 0.8817\n",
      "Epoch 11/20\n",
      "\u001b[1m251/251\u001b[0m \u001b[32m━━━━━━━━━━━━━━━━━━━━\u001b[0m\u001b[37m\u001b[0m \u001b[1m21s\u001b[0m 79ms/step - accuracy: 0.9935 - loss: 0.0212 - val_accuracy: 0.7598 - val_loss: 0.9727\n",
      "Epoch 12/20\n",
      "\u001b[1m251/251\u001b[0m \u001b[32m━━━━━━━━━━━━━━━━━━━━\u001b[0m\u001b[37m\u001b[0m \u001b[1m20s\u001b[0m 80ms/step - accuracy: 0.9962 - loss: 0.0175 - val_accuracy: 0.7761 - val_loss: 0.9905\n",
      "Epoch 13/20\n",
      "\u001b[1m251/251\u001b[0m \u001b[32m━━━━━━━━━━━━━━━━━━━━\u001b[0m\u001b[37m\u001b[0m \u001b[1m20s\u001b[0m 79ms/step - accuracy: 0.9946 - loss: 0.0189 - val_accuracy: 0.7756 - val_loss: 1.0184\n",
      "Epoch 14/20\n",
      "\u001b[1m251/251\u001b[0m \u001b[32m━━━━━━━━━━━━━━━━━━━━\u001b[0m\u001b[37m\u001b[0m \u001b[1m22s\u001b[0m 87ms/step - accuracy: 0.9929 - loss: 0.0176 - val_accuracy: 0.7425 - val_loss: 1.0337\n",
      "Epoch 15/20\n",
      "\u001b[1m251/251\u001b[0m \u001b[32m━━━━━━━━━━━━━━━━━━━━\u001b[0m\u001b[37m\u001b[0m \u001b[1m39s\u001b[0m 79ms/step - accuracy: 0.9929 - loss: 0.0210 - val_accuracy: 0.7519 - val_loss: 1.1086\n",
      "Epoch 16/20\n",
      "\u001b[1m251/251\u001b[0m \u001b[32m━━━━━━━━━━━━━━━━━━━━\u001b[0m\u001b[37m\u001b[0m \u001b[1m19s\u001b[0m 77ms/step - accuracy: 0.9982 - loss: 0.0090 - val_accuracy: 0.7548 - val_loss: 1.0967\n",
      "Epoch 17/20\n",
      "\u001b[1m251/251\u001b[0m \u001b[32m━━━━━━━━━━━━━━━━━━━━\u001b[0m\u001b[37m\u001b[0m \u001b[1m22s\u001b[0m 89ms/step - accuracy: 0.9964 - loss: 0.0128 - val_accuracy: 0.7380 - val_loss: 1.1087\n",
      "Epoch 18/20\n",
      "\u001b[1m251/251\u001b[0m \u001b[32m━━━━━━━━━━━━━━━━━━━━\u001b[0m\u001b[37m\u001b[0m \u001b[1m38s\u001b[0m 77ms/step - accuracy: 0.9956 - loss: 0.0137 - val_accuracy: 0.7608 - val_loss: 1.1338\n",
      "Epoch 19/20\n",
      "\u001b[1m251/251\u001b[0m \u001b[32m━━━━━━━━━━━━━━━━━━━━\u001b[0m\u001b[37m\u001b[0m \u001b[1m21s\u001b[0m 81ms/step - accuracy: 0.9972 - loss: 0.0096 - val_accuracy: 0.7637 - val_loss: 1.1776\n",
      "Epoch 20/20\n",
      "\u001b[1m251/251\u001b[0m \u001b[32m━━━━━━━━━━━━━━━━━━━━\u001b[0m\u001b[37m\u001b[0m \u001b[1m20s\u001b[0m 78ms/step - accuracy: 0.9972 - loss: 0.0089 - val_accuracy: 0.7657 - val_loss: 1.2021\n"
     ]
    }
   ],
   "source": [
    "model_SGD_512 = get_model()\n",
    "model_SGD_512.compile(optimizer=SGD(learning_rate=lr), loss='binary_crossentropy', metrics=['accuracy'])\n",
    "history_SGD = model_SGD_512.fit(train_ds, epochs=20, validation_data=validation_ds, batch_size=512)"
   ]
  },
  {
   "cell_type": "markdown",
   "metadata": {
    "id": "bNEOqH5WEwU4"
   },
   "source": [
    "# Different Batch sizes with Adam"
   ]
  },
  {
   "cell_type": "code",
   "execution_count": null,
   "metadata": {
    "colab": {
     "base_uri": "https://localhost:8080/"
    },
    "id": "_OA8ihS8cKON",
    "outputId": "37bcfd13-c20b-4055-aca7-eeb58d8cd02e"
   },
   "outputs": [
    {
     "name": "stderr",
     "output_type": "stream",
     "text": [
      "/usr/local/lib/python3.10/dist-packages/keras/src/layers/convolutional/base_conv.py:107: UserWarning: Do not pass an `input_shape`/`input_dim` argument to a layer. When using Sequential models, prefer using an `Input(shape)` object as the first layer in the model instead.\n",
      "  super().__init__(activity_regularizer=activity_regularizer, **kwargs)\n"
     ]
    },
    {
     "name": "stdout",
     "output_type": "stream",
     "text": [
      "Epoch 1/20\n",
      "\u001b[1m251/251\u001b[0m \u001b[32m━━━━━━━━━━━━━━━━━━━━\u001b[0m\u001b[37m\u001b[0m \u001b[1m57s\u001b[0m 141ms/step - accuracy: 0.5421 - loss: 4.7774 - val_accuracy: 0.5156 - val_loss: 1.3962\n",
      "Epoch 2/20\n",
      "\u001b[1m251/251\u001b[0m \u001b[32m━━━━━━━━━━━━━━━━━━━━\u001b[0m\u001b[37m\u001b[0m \u001b[1m22s\u001b[0m 88ms/step - accuracy: 0.6033 - loss: 0.7885 - val_accuracy: 0.6362 - val_loss: 0.7424\n",
      "Epoch 3/20\n",
      "\u001b[1m251/251\u001b[0m \u001b[32m━━━━━━━━━━━━━━━━━━━━\u001b[0m\u001b[37m\u001b[0m \u001b[1m26s\u001b[0m 102ms/step - accuracy: 0.6796 - loss: 0.6138 - val_accuracy: 0.6703 - val_loss: 0.9215\n",
      "Epoch 4/20\n",
      "\u001b[1m251/251\u001b[0m \u001b[32m━━━━━━━━━━━━━━━━━━━━\u001b[0m\u001b[37m\u001b[0m \u001b[1m40s\u001b[0m 97ms/step - accuracy: 0.6876 - loss: 0.5960 - val_accuracy: 0.5526 - val_loss: 0.6809\n",
      "Epoch 5/20\n",
      "\u001b[1m251/251\u001b[0m \u001b[32m━━━━━━━━━━━━━━━━━━━━\u001b[0m\u001b[37m\u001b[0m \u001b[1m21s\u001b[0m 82ms/step - accuracy: 0.6809 - loss: 0.5872 - val_accuracy: 0.7257 - val_loss: 0.5423\n",
      "Epoch 6/20\n",
      "\u001b[1m251/251\u001b[0m \u001b[32m━━━━━━━━━━━━━━━━━━━━\u001b[0m\u001b[37m\u001b[0m \u001b[1m24s\u001b[0m 95ms/step - accuracy: 0.7529 - loss: 0.4870 - val_accuracy: 0.7543 - val_loss: 0.5316\n",
      "Epoch 7/20\n",
      "\u001b[1m251/251\u001b[0m \u001b[32m━━━━━━━━━━━━━━━━━━━━\u001b[0m\u001b[37m\u001b[0m \u001b[1m23s\u001b[0m 92ms/step - accuracy: 0.7852 - loss: 0.4477 - val_accuracy: 0.7439 - val_loss: 0.5515\n",
      "Epoch 8/20\n",
      "\u001b[1m251/251\u001b[0m \u001b[32m━━━━━━━━━━━━━━━━━━━━\u001b[0m\u001b[37m\u001b[0m \u001b[1m25s\u001b[0m 98ms/step - accuracy: 0.8153 - loss: 0.3936 - val_accuracy: 0.7622 - val_loss: 0.5770\n",
      "Epoch 9/20\n",
      "\u001b[1m251/251\u001b[0m \u001b[32m━━━━━━━━━━━━━━━━━━━━\u001b[0m\u001b[37m\u001b[0m \u001b[1m20s\u001b[0m 78ms/step - accuracy: 0.8466 - loss: 0.3424 - val_accuracy: 0.7311 - val_loss: 0.7111\n",
      "Epoch 10/20\n",
      "\u001b[1m251/251\u001b[0m \u001b[32m━━━━━━━━━━━━━━━━━━━━\u001b[0m\u001b[37m\u001b[0m \u001b[1m25s\u001b[0m 100ms/step - accuracy: 0.8663 - loss: 0.3089 - val_accuracy: 0.7726 - val_loss: 0.6846\n",
      "Epoch 11/20\n",
      "\u001b[1m251/251\u001b[0m \u001b[32m━━━━━━━━━━━━━━━━━━━━\u001b[0m\u001b[37m\u001b[0m \u001b[1m37s\u001b[0m 82ms/step - accuracy: 0.9106 - loss: 0.2234 - val_accuracy: 0.7776 - val_loss: 0.7745\n",
      "Epoch 12/20\n",
      "\u001b[1m251/251\u001b[0m \u001b[32m━━━━━━━━━━━━━━━━━━━━\u001b[0m\u001b[37m\u001b[0m \u001b[1m43s\u001b[0m 89ms/step - accuracy: 0.9316 - loss: 0.1814 - val_accuracy: 0.7711 - val_loss: 0.8008\n",
      "Epoch 13/20\n",
      "\u001b[1m251/251\u001b[0m \u001b[32m━━━━━━━━━━━━━━━━━━━━\u001b[0m\u001b[37m\u001b[0m \u001b[1m44s\u001b[0m 102ms/step - accuracy: 0.9472 - loss: 0.1547 - val_accuracy: 0.7469 - val_loss: 0.9696\n",
      "Epoch 14/20\n",
      "\u001b[1m251/251\u001b[0m \u001b[32m━━━━━━━━━━━━━━━━━━━━\u001b[0m\u001b[37m\u001b[0m \u001b[1m24s\u001b[0m 96ms/step - accuracy: 0.9635 - loss: 0.0986 - val_accuracy: 0.7598 - val_loss: 0.9805\n",
      "Epoch 15/20\n",
      "\u001b[1m251/251\u001b[0m \u001b[32m━━━━━━━━━━━━━━━━━━━━\u001b[0m\u001b[37m\u001b[0m \u001b[1m40s\u001b[0m 91ms/step - accuracy: 0.9669 - loss: 0.0885 - val_accuracy: 0.7622 - val_loss: 1.1580\n",
      "Epoch 16/20\n",
      "\u001b[1m251/251\u001b[0m \u001b[32m━━━━━━━━━━━━━━━━━━━━\u001b[0m\u001b[37m\u001b[0m \u001b[1m25s\u001b[0m 98ms/step - accuracy: 0.9722 - loss: 0.0816 - val_accuracy: 0.7855 - val_loss: 0.9301\n",
      "Epoch 17/20\n",
      "\u001b[1m251/251\u001b[0m \u001b[32m━━━━━━━━━━━━━━━━━━━━\u001b[0m\u001b[37m\u001b[0m \u001b[1m40s\u001b[0m 93ms/step - accuracy: 0.9793 - loss: 0.0599 - val_accuracy: 0.7696 - val_loss: 1.0435\n",
      "Epoch 18/20\n",
      "\u001b[1m251/251\u001b[0m \u001b[32m━━━━━━━━━━━━━━━━━━━━\u001b[0m\u001b[37m\u001b[0m \u001b[1m41s\u001b[0m 95ms/step - accuracy: 0.9674 - loss: 0.0926 - val_accuracy: 0.7721 - val_loss: 1.0851\n",
      "Epoch 19/20\n",
      "\u001b[1m251/251\u001b[0m \u001b[32m━━━━━━━━━━━━━━━━━━━━\u001b[0m\u001b[37m\u001b[0m \u001b[1m37s\u001b[0m 80ms/step - accuracy: 0.9858 - loss: 0.0392 - val_accuracy: 0.7464 - val_loss: 1.3214\n",
      "Epoch 20/20\n",
      "\u001b[1m251/251\u001b[0m \u001b[32m━━━━━━━━━━━━━━━━━━━━\u001b[0m\u001b[37m\u001b[0m \u001b[1m20s\u001b[0m 78ms/step - accuracy: 0.9883 - loss: 0.0391 - val_accuracy: 0.7578 - val_loss: 1.4534\n"
     ]
    }
   ],
   "source": [
    "model_Adam_16 = get_model()\n",
    "model_Adam_16.compile(optimizer='adam', loss='binary_crossentropy', metrics=['accuracy'])\n",
    "history_Adam = model_Adam_16.fit(train_ds, epochs=20, validation_data=validation_ds, batch_size=16)"
   ]
  },
  {
   "cell_type": "code",
   "execution_count": null,
   "metadata": {
    "colab": {
     "base_uri": "https://localhost:8080/"
    },
    "id": "n7uyA2TYFEOu",
    "outputId": "62accc85-bc0b-4943-e59a-73d6029bcc0e"
   },
   "outputs": [
    {
     "name": "stdout",
     "output_type": "stream",
     "text": [
      "Epoch 1/20\n",
      "\u001b[1m251/251\u001b[0m \u001b[32m━━━━━━━━━━━━━━━━━━━━\u001b[0m\u001b[37m\u001b[0m \u001b[1m31s\u001b[0m 97ms/step - accuracy: 0.5555 - loss: 3.3968 - val_accuracy: 0.5057 - val_loss: 1.4313\n",
      "Epoch 2/20\n",
      "\u001b[1m251/251\u001b[0m \u001b[32m━━━━━━━━━━━━━━━━━━━━\u001b[0m\u001b[37m\u001b[0m \u001b[1m33s\u001b[0m 78ms/step - accuracy: 0.5500 - loss: 0.7248 - val_accuracy: 0.6011 - val_loss: 0.6910\n",
      "Epoch 3/20\n",
      "\u001b[1m251/251\u001b[0m \u001b[32m━━━━━━━━━━━━━━━━━━━━\u001b[0m\u001b[37m\u001b[0m \u001b[1m21s\u001b[0m 80ms/step - accuracy: 0.6120 - loss: 0.6647 - val_accuracy: 0.6826 - val_loss: 0.5891\n",
      "Epoch 4/20\n",
      "\u001b[1m251/251\u001b[0m \u001b[32m━━━━━━━━━━━━━━━━━━━━\u001b[0m\u001b[37m\u001b[0m \u001b[1m21s\u001b[0m 83ms/step - accuracy: 0.6751 - loss: 0.5924 - val_accuracy: 0.7232 - val_loss: 0.5518\n",
      "Epoch 5/20\n",
      "\u001b[1m251/251\u001b[0m \u001b[32m━━━━━━━━━━━━━━━━━━━━\u001b[0m\u001b[37m\u001b[0m \u001b[1m20s\u001b[0m 79ms/step - accuracy: 0.7181 - loss: 0.5432 - val_accuracy: 0.7182 - val_loss: 0.5702\n",
      "Epoch 6/20\n",
      "\u001b[1m251/251\u001b[0m \u001b[32m━━━━━━━━━━━━━━━━━━━━\u001b[0m\u001b[37m\u001b[0m \u001b[1m21s\u001b[0m 81ms/step - accuracy: 0.7574 - loss: 0.4907 - val_accuracy: 0.7296 - val_loss: 0.5952\n",
      "Epoch 7/20\n",
      "\u001b[1m251/251\u001b[0m \u001b[32m━━━━━━━━━━━━━━━━━━━━\u001b[0m\u001b[37m\u001b[0m \u001b[1m20s\u001b[0m 79ms/step - accuracy: 0.7954 - loss: 0.4340 - val_accuracy: 0.7479 - val_loss: 0.5420\n",
      "Epoch 8/20\n",
      "\u001b[1m251/251\u001b[0m \u001b[32m━━━━━━━━━━━━━━━━━━━━\u001b[0m\u001b[37m\u001b[0m \u001b[1m20s\u001b[0m 81ms/step - accuracy: 0.8356 - loss: 0.3703 - val_accuracy: 0.7627 - val_loss: 0.5638\n",
      "Epoch 9/20\n",
      "\u001b[1m251/251\u001b[0m \u001b[32m━━━━━━━━━━━━━━━━━━━━\u001b[0m\u001b[37m\u001b[0m \u001b[1m20s\u001b[0m 79ms/step - accuracy: 0.8635 - loss: 0.3151 - val_accuracy: 0.7598 - val_loss: 0.7058\n",
      "Epoch 10/20\n",
      "\u001b[1m251/251\u001b[0m \u001b[32m━━━━━━━━━━━━━━━━━━━━\u001b[0m\u001b[37m\u001b[0m \u001b[1m21s\u001b[0m 80ms/step - accuracy: 0.8990 - loss: 0.2510 - val_accuracy: 0.7405 - val_loss: 0.8486\n",
      "Epoch 11/20\n",
      "\u001b[1m251/251\u001b[0m \u001b[32m━━━━━━━━━━━━━━━━━━━━\u001b[0m\u001b[37m\u001b[0m \u001b[1m20s\u001b[0m 78ms/step - accuracy: 0.9298 - loss: 0.1784 - val_accuracy: 0.7667 - val_loss: 0.8625\n",
      "Epoch 12/20\n",
      "\u001b[1m251/251\u001b[0m \u001b[32m━━━━━━━━━━━━━━━━━━━━\u001b[0m\u001b[37m\u001b[0m \u001b[1m20s\u001b[0m 81ms/step - accuracy: 0.9508 - loss: 0.1298 - val_accuracy: 0.7380 - val_loss: 0.9993\n",
      "Epoch 13/20\n",
      "\u001b[1m251/251\u001b[0m \u001b[32m━━━━━━━━━━━━━━━━━━━━\u001b[0m\u001b[37m\u001b[0m \u001b[1m20s\u001b[0m 78ms/step - accuracy: 0.9616 - loss: 0.1070 - val_accuracy: 0.6915 - val_loss: 0.9928\n",
      "Epoch 14/20\n",
      "\u001b[1m251/251\u001b[0m \u001b[32m━━━━━━━━━━━━━━━━━━━━\u001b[0m\u001b[37m\u001b[0m \u001b[1m21s\u001b[0m 80ms/step - accuracy: 0.9744 - loss: 0.0726 - val_accuracy: 0.7479 - val_loss: 0.9641\n",
      "Epoch 15/20\n",
      "\u001b[1m251/251\u001b[0m \u001b[32m━━━━━━━━━━━━━━━━━━━━\u001b[0m\u001b[37m\u001b[0m \u001b[1m21s\u001b[0m 82ms/step - accuracy: 0.9721 - loss: 0.0892 - val_accuracy: 0.7553 - val_loss: 0.9870\n",
      "Epoch 16/20\n",
      "\u001b[1m251/251\u001b[0m \u001b[32m━━━━━━━━━━━━━━━━━━━━\u001b[0m\u001b[37m\u001b[0m \u001b[1m43s\u001b[0m 90ms/step - accuracy: 0.9853 - loss: 0.0549 - val_accuracy: 0.7543 - val_loss: 1.0037\n",
      "Epoch 17/20\n",
      "\u001b[1m251/251\u001b[0m \u001b[32m━━━━━━━━━━━━━━━━━━━━\u001b[0m\u001b[37m\u001b[0m \u001b[1m21s\u001b[0m 83ms/step - accuracy: 0.9878 - loss: 0.0338 - val_accuracy: 0.7355 - val_loss: 1.2223\n",
      "Epoch 18/20\n",
      "\u001b[1m251/251\u001b[0m \u001b[32m━━━━━━━━━━━━━━━━━━━━\u001b[0m\u001b[37m\u001b[0m \u001b[1m43s\u001b[0m 90ms/step - accuracy: 0.9865 - loss: 0.0414 - val_accuracy: 0.7617 - val_loss: 1.3362\n",
      "Epoch 19/20\n",
      "\u001b[1m251/251\u001b[0m \u001b[32m━━━━━━━━━━━━━━━━━━━━\u001b[0m\u001b[37m\u001b[0m \u001b[1m38s\u001b[0m 79ms/step - accuracy: 0.9873 - loss: 0.0400 - val_accuracy: 0.7716 - val_loss: 1.1032\n",
      "Epoch 20/20\n",
      "\u001b[1m251/251\u001b[0m \u001b[32m━━━━━━━━━━━━━━━━━━━━\u001b[0m\u001b[37m\u001b[0m \u001b[1m21s\u001b[0m 83ms/step - accuracy: 0.9909 - loss: 0.0288 - val_accuracy: 0.7504 - val_loss: 1.2348\n"
     ]
    }
   ],
   "source": [
    "model_Adam_32 = get_model()\n",
    "model_Adam_32.compile(optimizer='adam', loss='binary_crossentropy', metrics=['accuracy'])\n",
    "history_Adam = model_Adam_32.fit(train_ds, epochs=20, validation_data=validation_ds, batch_size=32)"
   ]
  },
  {
   "cell_type": "code",
   "execution_count": null,
   "metadata": {
    "colab": {
     "base_uri": "https://localhost:8080/"
    },
    "id": "5MFMKlf8FkYs",
    "outputId": "d825911c-a500-4289-bce2-d1d5287c2236"
   },
   "outputs": [
    {
     "name": "stderr",
     "output_type": "stream",
     "text": [
      "/usr/local/lib/python3.10/dist-packages/keras/src/layers/convolutional/base_conv.py:107: UserWarning: Do not pass an `input_shape`/`input_dim` argument to a layer. When using Sequential models, prefer using an `Input(shape)` object as the first layer in the model instead.\n",
      "  super().__init__(activity_regularizer=activity_regularizer, **kwargs)\n"
     ]
    },
    {
     "name": "stdout",
     "output_type": "stream",
     "text": [
      "Epoch 1/20\n",
      "\u001b[1m251/251\u001b[0m \u001b[32m━━━━━━━━━━━━━━━━━━━━\u001b[0m\u001b[37m\u001b[0m \u001b[1m29s\u001b[0m 94ms/step - accuracy: 0.5417 - loss: 3.1353 - val_accuracy: 0.4889 - val_loss: 1.7556\n",
      "Epoch 2/20\n",
      "\u001b[1m251/251\u001b[0m \u001b[32m━━━━━━━━━━━━━━━━━━━━\u001b[0m\u001b[37m\u001b[0m \u001b[1m36s\u001b[0m 84ms/step - accuracy: 0.5682 - loss: 0.7917 - val_accuracy: 0.6243 - val_loss: 0.6607\n",
      "Epoch 3/20\n",
      "\u001b[1m251/251\u001b[0m \u001b[32m━━━━━━━━━━━━━━━━━━━━\u001b[0m\u001b[37m\u001b[0m \u001b[1m20s\u001b[0m 79ms/step - accuracy: 0.6346 - loss: 0.6525 - val_accuracy: 0.7014 - val_loss: 0.5716\n",
      "Epoch 4/20\n",
      "\u001b[1m251/251\u001b[0m \u001b[32m━━━━━━━━━━━━━━━━━━━━\u001b[0m\u001b[37m\u001b[0m \u001b[1m22s\u001b[0m 89ms/step - accuracy: 0.6838 - loss: 0.6486 - val_accuracy: 0.6120 - val_loss: 0.7651\n",
      "Epoch 5/20\n",
      "\u001b[1m251/251\u001b[0m \u001b[32m━━━━━━━━━━━━━━━━━━━━\u001b[0m\u001b[37m\u001b[0m \u001b[1m39s\u001b[0m 80ms/step - accuracy: 0.7198 - loss: 0.5605 - val_accuracy: 0.7346 - val_loss: 0.5370\n",
      "Epoch 6/20\n",
      "\u001b[1m251/251\u001b[0m \u001b[32m━━━━━━━━━━━━━━━━━━━━\u001b[0m\u001b[37m\u001b[0m \u001b[1m20s\u001b[0m 80ms/step - accuracy: 0.7682 - loss: 0.4766 - val_accuracy: 0.7222 - val_loss: 0.5968\n",
      "Epoch 7/20\n",
      "\u001b[1m251/251\u001b[0m \u001b[32m━━━━━━━━━━━━━━━━━━━━\u001b[0m\u001b[37m\u001b[0m \u001b[1m20s\u001b[0m 80ms/step - accuracy: 0.7912 - loss: 0.4280 - val_accuracy: 0.7336 - val_loss: 0.5665\n",
      "Epoch 8/20\n",
      "\u001b[1m251/251\u001b[0m \u001b[32m━━━━━━━━━━━━━━━━━━━━\u001b[0m\u001b[37m\u001b[0m \u001b[1m22s\u001b[0m 89ms/step - accuracy: 0.8279 - loss: 0.3713 - val_accuracy: 0.7479 - val_loss: 0.6601\n",
      "Epoch 9/20\n",
      "\u001b[1m251/251\u001b[0m \u001b[32m━━━━━━━━━━━━━━━━━━━━\u001b[0m\u001b[37m\u001b[0m \u001b[1m20s\u001b[0m 78ms/step - accuracy: 0.8314 - loss: 0.3486 - val_accuracy: 0.7350 - val_loss: 0.6429\n",
      "Epoch 10/20\n",
      "\u001b[1m251/251\u001b[0m \u001b[32m━━━━━━━━━━━━━━━━━━━━\u001b[0m\u001b[37m\u001b[0m \u001b[1m23s\u001b[0m 90ms/step - accuracy: 0.8750 - loss: 0.2734 - val_accuracy: 0.7103 - val_loss: 1.0395\n",
      "Epoch 11/20\n",
      "\u001b[1m251/251\u001b[0m \u001b[32m━━━━━━━━━━━━━━━━━━━━\u001b[0m\u001b[37m\u001b[0m \u001b[1m20s\u001b[0m 81ms/step - accuracy: 0.9029 - loss: 0.2250 - val_accuracy: 0.7914 - val_loss: 0.7390\n",
      "Epoch 12/20\n",
      "\u001b[1m251/251\u001b[0m \u001b[32m━━━━━━━━━━━━━━━━━━━━\u001b[0m\u001b[37m\u001b[0m \u001b[1m20s\u001b[0m 79ms/step - accuracy: 0.9162 - loss: 0.1934 - val_accuracy: 0.7484 - val_loss: 0.8492\n",
      "Epoch 13/20\n",
      "\u001b[1m251/251\u001b[0m \u001b[32m━━━━━━━━━━━━━━━━━━━━\u001b[0m\u001b[37m\u001b[0m \u001b[1m21s\u001b[0m 83ms/step - accuracy: 0.9240 - loss: 0.1714 - val_accuracy: 0.7103 - val_loss: 0.8799\n",
      "Epoch 14/20\n",
      "\u001b[1m251/251\u001b[0m \u001b[32m━━━━━━━━━━━━━━━━━━━━\u001b[0m\u001b[37m\u001b[0m \u001b[1m20s\u001b[0m 79ms/step - accuracy: 0.9252 - loss: 0.1635 - val_accuracy: 0.7237 - val_loss: 1.8667\n",
      "Epoch 15/20\n",
      "\u001b[1m251/251\u001b[0m \u001b[32m━━━━━━━━━━━━━━━━━━━━\u001b[0m\u001b[37m\u001b[0m \u001b[1m21s\u001b[0m 82ms/step - accuracy: 0.9445 - loss: 0.1284 - val_accuracy: 0.7761 - val_loss: 0.8392\n",
      "Epoch 16/20\n",
      "\u001b[1m251/251\u001b[0m \u001b[32m━━━━━━━━━━━━━━━━━━━━\u001b[0m\u001b[37m\u001b[0m \u001b[1m41s\u001b[0m 80ms/step - accuracy: 0.9542 - loss: 0.1032 - val_accuracy: 0.7622 - val_loss: 1.2905\n",
      "Epoch 17/20\n",
      "\u001b[1m251/251\u001b[0m \u001b[32m━━━━━━━━━━━━━━━━━━━━\u001b[0m\u001b[37m\u001b[0m \u001b[1m22s\u001b[0m 89ms/step - accuracy: 0.9514 - loss: 0.1035 - val_accuracy: 0.7835 - val_loss: 0.8686\n",
      "Epoch 18/20\n",
      "\u001b[1m251/251\u001b[0m \u001b[32m━━━━━━━━━━━━━━━━━━━━\u001b[0m\u001b[37m\u001b[0m \u001b[1m20s\u001b[0m 78ms/step - accuracy: 0.9591 - loss: 0.0861 - val_accuracy: 0.7845 - val_loss: 0.8934\n",
      "Epoch 19/20\n",
      "\u001b[1m251/251\u001b[0m \u001b[32m━━━━━━━━━━━━━━━━━━━━\u001b[0m\u001b[37m\u001b[0m \u001b[1m20s\u001b[0m 81ms/step - accuracy: 0.9606 - loss: 0.0870 - val_accuracy: 0.7726 - val_loss: 0.8348\n",
      "Epoch 20/20\n",
      "\u001b[1m251/251\u001b[0m \u001b[32m━━━━━━━━━━━━━━━━━━━━\u001b[0m\u001b[37m\u001b[0m \u001b[1m20s\u001b[0m 78ms/step - accuracy: 0.9627 - loss: 0.0815 - val_accuracy: 0.7261 - val_loss: 1.1344\n"
     ]
    }
   ],
   "source": [
    "model_Adam_64 = get_model()\n",
    "model_Adam_64.compile(optimizer='adam', loss='binary_crossentropy', metrics=['accuracy'])\n",
    "history_Adam = model_Adam_64.fit(train_ds, epochs=20, validation_data=validation_ds, batch_size=64)"
   ]
  },
  {
   "cell_type": "code",
   "execution_count": null,
   "metadata": {
    "colab": {
     "base_uri": "https://localhost:8080/"
    },
    "id": "TRT5uJuuFnAT",
    "outputId": "2cddd93e-56de-408b-a3ce-53de320afec2"
   },
   "outputs": [
    {
     "name": "stdout",
     "output_type": "stream",
     "text": [
      "Epoch 1/20\n",
      "\u001b[1m251/251\u001b[0m \u001b[32m━━━━━━━━━━━━━━━━━━━━\u001b[0m\u001b[37m\u001b[0m \u001b[1m32s\u001b[0m 103ms/step - accuracy: 0.5325 - loss: 4.3354 - val_accuracy: 0.5413 - val_loss: 1.3517\n",
      "Epoch 2/20\n",
      "\u001b[1m251/251\u001b[0m \u001b[32m━━━━━━━━━━━━━━━━━━━━\u001b[0m\u001b[37m\u001b[0m \u001b[1m32s\u001b[0m 79ms/step - accuracy: 0.5433 - loss: 0.7643 - val_accuracy: 0.5932 - val_loss: 0.8063\n",
      "Epoch 3/20\n",
      "\u001b[1m251/251\u001b[0m \u001b[32m━━━━━━━━━━━━━━━━━━━━\u001b[0m\u001b[37m\u001b[0m \u001b[1m21s\u001b[0m 82ms/step - accuracy: 0.5943 - loss: 0.6733 - val_accuracy: 0.6535 - val_loss: 0.6239\n",
      "Epoch 4/20\n",
      "\u001b[1m251/251\u001b[0m \u001b[32m━━━━━━━━━━━━━━━━━━━━\u001b[0m\u001b[37m\u001b[0m \u001b[1m22s\u001b[0m 89ms/step - accuracy: 0.6371 - loss: 0.6324 - val_accuracy: 0.6565 - val_loss: 0.6577\n",
      "Epoch 5/20\n",
      "\u001b[1m251/251\u001b[0m \u001b[32m━━━━━━━━━━━━━━━━━━━━\u001b[0m\u001b[37m\u001b[0m \u001b[1m20s\u001b[0m 78ms/step - accuracy: 0.6734 - loss: 0.6064 - val_accuracy: 0.6822 - val_loss: 0.6286\n",
      "Epoch 6/20\n",
      "\u001b[1m251/251\u001b[0m \u001b[32m━━━━━━━━━━━━━━━━━━━━\u001b[0m\u001b[37m\u001b[0m \u001b[1m21s\u001b[0m 80ms/step - accuracy: 0.6996 - loss: 0.5952 - val_accuracy: 0.6490 - val_loss: 0.8388\n",
      "Epoch 7/20\n",
      "\u001b[1m251/251\u001b[0m \u001b[32m━━━━━━━━━━━━━━━━━━━━\u001b[0m\u001b[37m\u001b[0m \u001b[1m20s\u001b[0m 79ms/step - accuracy: 0.7081 - loss: 0.5687 - val_accuracy: 0.6233 - val_loss: 0.7429\n",
      "Epoch 8/20\n",
      "\u001b[1m251/251\u001b[0m \u001b[32m━━━━━━━━━━━━━━━━━━━━\u001b[0m\u001b[37m\u001b[0m \u001b[1m21s\u001b[0m 81ms/step - accuracy: 0.7362 - loss: 0.5349 - val_accuracy: 0.6456 - val_loss: 0.6414\n",
      "Epoch 9/20\n",
      "\u001b[1m251/251\u001b[0m \u001b[32m━━━━━━━━━━━━━━━━━━━━\u001b[0m\u001b[37m\u001b[0m \u001b[1m20s\u001b[0m 80ms/step - accuracy: 0.7205 - loss: 0.5390 - val_accuracy: 0.6831 - val_loss: 0.6685\n",
      "Epoch 10/20\n",
      "\u001b[1m251/251\u001b[0m \u001b[32m━━━━━━━━━━━━━━━━━━━━\u001b[0m\u001b[37m\u001b[0m \u001b[1m20s\u001b[0m 79ms/step - accuracy: 0.7363 - loss: 0.5149 - val_accuracy: 0.7479 - val_loss: 0.5746\n",
      "Epoch 11/20\n",
      "\u001b[1m251/251\u001b[0m \u001b[32m━━━━━━━━━━━━━━━━━━━━\u001b[0m\u001b[37m\u001b[0m \u001b[1m22s\u001b[0m 89ms/step - accuracy: 0.7810 - loss: 0.4698 - val_accuracy: 0.6762 - val_loss: 0.6373\n",
      "Epoch 12/20\n",
      "\u001b[1m251/251\u001b[0m \u001b[32m━━━━━━━━━━━━━━━━━━━━\u001b[0m\u001b[37m\u001b[0m \u001b[1m20s\u001b[0m 79ms/step - accuracy: 0.7943 - loss: 0.4506 - val_accuracy: 0.7182 - val_loss: 0.6854\n",
      "Epoch 13/20\n",
      "\u001b[1m251/251\u001b[0m \u001b[32m━━━━━━━━━━━━━━━━━━━━\u001b[0m\u001b[37m\u001b[0m \u001b[1m20s\u001b[0m 80ms/step - accuracy: 0.7931 - loss: 0.4389 - val_accuracy: 0.5151 - val_loss: 0.8652\n",
      "Epoch 14/20\n",
      "\u001b[1m251/251\u001b[0m \u001b[32m━━━━━━━━━━━━━━━━━━━━\u001b[0m\u001b[37m\u001b[0m \u001b[1m20s\u001b[0m 78ms/step - accuracy: 0.8057 - loss: 0.4461 - val_accuracy: 0.7622 - val_loss: 0.5803\n",
      "Epoch 15/20\n",
      "\u001b[1m251/251\u001b[0m \u001b[32m━━━━━━━━━━━━━━━━━━━━\u001b[0m\u001b[37m\u001b[0m \u001b[1m20s\u001b[0m 80ms/step - accuracy: 0.8345 - loss: 0.3615 - val_accuracy: 0.7514 - val_loss: 0.5694\n",
      "Epoch 16/20\n",
      "\u001b[1m251/251\u001b[0m \u001b[32m━━━━━━━━━━━━━━━━━━━━\u001b[0m\u001b[37m\u001b[0m \u001b[1m20s\u001b[0m 78ms/step - accuracy: 0.8642 - loss: 0.3109 - val_accuracy: 0.7578 - val_loss: 0.6585\n",
      "Epoch 17/20\n",
      "\u001b[1m251/251\u001b[0m \u001b[32m━━━━━━━━━━━━━━━━━━━━\u001b[0m\u001b[37m\u001b[0m \u001b[1m20s\u001b[0m 80ms/step - accuracy: 0.8885 - loss: 0.2561 - val_accuracy: 0.7701 - val_loss: 0.7247\n",
      "Epoch 18/20\n",
      "\u001b[1m251/251\u001b[0m \u001b[32m━━━━━━━━━━━━━━━━━━━━\u001b[0m\u001b[37m\u001b[0m \u001b[1m20s\u001b[0m 78ms/step - accuracy: 0.8994 - loss: 0.2313 - val_accuracy: 0.7736 - val_loss: 0.7103\n",
      "Epoch 19/20\n",
      "\u001b[1m251/251\u001b[0m \u001b[32m━━━━━━━━━━━━━━━━━━━━\u001b[0m\u001b[37m\u001b[0m \u001b[1m21s\u001b[0m 81ms/step - accuracy: 0.9143 - loss: 0.2108 - val_accuracy: 0.6930 - val_loss: 0.6849\n",
      "Epoch 20/20\n",
      "\u001b[1m251/251\u001b[0m \u001b[32m━━━━━━━━━━━━━━━━━━━━\u001b[0m\u001b[37m\u001b[0m \u001b[1m20s\u001b[0m 79ms/step - accuracy: 0.9200 - loss: 0.1901 - val_accuracy: 0.7800 - val_loss: 0.9109\n"
     ]
    }
   ],
   "source": [
    "model_Adam_128 = get_model()\n",
    "model_Adam_128.compile(optimizer='adam', loss='binary_crossentropy', metrics=['accuracy'])\n",
    "history_Adam = model_Adam_128.fit(train_ds, epochs=20, validation_data=validation_ds, batch_size=128)"
   ]
  },
  {
   "cell_type": "code",
   "execution_count": null,
   "metadata": {
    "colab": {
     "base_uri": "https://localhost:8080/"
    },
    "id": "wrE6EutlFqPB",
    "outputId": "af0b1917-4204-4b59-b83c-07d8bcf62973"
   },
   "outputs": [
    {
     "name": "stderr",
     "output_type": "stream",
     "text": [
      "/usr/local/lib/python3.10/dist-packages/keras/src/layers/convolutional/base_conv.py:107: UserWarning: Do not pass an `input_shape`/`input_dim` argument to a layer. When using Sequential models, prefer using an `Input(shape)` object as the first layer in the model instead.\n",
      "  super().__init__(activity_regularizer=activity_regularizer, **kwargs)\n"
     ]
    },
    {
     "name": "stdout",
     "output_type": "stream",
     "text": [
      "Epoch 1/20\n",
      "\u001b[1m251/251\u001b[0m \u001b[32m━━━━━━━━━━━━━━━━━━━━\u001b[0m\u001b[37m\u001b[0m \u001b[1m49s\u001b[0m 109ms/step - accuracy: 0.5515 - loss: 4.7040 - val_accuracy: 0.5754 - val_loss: 0.7976\n",
      "Epoch 2/20\n",
      "\u001b[1m251/251\u001b[0m \u001b[32m━━━━━━━━━━━━━━━━━━━━\u001b[0m\u001b[37m\u001b[0m \u001b[1m20s\u001b[0m 81ms/step - accuracy: 0.5928 - loss: 0.8193 - val_accuracy: 0.6085 - val_loss: 0.7346\n",
      "Epoch 3/20\n",
      "\u001b[1m251/251\u001b[0m \u001b[32m━━━━━━━━━━━━━━━━━━━━\u001b[0m\u001b[37m\u001b[0m \u001b[1m20s\u001b[0m 81ms/step - accuracy: 0.6560 - loss: 0.6342 - val_accuracy: 0.6940 - val_loss: 0.5931\n",
      "Epoch 4/20\n",
      "\u001b[1m251/251\u001b[0m \u001b[32m━━━━━━━━━━━━━━━━━━━━\u001b[0m\u001b[37m\u001b[0m \u001b[1m20s\u001b[0m 81ms/step - accuracy: 0.7057 - loss: 0.5705 - val_accuracy: 0.6797 - val_loss: 0.5865\n",
      "Epoch 5/20\n",
      "\u001b[1m251/251\u001b[0m \u001b[32m━━━━━━━━━━━━━━━━━━━━\u001b[0m\u001b[37m\u001b[0m \u001b[1m23s\u001b[0m 90ms/step - accuracy: 0.7496 - loss: 0.5193 - val_accuracy: 0.7326 - val_loss: 0.5380\n",
      "Epoch 6/20\n",
      "\u001b[1m251/251\u001b[0m \u001b[32m━━━━━━━━━━━━━━━━━━━━\u001b[0m\u001b[37m\u001b[0m \u001b[1m39s\u001b[0m 82ms/step - accuracy: 0.7830 - loss: 0.4504 - val_accuracy: 0.7177 - val_loss: 0.5739\n",
      "Epoch 7/20\n",
      "\u001b[1m251/251\u001b[0m \u001b[32m━━━━━━━━━━━━━━━━━━━━\u001b[0m\u001b[37m\u001b[0m \u001b[1m41s\u001b[0m 80ms/step - accuracy: 0.8176 - loss: 0.3954 - val_accuracy: 0.6985 - val_loss: 0.9786\n",
      "Epoch 8/20\n",
      "\u001b[1m251/251\u001b[0m \u001b[32m━━━━━━━━━━━━━━━━━━━━\u001b[0m\u001b[37m\u001b[0m \u001b[1m21s\u001b[0m 84ms/step - accuracy: 0.8580 - loss: 0.3259 - val_accuracy: 0.7578 - val_loss: 0.6829\n",
      "Epoch 9/20\n",
      "\u001b[1m251/251\u001b[0m \u001b[32m━━━━━━━━━━━━━━━━━━━━\u001b[0m\u001b[37m\u001b[0m \u001b[1m40s\u001b[0m 82ms/step - accuracy: 0.8855 - loss: 0.2649 - val_accuracy: 0.7202 - val_loss: 1.0950\n",
      "Epoch 10/20\n",
      "\u001b[1m251/251\u001b[0m \u001b[32m━━━━━━━━━━━━━━━━━━━━\u001b[0m\u001b[37m\u001b[0m \u001b[1m23s\u001b[0m 90ms/step - accuracy: 0.9002 - loss: 0.2364 - val_accuracy: 0.7237 - val_loss: 0.9186\n",
      "Epoch 11/20\n",
      "\u001b[1m251/251\u001b[0m \u001b[32m━━━━━━━━━━━━━━━━━━━━\u001b[0m\u001b[37m\u001b[0m \u001b[1m20s\u001b[0m 79ms/step - accuracy: 0.9298 - loss: 0.1789 - val_accuracy: 0.7514 - val_loss: 0.7450\n",
      "Epoch 12/20\n",
      "\u001b[1m251/251\u001b[0m \u001b[32m━━━━━━━━━━━━━━━━━━━━\u001b[0m\u001b[37m\u001b[0m \u001b[1m21s\u001b[0m 80ms/step - accuracy: 0.9426 - loss: 0.1448 - val_accuracy: 0.6836 - val_loss: 1.5789\n",
      "Epoch 13/20\n",
      "\u001b[1m251/251\u001b[0m \u001b[32m━━━━━━━━━━━━━━━━━━━━\u001b[0m\u001b[37m\u001b[0m \u001b[1m20s\u001b[0m 78ms/step - accuracy: 0.9391 - loss: 0.1680 - val_accuracy: 0.7647 - val_loss: 0.8029\n",
      "Epoch 14/20\n",
      "\u001b[1m251/251\u001b[0m \u001b[32m━━━━━━━━━━━━━━━━━━━━\u001b[0m\u001b[37m\u001b[0m \u001b[1m21s\u001b[0m 81ms/step - accuracy: 0.9701 - loss: 0.0765 - val_accuracy: 0.7756 - val_loss: 1.0730\n",
      "Epoch 15/20\n",
      "\u001b[1m251/251\u001b[0m \u001b[32m━━━━━━━━━━━━━━━━━━━━\u001b[0m\u001b[37m\u001b[0m \u001b[1m24s\u001b[0m 93ms/step - accuracy: 0.9800 - loss: 0.0598 - val_accuracy: 0.7261 - val_loss: 1.4543\n",
      "Epoch 16/20\n",
      "\u001b[1m251/251\u001b[0m \u001b[32m━━━━━━━━━━━━━━━━━━━━\u001b[0m\u001b[37m\u001b[0m \u001b[1m20s\u001b[0m 79ms/step - accuracy: 0.9673 - loss: 0.0955 - val_accuracy: 0.7795 - val_loss: 1.0886\n",
      "Epoch 17/20\n",
      "\u001b[1m251/251\u001b[0m \u001b[32m━━━━━━━━━━━━━━━━━━━━\u001b[0m\u001b[37m\u001b[0m \u001b[1m21s\u001b[0m 81ms/step - accuracy: 0.9806 - loss: 0.0560 - val_accuracy: 0.7435 - val_loss: 0.9736\n",
      "Epoch 18/20\n",
      "\u001b[1m251/251\u001b[0m \u001b[32m━━━━━━━━━━━━━━━━━━━━\u001b[0m\u001b[37m\u001b[0m \u001b[1m20s\u001b[0m 79ms/step - accuracy: 0.9846 - loss: 0.0467 - val_accuracy: 0.7341 - val_loss: 1.0317\n",
      "Epoch 19/20\n",
      "\u001b[1m251/251\u001b[0m \u001b[32m━━━━━━━━━━━━━━━━━━━━\u001b[0m\u001b[37m\u001b[0m \u001b[1m21s\u001b[0m 82ms/step - accuracy: 0.9840 - loss: 0.0448 - val_accuracy: 0.7884 - val_loss: 1.2219\n",
      "Epoch 20/20\n",
      "\u001b[1m251/251\u001b[0m \u001b[32m━━━━━━━━━━━━━━━━━━━━\u001b[0m\u001b[37m\u001b[0m \u001b[1m20s\u001b[0m 79ms/step - accuracy: 0.9844 - loss: 0.0411 - val_accuracy: 0.6871 - val_loss: 2.0578\n"
     ]
    }
   ],
   "source": [
    "model_Adam_512 = get_model()\n",
    "model_Adam_512.compile(optimizer='adam', loss='binary_crossentropy', metrics=['accuracy'])\n",
    "history_Adam = model_Adam_512.fit(train_ds, epochs=20, validation_data=validation_ds, batch_size=512)"
   ]
  },
  {
   "cell_type": "markdown",
   "metadata": {
    "id": "D_zlAj7hFxSV"
   },
   "source": [
    "# Different Batch sizes with Adagrad"
   ]
  },
  {
   "cell_type": "code",
   "execution_count": null,
   "metadata": {
    "colab": {
     "base_uri": "https://localhost:8080/"
    },
    "id": "Hgye8VJAFrf0",
    "outputId": "198c4feb-bbf8-46be-df2b-4197628785fc"
   },
   "outputs": [
    {
     "name": "stdout",
     "output_type": "stream",
     "text": [
      "Epoch 1/20\n",
      "\u001b[1m251/251\u001b[0m \u001b[32m━━━━━━━━━━━━━━━━━━━━\u001b[0m\u001b[37m\u001b[0m \u001b[1m31s\u001b[0m 101ms/step - accuracy: 0.6221 - loss: 0.6865 - val_accuracy: 0.5042 - val_loss: 0.9424\n",
      "Epoch 2/20\n",
      "\u001b[1m251/251\u001b[0m \u001b[32m━━━━━━━━━━━━━━━━━━━━\u001b[0m\u001b[37m\u001b[0m \u001b[1m20s\u001b[0m 80ms/step - accuracy: 0.7684 - loss: 0.4800 - val_accuracy: 0.6920 - val_loss: 0.5822\n",
      "Epoch 3/20\n",
      "\u001b[1m251/251\u001b[0m \u001b[32m━━━━━━━━━━━━━━━━━━━━\u001b[0m\u001b[37m\u001b[0m \u001b[1m21s\u001b[0m 82ms/step - accuracy: 0.8421 - loss: 0.3515 - val_accuracy: 0.6708 - val_loss: 0.6550\n",
      "Epoch 4/20\n",
      "\u001b[1m251/251\u001b[0m \u001b[32m━━━━━━━━━━━━━━━━━━━━\u001b[0m\u001b[37m\u001b[0m \u001b[1m40s\u001b[0m 79ms/step - accuracy: 0.9102 - loss: 0.2476 - val_accuracy: 0.7459 - val_loss: 0.5418\n",
      "Epoch 5/20\n",
      "\u001b[1m251/251\u001b[0m \u001b[32m━━━━━━━━━━━━━━━━━━━━\u001b[0m\u001b[37m\u001b[0m \u001b[1m24s\u001b[0m 92ms/step - accuracy: 0.9487 - loss: 0.1620 - val_accuracy: 0.7593 - val_loss: 0.5383\n",
      "Epoch 6/20\n",
      "\u001b[1m251/251\u001b[0m \u001b[32m━━━━━━━━━━━━━━━━━━━━\u001b[0m\u001b[37m\u001b[0m \u001b[1m38s\u001b[0m 79ms/step - accuracy: 0.9740 - loss: 0.1084 - val_accuracy: 0.7509 - val_loss: 0.5802\n",
      "Epoch 7/20\n",
      "\u001b[1m251/251\u001b[0m \u001b[32m━━━━━━━━━━━━━━━━━━━━\u001b[0m\u001b[37m\u001b[0m \u001b[1m23s\u001b[0m 91ms/step - accuracy: 0.9852 - loss: 0.0731 - val_accuracy: 0.7696 - val_loss: 0.5680\n",
      "Epoch 8/20\n",
      "\u001b[1m251/251\u001b[0m \u001b[32m━━━━━━━━━━━━━━━━━━━━\u001b[0m\u001b[37m\u001b[0m \u001b[1m39s\u001b[0m 81ms/step - accuracy: 0.9909 - loss: 0.0534 - val_accuracy: 0.7652 - val_loss: 0.5743\n",
      "Epoch 9/20\n",
      "\u001b[1m251/251\u001b[0m \u001b[32m━━━━━━━━━━━━━━━━━━━━\u001b[0m\u001b[37m\u001b[0m \u001b[1m21s\u001b[0m 82ms/step - accuracy: 0.9925 - loss: 0.0445 - val_accuracy: 0.7751 - val_loss: 0.6000\n",
      "Epoch 10/20\n",
      "\u001b[1m251/251\u001b[0m \u001b[32m━━━━━━━━━━━━━━━━━━━━\u001b[0m\u001b[37m\u001b[0m \u001b[1m20s\u001b[0m 81ms/step - accuracy: 0.9960 - loss: 0.0324 - val_accuracy: 0.7736 - val_loss: 0.6039\n",
      "Epoch 11/20\n",
      "\u001b[1m251/251\u001b[0m \u001b[32m━━━━━━━━━━━━━━━━━━━━\u001b[0m\u001b[37m\u001b[0m \u001b[1m21s\u001b[0m 84ms/step - accuracy: 0.9963 - loss: 0.0254 - val_accuracy: 0.7711 - val_loss: 0.6356\n",
      "Epoch 12/20\n",
      "\u001b[1m251/251\u001b[0m \u001b[32m━━━━━━━━━━━━━━━━━━━━\u001b[0m\u001b[37m\u001b[0m \u001b[1m20s\u001b[0m 79ms/step - accuracy: 0.9978 - loss: 0.0208 - val_accuracy: 0.7736 - val_loss: 0.6454\n",
      "Epoch 13/20\n",
      "\u001b[1m251/251\u001b[0m \u001b[32m━━━━━━━━━━━━━━━━━━━━\u001b[0m\u001b[37m\u001b[0m \u001b[1m23s\u001b[0m 90ms/step - accuracy: 0.9975 - loss: 0.0199 - val_accuracy: 0.7785 - val_loss: 0.6548\n",
      "Epoch 14/20\n",
      "\u001b[1m251/251\u001b[0m \u001b[32m━━━━━━━━━━━━━━━━━━━━\u001b[0m\u001b[37m\u001b[0m \u001b[1m22s\u001b[0m 89ms/step - accuracy: 0.9982 - loss: 0.0163 - val_accuracy: 0.7785 - val_loss: 0.6520\n",
      "Epoch 15/20\n",
      "\u001b[1m251/251\u001b[0m \u001b[32m━━━━━━━━━━━━━━━━━━━━\u001b[0m\u001b[37m\u001b[0m \u001b[1m41s\u001b[0m 91ms/step - accuracy: 0.9973 - loss: 0.0155 - val_accuracy: 0.7815 - val_loss: 0.6725\n",
      "Epoch 16/20\n",
      "\u001b[1m251/251\u001b[0m \u001b[32m━━━━━━━━━━━━━━━━━━━━\u001b[0m\u001b[37m\u001b[0m \u001b[1m23s\u001b[0m 90ms/step - accuracy: 0.9986 - loss: 0.0128 - val_accuracy: 0.7701 - val_loss: 0.6900\n",
      "Epoch 17/20\n",
      "\u001b[1m251/251\u001b[0m \u001b[32m━━━━━━━━━━━━━━━━━━━━\u001b[0m\u001b[37m\u001b[0m \u001b[1m20s\u001b[0m 80ms/step - accuracy: 0.9993 - loss: 0.0106 - val_accuracy: 0.7731 - val_loss: 0.6968\n",
      "Epoch 18/20\n",
      "\u001b[1m251/251\u001b[0m \u001b[32m━━━━━━━━━━━━━━━━━━━━\u001b[0m\u001b[37m\u001b[0m \u001b[1m21s\u001b[0m 81ms/step - accuracy: 0.9997 - loss: 0.0101 - val_accuracy: 0.7741 - val_loss: 0.7123\n",
      "Epoch 19/20\n",
      "\u001b[1m251/251\u001b[0m \u001b[32m━━━━━━━━━━━━━━━━━━━━\u001b[0m\u001b[37m\u001b[0m \u001b[1m20s\u001b[0m 79ms/step - accuracy: 0.9991 - loss: 0.0103 - val_accuracy: 0.7825 - val_loss: 0.7115\n",
      "Epoch 20/20\n",
      "\u001b[1m251/251\u001b[0m \u001b[32m━━━━━━━━━━━━━━━━━━━━\u001b[0m\u001b[37m\u001b[0m \u001b[1m21s\u001b[0m 82ms/step - accuracy: 0.9991 - loss: 0.0084 - val_accuracy: 0.7761 - val_loss: 0.7390\n"
     ]
    }
   ],
   "source": [
    "model_adagrad_16 = get_model()\n",
    "model_adagrad_16.compile(optimizer='Adagrad', loss='binary_crossentropy', metrics=['accuracy'])\n",
    "history_Adagrad = model_adagrad_16.fit(train_ds, epochs=20, validation_data=validation_ds, batch_size=16)"
   ]
  },
  {
   "cell_type": "code",
   "execution_count": null,
   "metadata": {
    "colab": {
     "base_uri": "https://localhost:8080/"
    },
    "id": "5FhND4GgF8L4",
    "outputId": "f38938e8-f175-4e3d-8930-84ebd3923db6"
   },
   "outputs": [
    {
     "name": "stdout",
     "output_type": "stream",
     "text": [
      "Epoch 1/20\n",
      "\u001b[1m251/251\u001b[0m \u001b[32m━━━━━━━━━━━━━━━━━━━━\u001b[0m\u001b[37m\u001b[0m \u001b[1m28s\u001b[0m 94ms/step - accuracy: 0.6140 - loss: 0.6859 - val_accuracy: 0.4998 - val_loss: 3.0505\n",
      "Epoch 2/20\n",
      "\u001b[1m251/251\u001b[0m \u001b[32m━━━━━━━━━━━━━━━━━━━━\u001b[0m\u001b[37m\u001b[0m \u001b[1m23s\u001b[0m 90ms/step - accuracy: 0.7729 - loss: 0.4756 - val_accuracy: 0.6199 - val_loss: 0.8486\n",
      "Epoch 3/20\n",
      "\u001b[1m251/251\u001b[0m \u001b[32m━━━━━━━━━━━━━━━━━━━━\u001b[0m\u001b[37m\u001b[0m \u001b[1m20s\u001b[0m 79ms/step - accuracy: 0.8589 - loss: 0.3317 - val_accuracy: 0.7583 - val_loss: 0.5038\n",
      "Epoch 4/20\n",
      "\u001b[1m251/251\u001b[0m \u001b[32m━━━━━━━━━━━━━━━━━━━━\u001b[0m\u001b[37m\u001b[0m \u001b[1m22s\u001b[0m 89ms/step - accuracy: 0.9217 - loss: 0.2199 - val_accuracy: 0.7588 - val_loss: 0.5288\n",
      "Epoch 5/20\n",
      "\u001b[1m251/251\u001b[0m \u001b[32m━━━━━━━━━━━━━━━━━━━━\u001b[0m\u001b[37m\u001b[0m \u001b[1m20s\u001b[0m 81ms/step - accuracy: 0.9591 - loss: 0.1351 - val_accuracy: 0.7603 - val_loss: 0.5592\n",
      "Epoch 6/20\n",
      "\u001b[1m251/251\u001b[0m \u001b[32m━━━━━━━━━━━━━━━━━━━━\u001b[0m\u001b[37m\u001b[0m \u001b[1m20s\u001b[0m 81ms/step - accuracy: 0.9813 - loss: 0.0874 - val_accuracy: 0.7711 - val_loss: 0.5580\n",
      "Epoch 7/20\n",
      "\u001b[1m251/251\u001b[0m \u001b[32m━━━━━━━━━━━━━━━━━━━━\u001b[0m\u001b[37m\u001b[0m \u001b[1m22s\u001b[0m 89ms/step - accuracy: 0.9860 - loss: 0.0645 - val_accuracy: 0.7751 - val_loss: 0.5732\n",
      "Epoch 8/20\n",
      "\u001b[1m251/251\u001b[0m \u001b[32m━━━━━━━━━━━━━━━━━━━━\u001b[0m\u001b[37m\u001b[0m \u001b[1m20s\u001b[0m 79ms/step - accuracy: 0.9929 - loss: 0.0435 - val_accuracy: 0.7785 - val_loss: 0.5789\n",
      "Epoch 9/20\n",
      "\u001b[1m251/251\u001b[0m \u001b[32m━━━━━━━━━━━━━━━━━━━━\u001b[0m\u001b[37m\u001b[0m \u001b[1m20s\u001b[0m 81ms/step - accuracy: 0.9921 - loss: 0.0402 - val_accuracy: 0.7810 - val_loss: 0.6040\n",
      "Epoch 10/20\n",
      "\u001b[1m251/251\u001b[0m \u001b[32m━━━━━━━━━━━━━━━━━━━━\u001b[0m\u001b[37m\u001b[0m \u001b[1m20s\u001b[0m 79ms/step - accuracy: 0.9963 - loss: 0.0289 - val_accuracy: 0.7761 - val_loss: 0.6341\n",
      "Epoch 11/20\n",
      "\u001b[1m251/251\u001b[0m \u001b[32m━━━━━━━━━━━━━━━━━━━━\u001b[0m\u001b[37m\u001b[0m \u001b[1m20s\u001b[0m 81ms/step - accuracy: 0.9963 - loss: 0.0228 - val_accuracy: 0.7835 - val_loss: 0.6372\n",
      "Epoch 12/20\n",
      "\u001b[1m251/251\u001b[0m \u001b[32m━━━━━━━━━━━━━━━━━━━━\u001b[0m\u001b[37m\u001b[0m \u001b[1m20s\u001b[0m 78ms/step - accuracy: 0.9974 - loss: 0.0186 - val_accuracy: 0.7781 - val_loss: 0.6635\n",
      "Epoch 13/20\n",
      "\u001b[1m251/251\u001b[0m \u001b[32m━━━━━━━━━━━━━━━━━━━━\u001b[0m\u001b[37m\u001b[0m \u001b[1m21s\u001b[0m 80ms/step - accuracy: 0.9986 - loss: 0.0153 - val_accuracy: 0.7820 - val_loss: 0.6681\n",
      "Epoch 14/20\n",
      "\u001b[1m251/251\u001b[0m \u001b[32m━━━━━━━━━━━━━━━━━━━━\u001b[0m\u001b[37m\u001b[0m \u001b[1m23s\u001b[0m 89ms/step - accuracy: 0.9983 - loss: 0.0126 - val_accuracy: 0.7810 - val_loss: 0.6943\n",
      "Epoch 15/20\n",
      "\u001b[1m251/251\u001b[0m \u001b[32m━━━━━━━━━━━━━━━━━━━━\u001b[0m\u001b[37m\u001b[0m \u001b[1m39s\u001b[0m 80ms/step - accuracy: 0.9987 - loss: 0.0114 - val_accuracy: 0.7944 - val_loss: 0.6994\n",
      "Epoch 16/20\n",
      "\u001b[1m251/251\u001b[0m \u001b[32m━━━━━━━━━━━━━━━━━━━━\u001b[0m\u001b[37m\u001b[0m \u001b[1m20s\u001b[0m 79ms/step - accuracy: 0.9986 - loss: 0.0111 - val_accuracy: 0.7810 - val_loss: 0.7047\n",
      "Epoch 17/20\n",
      "\u001b[1m251/251\u001b[0m \u001b[32m━━━━━━━━━━━━━━━━━━━━\u001b[0m\u001b[37m\u001b[0m \u001b[1m21s\u001b[0m 81ms/step - accuracy: 0.9989 - loss: 0.0086 - val_accuracy: 0.7855 - val_loss: 0.7205\n",
      "Epoch 18/20\n",
      "\u001b[1m251/251\u001b[0m \u001b[32m━━━━━━━━━━━━━━━━━━━━\u001b[0m\u001b[37m\u001b[0m \u001b[1m20s\u001b[0m 79ms/step - accuracy: 0.9996 - loss: 0.0082 - val_accuracy: 0.7894 - val_loss: 0.7073\n",
      "Epoch 19/20\n",
      "\u001b[1m251/251\u001b[0m \u001b[32m━━━━━━━━━━━━━━━━━━━━\u001b[0m\u001b[37m\u001b[0m \u001b[1m20s\u001b[0m 80ms/step - accuracy: 0.9995 - loss: 0.0082 - val_accuracy: 0.7795 - val_loss: 0.7253\n",
      "Epoch 20/20\n",
      "\u001b[1m251/251\u001b[0m \u001b[32m━━━━━━━━━━━━━━━━━━━━\u001b[0m\u001b[37m\u001b[0m \u001b[1m21s\u001b[0m 83ms/step - accuracy: 0.9994 - loss: 0.0068 - val_accuracy: 0.7815 - val_loss: 0.7227\n"
     ]
    }
   ],
   "source": [
    "model_adagrad_32 = get_model()\n",
    "model_adagrad_32.compile(optimizer='Adagrad', loss='binary_crossentropy', metrics=['accuracy'])\n",
    "history_Adagrad = model_adagrad_32.fit(train_ds, epochs=20, validation_data=validation_ds, batch_size=32)"
   ]
  },
  {
   "cell_type": "code",
   "execution_count": null,
   "metadata": {
    "colab": {
     "base_uri": "https://localhost:8080/"
    },
    "id": "rTnQURsmF9F2",
    "outputId": "8d9727f6-8fc1-4130-9789-5437cbeb1b96"
   },
   "outputs": [
    {
     "name": "stdout",
     "output_type": "stream",
     "text": [
      "Epoch 1/20\n",
      "\u001b[1m251/251\u001b[0m \u001b[32m━━━━━━━━━━━━━━━━━━━━\u001b[0m\u001b[37m\u001b[0m \u001b[1m30s\u001b[0m 100ms/step - accuracy: 0.6101 - loss: 0.7260 - val_accuracy: 0.5724 - val_loss: 0.7488\n",
      "Epoch 2/20\n",
      "\u001b[1m251/251\u001b[0m \u001b[32m━━━━━━━━━━━━━━━━━━━━\u001b[0m\u001b[37m\u001b[0m \u001b[1m20s\u001b[0m 79ms/step - accuracy: 0.7614 - loss: 0.4845 - val_accuracy: 0.6688 - val_loss: 0.7254\n",
      "Epoch 3/20\n",
      "\u001b[1m251/251\u001b[0m \u001b[32m━━━━━━━━━━━━━━━━━━━━\u001b[0m\u001b[37m\u001b[0m \u001b[1m23s\u001b[0m 90ms/step - accuracy: 0.8436 - loss: 0.3577 - val_accuracy: 0.7459 - val_loss: 0.5275\n",
      "Epoch 4/20\n",
      "\u001b[1m251/251\u001b[0m \u001b[32m━━━━━━━━━━━━━━━━━━━━\u001b[0m\u001b[37m\u001b[0m \u001b[1m22s\u001b[0m 89ms/step - accuracy: 0.9091 - loss: 0.2416 - val_accuracy: 0.7435 - val_loss: 0.5674\n",
      "Epoch 5/20\n",
      "\u001b[1m251/251\u001b[0m \u001b[32m━━━━━━━━━━━━━━━━━━━━\u001b[0m\u001b[37m\u001b[0m \u001b[1m39s\u001b[0m 80ms/step - accuracy: 0.9460 - loss: 0.1628 - val_accuracy: 0.7647 - val_loss: 0.5546\n",
      "Epoch 6/20\n",
      "\u001b[1m251/251\u001b[0m \u001b[32m━━━━━━━━━━━━━━━━━━━━\u001b[0m\u001b[37m\u001b[0m \u001b[1m20s\u001b[0m 79ms/step - accuracy: 0.9724 - loss: 0.0989 - val_accuracy: 0.7746 - val_loss: 0.5603\n",
      "Epoch 7/20\n",
      "\u001b[1m251/251\u001b[0m \u001b[32m━━━━━━━━━━━━━━━━━━━━\u001b[0m\u001b[37m\u001b[0m \u001b[1m20s\u001b[0m 81ms/step - accuracy: 0.9863 - loss: 0.0672 - val_accuracy: 0.7642 - val_loss: 0.6088\n",
      "Epoch 8/20\n",
      "\u001b[1m251/251\u001b[0m \u001b[32m━━━━━━━━━━━━━━━━━━━━\u001b[0m\u001b[37m\u001b[0m \u001b[1m20s\u001b[0m 78ms/step - accuracy: 0.9890 - loss: 0.0532 - val_accuracy: 0.7400 - val_loss: 0.6917\n",
      "Epoch 9/20\n",
      "\u001b[1m251/251\u001b[0m \u001b[32m━━━━━━━━━━━━━━━━━━━━\u001b[0m\u001b[37m\u001b[0m \u001b[1m20s\u001b[0m 80ms/step - accuracy: 0.9914 - loss: 0.0421 - val_accuracy: 0.7711 - val_loss: 0.6183\n",
      "Epoch 10/20\n",
      "\u001b[1m251/251\u001b[0m \u001b[32m━━━━━━━━━━━━━━━━━━━━\u001b[0m\u001b[37m\u001b[0m \u001b[1m20s\u001b[0m 81ms/step - accuracy: 0.9958 - loss: 0.0290 - val_accuracy: 0.7588 - val_loss: 0.6980\n",
      "Epoch 11/20\n",
      "\u001b[1m251/251\u001b[0m \u001b[32m━━━━━━━━━━━━━━━━━━━━\u001b[0m\u001b[37m\u001b[0m \u001b[1m20s\u001b[0m 80ms/step - accuracy: 0.9967 - loss: 0.0245 - val_accuracy: 0.7711 - val_loss: 0.6608\n",
      "Epoch 12/20\n",
      "\u001b[1m251/251\u001b[0m \u001b[32m━━━━━━━━━━━━━━━━━━━━\u001b[0m\u001b[37m\u001b[0m \u001b[1m21s\u001b[0m 83ms/step - accuracy: 0.9974 - loss: 0.0214 - val_accuracy: 0.7682 - val_loss: 0.6781\n",
      "Epoch 13/20\n",
      "\u001b[1m251/251\u001b[0m \u001b[32m━━━━━━━━━━━━━━━━━━━━\u001b[0m\u001b[37m\u001b[0m \u001b[1m20s\u001b[0m 78ms/step - accuracy: 0.9990 - loss: 0.0160 - val_accuracy: 0.7687 - val_loss: 0.7050\n",
      "Epoch 14/20\n",
      "\u001b[1m251/251\u001b[0m \u001b[32m━━━━━━━━━━━━━━━━━━━━\u001b[0m\u001b[37m\u001b[0m \u001b[1m23s\u001b[0m 90ms/step - accuracy: 0.9983 - loss: 0.0164 - val_accuracy: 0.7711 - val_loss: 0.6951\n",
      "Epoch 15/20\n",
      "\u001b[1m251/251\u001b[0m \u001b[32m━━━━━━━━━━━━━━━━━━━━\u001b[0m\u001b[37m\u001b[0m \u001b[1m38s\u001b[0m 78ms/step - accuracy: 0.9979 - loss: 0.0156 - val_accuracy: 0.7706 - val_loss: 0.7029\n",
      "Epoch 16/20\n",
      "\u001b[1m251/251\u001b[0m \u001b[32m━━━━━━━━━━━━━━━━━━━━\u001b[0m\u001b[37m\u001b[0m \u001b[1m21s\u001b[0m 83ms/step - accuracy: 0.9979 - loss: 0.0145 - val_accuracy: 0.7647 - val_loss: 0.7312\n",
      "Epoch 17/20\n",
      "\u001b[1m251/251\u001b[0m \u001b[32m━━━━━━━━━━━━━━━━━━━━\u001b[0m\u001b[37m\u001b[0m \u001b[1m40s\u001b[0m 81ms/step - accuracy: 0.9984 - loss: 0.0119 - val_accuracy: 0.7800 - val_loss: 0.7324\n",
      "Epoch 18/20\n",
      "\u001b[1m251/251\u001b[0m \u001b[32m━━━━━━━━━━━━━━━━━━━━\u001b[0m\u001b[37m\u001b[0m \u001b[1m23s\u001b[0m 90ms/step - accuracy: 0.9990 - loss: 0.0095 - val_accuracy: 0.7598 - val_loss: 0.7600\n",
      "Epoch 19/20\n",
      "\u001b[1m251/251\u001b[0m \u001b[32m━━━━━━━━━━━━━━━━━━━━\u001b[0m\u001b[37m\u001b[0m \u001b[1m39s\u001b[0m 81ms/step - accuracy: 0.9994 - loss: 0.0093 - val_accuracy: 0.7746 - val_loss: 0.7551\n",
      "Epoch 20/20\n",
      "\u001b[1m251/251\u001b[0m \u001b[32m━━━━━━━━━━━━━━━━━━━━\u001b[0m\u001b[37m\u001b[0m \u001b[1m20s\u001b[0m 80ms/step - accuracy: 0.9997 - loss: 0.0076 - val_accuracy: 0.7771 - val_loss: 0.7676\n"
     ]
    }
   ],
   "source": [
    "model_adagrad_64 = get_model()\n",
    "model_adagrad_64.compile(optimizer='Adagrad', loss='binary_crossentropy', metrics=['accuracy'])\n",
    "history_Adagrad = model_adagrad_64.fit(train_ds, epochs=20, validation_data=validation_ds, batch_size=64)"
   ]
  },
  {
   "cell_type": "code",
   "execution_count": null,
   "metadata": {
    "colab": {
     "base_uri": "https://localhost:8080/"
    },
    "id": "1AFxcS59GC3h",
    "outputId": "a959b9cd-a641-4c19-f5fc-622f50b06e08"
   },
   "outputs": [
    {
     "name": "stdout",
     "output_type": "stream",
     "text": [
      "Epoch 1/20\n",
      "\u001b[1m251/251\u001b[0m \u001b[32m━━━━━━━━━━━━━━━━━━━━\u001b[0m\u001b[37m\u001b[0m \u001b[1m29s\u001b[0m 98ms/step - accuracy: 0.6029 - loss: 0.7085 - val_accuracy: 0.5477 - val_loss: 0.7509\n",
      "Epoch 2/20\n",
      "\u001b[1m251/251\u001b[0m \u001b[32m━━━━━━━━━━━━━━━━━━━━\u001b[0m\u001b[37m\u001b[0m \u001b[1m33s\u001b[0m 78ms/step - accuracy: 0.7618 - loss: 0.4818 - val_accuracy: 0.6901 - val_loss: 0.5987\n",
      "Epoch 3/20\n",
      "\u001b[1m251/251\u001b[0m \u001b[32m━━━━━━━━━━━━━━━━━━━━\u001b[0m\u001b[37m\u001b[0m \u001b[1m21s\u001b[0m 81ms/step - accuracy: 0.8523 - loss: 0.3452 - val_accuracy: 0.7504 - val_loss: 0.5285\n",
      "Epoch 4/20\n",
      "\u001b[1m251/251\u001b[0m \u001b[32m━━━━━━━━━━━━━━━━━━━━\u001b[0m\u001b[37m\u001b[0m \u001b[1m20s\u001b[0m 80ms/step - accuracy: 0.9157 - loss: 0.2273 - val_accuracy: 0.7257 - val_loss: 0.6212\n",
      "Epoch 5/20\n",
      "\u001b[1m251/251\u001b[0m \u001b[32m━━━━━━━━━━━━━━━━━━━━\u001b[0m\u001b[37m\u001b[0m \u001b[1m20s\u001b[0m 79ms/step - accuracy: 0.9550 - loss: 0.1492 - val_accuracy: 0.7449 - val_loss: 0.5903\n",
      "Epoch 6/20\n",
      "\u001b[1m251/251\u001b[0m \u001b[32m━━━━━━━━━━━━━━━━━━━━\u001b[0m\u001b[37m\u001b[0m \u001b[1m21s\u001b[0m 82ms/step - accuracy: 0.9806 - loss: 0.0918 - val_accuracy: 0.7593 - val_loss: 0.6111\n",
      "Epoch 7/20\n",
      "\u001b[1m251/251\u001b[0m \u001b[32m━━━━━━━━━━━━━━━━━━━━\u001b[0m\u001b[37m\u001b[0m \u001b[1m20s\u001b[0m 78ms/step - accuracy: 0.9863 - loss: 0.0632 - val_accuracy: 0.7519 - val_loss: 0.6618\n",
      "Epoch 8/20\n",
      "\u001b[1m251/251\u001b[0m \u001b[32m━━━━━━━━━━━━━━━━━━━━\u001b[0m\u001b[37m\u001b[0m \u001b[1m20s\u001b[0m 82ms/step - accuracy: 0.9909 - loss: 0.0494 - val_accuracy: 0.7692 - val_loss: 0.6320\n",
      "Epoch 9/20\n",
      "\u001b[1m251/251\u001b[0m \u001b[32m━━━━━━━━━━━━━━━━━━━━\u001b[0m\u001b[37m\u001b[0m \u001b[1m41s\u001b[0m 80ms/step - accuracy: 0.9951 - loss: 0.0379 - val_accuracy: 0.7598 - val_loss: 0.6563\n",
      "Epoch 10/20\n",
      "\u001b[1m251/251\u001b[0m \u001b[32m━━━━━━━━━━━━━━━━━━━━\u001b[0m\u001b[37m\u001b[0m \u001b[1m20s\u001b[0m 81ms/step - accuracy: 0.9956 - loss: 0.0285 - val_accuracy: 0.7558 - val_loss: 0.6578\n",
      "Epoch 11/20\n",
      "\u001b[1m251/251\u001b[0m \u001b[32m━━━━━━━━━━━━━━━━━━━━\u001b[0m\u001b[37m\u001b[0m \u001b[1m20s\u001b[0m 79ms/step - accuracy: 0.9971 - loss: 0.0243 - val_accuracy: 0.7622 - val_loss: 0.6824\n",
      "Epoch 12/20\n",
      "\u001b[1m251/251\u001b[0m \u001b[32m━━━━━━━━━━━━━━━━━━━━\u001b[0m\u001b[37m\u001b[0m \u001b[1m22s\u001b[0m 88ms/step - accuracy: 0.9971 - loss: 0.0203 - val_accuracy: 0.7642 - val_loss: 0.6756\n",
      "Epoch 13/20\n",
      "\u001b[1m251/251\u001b[0m \u001b[32m━━━━━━━━━━━━━━━━━━━━\u001b[0m\u001b[37m\u001b[0m \u001b[1m41s\u001b[0m 90ms/step - accuracy: 0.9983 - loss: 0.0170 - val_accuracy: 0.7677 - val_loss: 0.6940\n",
      "Epoch 14/20\n",
      "\u001b[1m251/251\u001b[0m \u001b[32m━━━━━━━━━━━━━━━━━━━━\u001b[0m\u001b[37m\u001b[0m \u001b[1m38s\u001b[0m 79ms/step - accuracy: 0.9992 - loss: 0.0129 - val_accuracy: 0.7612 - val_loss: 0.6907\n",
      "Epoch 15/20\n",
      "\u001b[1m251/251\u001b[0m \u001b[32m━━━━━━━━━━━━━━━━━━━━\u001b[0m\u001b[37m\u001b[0m \u001b[1m20s\u001b[0m 81ms/step - accuracy: 0.9977 - loss: 0.0149 - val_accuracy: 0.7682 - val_loss: 0.7046\n",
      "Epoch 16/20\n",
      "\u001b[1m251/251\u001b[0m \u001b[32m━━━━━━━━━━━━━━━━━━━━\u001b[0m\u001b[37m\u001b[0m \u001b[1m20s\u001b[0m 78ms/step - accuracy: 0.9996 - loss: 0.0113 - val_accuracy: 0.7692 - val_loss: 0.7105\n",
      "Epoch 17/20\n",
      "\u001b[1m251/251\u001b[0m \u001b[32m━━━━━━━━━━━━━━━━━━━━\u001b[0m\u001b[37m\u001b[0m \u001b[1m20s\u001b[0m 80ms/step - accuracy: 0.9994 - loss: 0.0096 - val_accuracy: 0.7662 - val_loss: 0.7276\n",
      "Epoch 18/20\n",
      "\u001b[1m251/251\u001b[0m \u001b[32m━━━━━━━━━━━━━━━━━━━━\u001b[0m\u001b[37m\u001b[0m \u001b[1m20s\u001b[0m 78ms/step - accuracy: 0.9990 - loss: 0.0101 - val_accuracy: 0.7716 - val_loss: 0.7339\n",
      "Epoch 19/20\n",
      "\u001b[1m251/251\u001b[0m \u001b[32m━━━━━━━━━━━━━━━━━━━━\u001b[0m\u001b[37m\u001b[0m \u001b[1m23s\u001b[0m 90ms/step - accuracy: 0.9998 - loss: 0.0083 - val_accuracy: 0.7701 - val_loss: 0.7516\n",
      "Epoch 20/20\n",
      "\u001b[1m251/251\u001b[0m \u001b[32m━━━━━━━━━━━━━━━━━━━━\u001b[0m\u001b[37m\u001b[0m \u001b[1m20s\u001b[0m 81ms/step - accuracy: 0.9996 - loss: 0.0076 - val_accuracy: 0.7667 - val_loss: 0.7546\n"
     ]
    }
   ],
   "source": [
    "model_adagrad_128 = get_model()\n",
    "model_adagrad_128.compile(optimizer='Adagrad', loss='binary_crossentropy', metrics=['accuracy'])\n",
    "history_Adagrad = model_adagrad_128.fit(train_ds, epochs=20, validation_data=validation_ds, batch_size=128)"
   ]
  },
  {
   "cell_type": "code",
   "execution_count": null,
   "metadata": {
    "colab": {
     "base_uri": "https://localhost:8080/"
    },
    "id": "kXqbqzaiGF6m",
    "outputId": "5f000456-0bda-4085-8daf-323c4a69c80e"
   },
   "outputs": [
    {
     "name": "stdout",
     "output_type": "stream",
     "text": [
      "Epoch 1/20\n",
      "\u001b[1m251/251\u001b[0m \u001b[32m━━━━━━━━━━━━━━━━━━━━\u001b[0m\u001b[37m\u001b[0m \u001b[1m29s\u001b[0m 97ms/step - accuracy: 0.6114 - loss: 0.6955 - val_accuracy: 0.5487 - val_loss: 0.7206\n",
      "Epoch 2/20\n",
      "\u001b[1m251/251\u001b[0m \u001b[32m━━━━━━━━━━━━━━━━━━━━\u001b[0m\u001b[37m\u001b[0m \u001b[1m20s\u001b[0m 78ms/step - accuracy: 0.7664 - loss: 0.4826 - val_accuracy: 0.6738 - val_loss: 0.6542\n",
      "Epoch 3/20\n",
      "\u001b[1m251/251\u001b[0m \u001b[32m━━━━━━━━━━━━━━━━━━━━\u001b[0m\u001b[37m\u001b[0m \u001b[1m20s\u001b[0m 80ms/step - accuracy: 0.8557 - loss: 0.3466 - val_accuracy: 0.7385 - val_loss: 0.5299\n",
      "Epoch 4/20\n",
      "\u001b[1m251/251\u001b[0m \u001b[32m━━━━━━━━━━━━━━━━━━━━\u001b[0m\u001b[37m\u001b[0m \u001b[1m20s\u001b[0m 78ms/step - accuracy: 0.9212 - loss: 0.2265 - val_accuracy: 0.7548 - val_loss: 0.5698\n",
      "Epoch 5/20\n",
      "\u001b[1m251/251\u001b[0m \u001b[32m━━━━━━━━━━━━━━━━━━━━\u001b[0m\u001b[37m\u001b[0m \u001b[1m20s\u001b[0m 79ms/step - accuracy: 0.9489 - loss: 0.1542 - val_accuracy: 0.7583 - val_loss: 0.5703\n",
      "Epoch 6/20\n",
      "\u001b[1m251/251\u001b[0m \u001b[32m━━━━━━━━━━━━━━━━━━━━\u001b[0m\u001b[37m\u001b[0m \u001b[1m20s\u001b[0m 78ms/step - accuracy: 0.9703 - loss: 0.1119 - val_accuracy: 0.7736 - val_loss: 0.5846\n",
      "Epoch 7/20\n",
      "\u001b[1m251/251\u001b[0m \u001b[32m━━━━━━━━━━━━━━━━━━━━\u001b[0m\u001b[37m\u001b[0m \u001b[1m21s\u001b[0m 80ms/step - accuracy: 0.9817 - loss: 0.0780 - val_accuracy: 0.7726 - val_loss: 0.5998\n",
      "Epoch 8/20\n",
      "\u001b[1m251/251\u001b[0m \u001b[32m━━━━━━━━━━━━━━━━━━━━\u001b[0m\u001b[37m\u001b[0m \u001b[1m20s\u001b[0m 78ms/step - accuracy: 0.9887 - loss: 0.0559 - val_accuracy: 0.7771 - val_loss: 0.5991\n",
      "Epoch 9/20\n",
      "\u001b[1m251/251\u001b[0m \u001b[32m━━━━━━━━━━━━━━━━━━━━\u001b[0m\u001b[37m\u001b[0m \u001b[1m21s\u001b[0m 80ms/step - accuracy: 0.9919 - loss: 0.0443 - val_accuracy: 0.7751 - val_loss: 0.6276\n",
      "Epoch 10/20\n",
      "\u001b[1m251/251\u001b[0m \u001b[32m━━━━━━━━━━━━━━━━━━━━\u001b[0m\u001b[37m\u001b[0m \u001b[1m21s\u001b[0m 82ms/step - accuracy: 0.9943 - loss: 0.0337 - val_accuracy: 0.7682 - val_loss: 0.7293\n",
      "Epoch 11/20\n",
      "\u001b[1m251/251\u001b[0m \u001b[32m━━━━━━━━━━━━━━━━━━━━\u001b[0m\u001b[37m\u001b[0m \u001b[1m40s\u001b[0m 79ms/step - accuracy: 0.9951 - loss: 0.0304 - val_accuracy: 0.7682 - val_loss: 0.6636\n",
      "Epoch 12/20\n",
      "\u001b[1m251/251\u001b[0m \u001b[32m━━━━━━━━━━━━━━━━━━━━\u001b[0m\u001b[37m\u001b[0m \u001b[1m20s\u001b[0m 79ms/step - accuracy: 0.9988 - loss: 0.0207 - val_accuracy: 0.7810 - val_loss: 0.6616\n",
      "Epoch 13/20\n",
      "\u001b[1m251/251\u001b[0m \u001b[32m━━━━━━━━━━━━━━━━━━━━\u001b[0m\u001b[37m\u001b[0m \u001b[1m21s\u001b[0m 80ms/step - accuracy: 0.9987 - loss: 0.0203 - val_accuracy: 0.7761 - val_loss: 0.6616\n",
      "Epoch 14/20\n",
      "\u001b[1m251/251\u001b[0m \u001b[32m━━━━━━━━━━━━━━━━━━━━\u001b[0m\u001b[37m\u001b[0m \u001b[1m21s\u001b[0m 81ms/step - accuracy: 0.9982 - loss: 0.0171 - val_accuracy: 0.7612 - val_loss: 0.7890\n",
      "Epoch 15/20\n",
      "\u001b[1m251/251\u001b[0m \u001b[32m━━━━━━━━━━━━━━━━━━━━\u001b[0m\u001b[37m\u001b[0m \u001b[1m20s\u001b[0m 78ms/step - accuracy: 0.9975 - loss: 0.0194 - val_accuracy: 0.7276 - val_loss: 0.9428\n",
      "Epoch 16/20\n",
      "\u001b[1m251/251\u001b[0m \u001b[32m━━━━━━━━━━━━━━━━━━━━\u001b[0m\u001b[37m\u001b[0m \u001b[1m21s\u001b[0m 82ms/step - accuracy: 0.9952 - loss: 0.0201 - val_accuracy: 0.7795 - val_loss: 0.6897\n",
      "Epoch 17/20\n",
      "\u001b[1m251/251\u001b[0m \u001b[32m━━━━━━━━━━━━━━━━━━━━\u001b[0m\u001b[37m\u001b[0m \u001b[1m20s\u001b[0m 78ms/step - accuracy: 0.9990 - loss: 0.0129 - val_accuracy: 0.7701 - val_loss: 0.7065\n",
      "Epoch 18/20\n",
      "\u001b[1m251/251\u001b[0m \u001b[32m━━━━━━━━━━━━━━━━━━━━\u001b[0m\u001b[37m\u001b[0m \u001b[1m20s\u001b[0m 80ms/step - accuracy: 0.9984 - loss: 0.0124 - val_accuracy: 0.7731 - val_loss: 0.7051\n",
      "Epoch 19/20\n",
      "\u001b[1m251/251\u001b[0m \u001b[32m━━━━━━━━━━━━━━━━━━━━\u001b[0m\u001b[37m\u001b[0m \u001b[1m20s\u001b[0m 78ms/step - accuracy: 0.9993 - loss: 0.0093 - val_accuracy: 0.7761 - val_loss: 0.7110\n",
      "Epoch 20/20\n",
      "\u001b[1m251/251\u001b[0m \u001b[32m━━━━━━━━━━━━━━━━━━━━\u001b[0m\u001b[37m\u001b[0m \u001b[1m20s\u001b[0m 79ms/step - accuracy: 0.9996 - loss: 0.0085 - val_accuracy: 0.7785 - val_loss: 0.7301\n"
     ]
    }
   ],
   "source": [
    "model_adagrad_512 = get_model()\n",
    "model_adagrad_512.compile(optimizer='Adagrad', loss='binary_crossentropy', metrics=['accuracy'])\n",
    "history_Adagrad = model_adagrad_512.fit(train_ds, epochs=20, validation_data=validation_ds, batch_size=512)"
   ]
  },
  {
   "cell_type": "markdown",
   "metadata": {
    "id": "4eQDQW2DGJQB"
   },
   "source": [
    "# Different Batch sizes with AdaDelta"
   ]
  },
  {
   "cell_type": "code",
   "execution_count": null,
   "metadata": {
    "colab": {
     "base_uri": "https://localhost:8080/"
    },
    "id": "snj4nWdiGIOt",
    "outputId": "009010e1-f40c-442e-8253-74c483774f4b"
   },
   "outputs": [
    {
     "name": "stdout",
     "output_type": "stream",
     "text": [
      "Epoch 1/20\n",
      "\u001b[1m251/251\u001b[0m \u001b[32m━━━━━━━━━━━━━━━━━━━━\u001b[0m\u001b[37m\u001b[0m \u001b[1m31s\u001b[0m 103ms/step - accuracy: 0.5383 - loss: 0.7790 - val_accuracy: 0.5101 - val_loss: 0.7234\n",
      "Epoch 2/20\n",
      "\u001b[1m251/251\u001b[0m \u001b[32m━━━━━━━━━━━━━━━━━━━━\u001b[0m\u001b[37m\u001b[0m \u001b[1m35s\u001b[0m 91ms/step - accuracy: 0.6386 - loss: 0.6460 - val_accuracy: 0.6080 - val_loss: 0.6547\n",
      "Epoch 3/20\n",
      "\u001b[1m251/251\u001b[0m \u001b[32m━━━━━━━━━━━━━━━━━━━━\u001b[0m\u001b[37m\u001b[0m \u001b[1m38s\u001b[0m 79ms/step - accuracy: 0.6767 - loss: 0.5975 - val_accuracy: 0.6639 - val_loss: 0.6139\n",
      "Epoch 4/20\n",
      "\u001b[1m251/251\u001b[0m \u001b[32m━━━━━━━━━━━━━━━━━━━━\u001b[0m\u001b[37m\u001b[0m \u001b[1m23s\u001b[0m 90ms/step - accuracy: 0.6961 - loss: 0.5647 - val_accuracy: 0.6733 - val_loss: 0.6022\n",
      "Epoch 5/20\n",
      "\u001b[1m251/251\u001b[0m \u001b[32m━━━━━━━━━━━━━━━━━━━━\u001b[0m\u001b[37m\u001b[0m \u001b[1m29s\u001b[0m 115ms/step - accuracy: 0.7310 - loss: 0.5345 - val_accuracy: 0.6752 - val_loss: 0.5950\n",
      "Epoch 6/20\n",
      "\u001b[1m251/251\u001b[0m \u001b[32m━━━━━━━━━━━━━━━━━━━━\u001b[0m\u001b[37m\u001b[0m \u001b[1m21s\u001b[0m 83ms/step - accuracy: 0.7607 - loss: 0.4935 - val_accuracy: 0.6886 - val_loss: 0.5882\n",
      "Epoch 7/20\n",
      "\u001b[1m251/251\u001b[0m \u001b[32m━━━━━━━━━━━━━━━━━━━━\u001b[0m\u001b[37m\u001b[0m \u001b[1m40s\u001b[0m 81ms/step - accuracy: 0.7853 - loss: 0.4683 - val_accuracy: 0.6965 - val_loss: 0.5811\n",
      "Epoch 8/20\n",
      "\u001b[1m251/251\u001b[0m \u001b[32m━━━━━━━━━━━━━━━━━━━━\u001b[0m\u001b[37m\u001b[0m \u001b[1m23s\u001b[0m 91ms/step - accuracy: 0.8034 - loss: 0.4431 - val_accuracy: 0.7004 - val_loss: 0.5747\n",
      "Epoch 9/20\n",
      "\u001b[1m251/251\u001b[0m \u001b[32m━━━━━━━━━━━━━━━━━━━━\u001b[0m\u001b[37m\u001b[0m \u001b[1m41s\u001b[0m 90ms/step - accuracy: 0.8114 - loss: 0.4204 - val_accuracy: 0.7044 - val_loss: 0.5707\n",
      "Epoch 10/20\n",
      "\u001b[1m251/251\u001b[0m \u001b[32m━━━━━━━━━━━━━━━━━━━━\u001b[0m\u001b[37m\u001b[0m \u001b[1m23s\u001b[0m 90ms/step - accuracy: 0.8275 - loss: 0.4006 - val_accuracy: 0.7039 - val_loss: 0.5660\n",
      "Epoch 11/20\n",
      "\u001b[1m251/251\u001b[0m \u001b[32m━━━━━━━━━━━━━━━━━━━━\u001b[0m\u001b[37m\u001b[0m \u001b[1m20s\u001b[0m 79ms/step - accuracy: 0.8497 - loss: 0.3751 - val_accuracy: 0.7084 - val_loss: 0.5627\n",
      "Epoch 12/20\n",
      "\u001b[1m251/251\u001b[0m \u001b[32m━━━━━━━━━━━━━━━━━━━━\u001b[0m\u001b[37m\u001b[0m \u001b[1m21s\u001b[0m 80ms/step - accuracy: 0.8597 - loss: 0.3533 - val_accuracy: 0.7113 - val_loss: 0.5589\n",
      "Epoch 13/20\n",
      "\u001b[1m251/251\u001b[0m \u001b[32m━━━━━━━━━━━━━━━━━━━━\u001b[0m\u001b[37m\u001b[0m \u001b[1m20s\u001b[0m 79ms/step - accuracy: 0.8752 - loss: 0.3306 - val_accuracy: 0.7118 - val_loss: 0.5576\n",
      "Epoch 14/20\n",
      "\u001b[1m251/251\u001b[0m \u001b[32m━━━━━━━━━━━━━━━━━━━━\u001b[0m\u001b[37m\u001b[0m \u001b[1m20s\u001b[0m 81ms/step - accuracy: 0.8822 - loss: 0.3203 - val_accuracy: 0.7123 - val_loss: 0.5550\n",
      "Epoch 15/20\n",
      "\u001b[1m251/251\u001b[0m \u001b[32m━━━━━━━━━━━━━━━━━━━━\u001b[0m\u001b[37m\u001b[0m \u001b[1m20s\u001b[0m 79ms/step - accuracy: 0.8963 - loss: 0.3003 - val_accuracy: 0.7163 - val_loss: 0.5507\n",
      "Epoch 16/20\n",
      "\u001b[1m251/251\u001b[0m \u001b[32m━━━━━━━━━━━━━━━━━━━━\u001b[0m\u001b[37m\u001b[0m \u001b[1m21s\u001b[0m 82ms/step - accuracy: 0.9029 - loss: 0.2851 - val_accuracy: 0.7192 - val_loss: 0.5494\n",
      "Epoch 17/20\n",
      "\u001b[1m251/251\u001b[0m \u001b[32m━━━━━━━━━━━━━━━━━━━━\u001b[0m\u001b[37m\u001b[0m \u001b[1m40s\u001b[0m 79ms/step - accuracy: 0.9099 - loss: 0.2751 - val_accuracy: 0.7237 - val_loss: 0.5478\n",
      "Epoch 18/20\n",
      "\u001b[1m251/251\u001b[0m \u001b[32m━━━━━━━━━━━━━━━━━━━━\u001b[0m\u001b[37m\u001b[0m \u001b[1m21s\u001b[0m 82ms/step - accuracy: 0.9111 - loss: 0.2624 - val_accuracy: 0.7271 - val_loss: 0.5452\n",
      "Epoch 19/20\n",
      "\u001b[1m251/251\u001b[0m \u001b[32m━━━━━━━━━━━━━━━━━━━━\u001b[0m\u001b[37m\u001b[0m \u001b[1m21s\u001b[0m 84ms/step - accuracy: 0.9288 - loss: 0.2422 - val_accuracy: 0.7326 - val_loss: 0.5445\n",
      "Epoch 20/20\n",
      "\u001b[1m251/251\u001b[0m \u001b[32m━━━━━━━━━━━━━━━━━━━━\u001b[0m\u001b[37m\u001b[0m \u001b[1m20s\u001b[0m 79ms/step - accuracy: 0.9274 - loss: 0.2387 - val_accuracy: 0.7311 - val_loss: 0.5427\n"
     ]
    }
   ],
   "source": [
    "model_adadelta_16 = get_model()\n",
    "model_adadelta_16.compile(optimizer='AdaDelta', loss='binary_crossentropy', metrics=['accuracy'])\n",
    "history_AdaDelta = model_adadelta_16.fit(train_ds, epochs=20, validation_data=validation_ds, batch_size=16)"
   ]
  },
  {
   "cell_type": "code",
   "execution_count": null,
   "metadata": {
    "colab": {
     "base_uri": "https://localhost:8080/"
    },
    "id": "x62cT0b3GaNQ",
    "outputId": "db7f9ea5-5d0d-4190-ea32-0221b3887f70"
   },
   "outputs": [
    {
     "name": "stdout",
     "output_type": "stream",
     "text": [
      "Epoch 1/20\n",
      "\u001b[1m251/251\u001b[0m \u001b[32m━━━━━━━━━━━━━━━━━━━━\u001b[0m\u001b[37m\u001b[0m \u001b[1m31s\u001b[0m 99ms/step - accuracy: 0.5368 - loss: 0.7923 - val_accuracy: 0.5348 - val_loss: 0.6956\n",
      "Epoch 2/20\n",
      "\u001b[1m251/251\u001b[0m \u001b[32m━━━━━━━━━━━━━━━━━━━━\u001b[0m\u001b[37m\u001b[0m \u001b[1m32s\u001b[0m 79ms/step - accuracy: 0.6337 - loss: 0.6455 - val_accuracy: 0.6149 - val_loss: 0.6625\n",
      "Epoch 3/20\n",
      "\u001b[1m251/251\u001b[0m \u001b[32m━━━━━━━━━━━━━━━━━━━━\u001b[0m\u001b[37m\u001b[0m \u001b[1m23s\u001b[0m 91ms/step - accuracy: 0.6837 - loss: 0.5908 - val_accuracy: 0.6579 - val_loss: 0.6248\n",
      "Epoch 4/20\n",
      "\u001b[1m251/251\u001b[0m \u001b[32m━━━━━━━━━━━━━━━━━━━━\u001b[0m\u001b[37m\u001b[0m \u001b[1m22s\u001b[0m 89ms/step - accuracy: 0.7075 - loss: 0.5558 - val_accuracy: 0.6777 - val_loss: 0.6122\n",
      "Epoch 5/20\n",
      "\u001b[1m251/251\u001b[0m \u001b[32m━━━━━━━━━━━━━━━━━━━━\u001b[0m\u001b[37m\u001b[0m \u001b[1m20s\u001b[0m 79ms/step - accuracy: 0.7367 - loss: 0.5204 - val_accuracy: 0.6896 - val_loss: 0.6012\n",
      "Epoch 6/20\n",
      "\u001b[1m251/251\u001b[0m \u001b[32m━━━━━━━━━━━━━━━━━━━━\u001b[0m\u001b[37m\u001b[0m \u001b[1m21s\u001b[0m 81ms/step - accuracy: 0.7617 - loss: 0.4958 - val_accuracy: 0.6901 - val_loss: 0.5941\n",
      "Epoch 7/20\n",
      "\u001b[1m251/251\u001b[0m \u001b[32m━━━━━━━━━━━━━━━━━━━━\u001b[0m\u001b[37m\u001b[0m \u001b[1m20s\u001b[0m 78ms/step - accuracy: 0.7925 - loss: 0.4580 - val_accuracy: 0.6945 - val_loss: 0.5889\n",
      "Epoch 8/20\n",
      "\u001b[1m251/251\u001b[0m \u001b[32m━━━━━━━━━━━━━━━━━━━━\u001b[0m\u001b[37m\u001b[0m \u001b[1m21s\u001b[0m 81ms/step - accuracy: 0.8041 - loss: 0.4385 - val_accuracy: 0.7000 - val_loss: 0.5840\n",
      "Epoch 9/20\n",
      "\u001b[1m251/251\u001b[0m \u001b[32m━━━━━━━━━━━━━━━━━━━━\u001b[0m\u001b[37m\u001b[0m \u001b[1m22s\u001b[0m 89ms/step - accuracy: 0.8108 - loss: 0.4222 - val_accuracy: 0.6995 - val_loss: 0.5807\n",
      "Epoch 10/20\n",
      "\u001b[1m251/251\u001b[0m \u001b[32m━━━━━━━━━━━━━━━━━━━━\u001b[0m\u001b[37m\u001b[0m \u001b[1m39s\u001b[0m 80ms/step - accuracy: 0.8348 - loss: 0.3929 - val_accuracy: 0.7069 - val_loss: 0.5776\n",
      "Epoch 11/20\n",
      "\u001b[1m251/251\u001b[0m \u001b[32m━━━━━━━━━━━━━━━━━━━━\u001b[0m\u001b[37m\u001b[0m \u001b[1m20s\u001b[0m 80ms/step - accuracy: 0.8447 - loss: 0.3804 - val_accuracy: 0.7113 - val_loss: 0.5719\n",
      "Epoch 12/20\n",
      "\u001b[1m251/251\u001b[0m \u001b[32m━━━━━━━━━━━━━━━━━━━━\u001b[0m\u001b[37m\u001b[0m \u001b[1m21s\u001b[0m 81ms/step - accuracy: 0.8649 - loss: 0.3534 - val_accuracy: 0.7103 - val_loss: 0.5695\n",
      "Epoch 13/20\n",
      "\u001b[1m251/251\u001b[0m \u001b[32m━━━━━━━━━━━━━━━━━━━━\u001b[0m\u001b[37m\u001b[0m \u001b[1m20s\u001b[0m 79ms/step - accuracy: 0.8766 - loss: 0.3344 - val_accuracy: 0.7153 - val_loss: 0.5650\n",
      "Epoch 14/20\n",
      "\u001b[1m251/251\u001b[0m \u001b[32m━━━━━━━━━━━━━━━━━━━━\u001b[0m\u001b[37m\u001b[0m \u001b[1m21s\u001b[0m 80ms/step - accuracy: 0.8855 - loss: 0.3185 - val_accuracy: 0.7177 - val_loss: 0.5635\n",
      "Epoch 15/20\n",
      "\u001b[1m251/251\u001b[0m \u001b[32m━━━━━━━━━━━━━━━━━━━━\u001b[0m\u001b[37m\u001b[0m \u001b[1m21s\u001b[0m 84ms/step - accuracy: 0.8941 - loss: 0.2987 - val_accuracy: 0.7217 - val_loss: 0.5618\n",
      "Epoch 16/20\n",
      "\u001b[1m251/251\u001b[0m \u001b[32m━━━━━━━━━━━━━━━━━━━━\u001b[0m\u001b[37m\u001b[0m \u001b[1m20s\u001b[0m 79ms/step - accuracy: 0.8953 - loss: 0.2902 - val_accuracy: 0.7257 - val_loss: 0.5584\n",
      "Epoch 17/20\n",
      "\u001b[1m251/251\u001b[0m \u001b[32m━━━━━━━━━━━━━━━━━━━━\u001b[0m\u001b[37m\u001b[0m \u001b[1m21s\u001b[0m 82ms/step - accuracy: 0.9093 - loss: 0.2726 - val_accuracy: 0.7247 - val_loss: 0.5584\n",
      "Epoch 18/20\n",
      "\u001b[1m251/251\u001b[0m \u001b[32m━━━━━━━━━━━━━━━━━━━━\u001b[0m\u001b[37m\u001b[0m \u001b[1m41s\u001b[0m 81ms/step - accuracy: 0.9177 - loss: 0.2625 - val_accuracy: 0.7217 - val_loss: 0.5584\n",
      "Epoch 19/20\n",
      "\u001b[1m251/251\u001b[0m \u001b[32m━━━━━━━━━━━━━━━━━━━━\u001b[0m\u001b[37m\u001b[0m \u001b[1m23s\u001b[0m 90ms/step - accuracy: 0.9263 - loss: 0.2440 - val_accuracy: 0.7266 - val_loss: 0.5583\n",
      "Epoch 20/20\n",
      "\u001b[1m251/251\u001b[0m \u001b[32m━━━━━━━━━━━━━━━━━━━━\u001b[0m\u001b[37m\u001b[0m \u001b[1m20s\u001b[0m 79ms/step - accuracy: 0.9301 - loss: 0.2368 - val_accuracy: 0.7271 - val_loss: 0.5555\n"
     ]
    }
   ],
   "source": [
    "model_adadelta_32 = get_model()\n",
    "model_adadelta_32.compile(optimizer='AdaDelta', loss='binary_crossentropy', metrics=['accuracy'])\n",
    "history_AdaDelta = model_adadelta_32.fit(train_ds, epochs=20, validation_data=validation_ds, batch_size=32)"
   ]
  },
  {
   "cell_type": "code",
   "execution_count": null,
   "metadata": {
    "colab": {
     "base_uri": "https://localhost:8080/"
    },
    "id": "3xC9oK7nGcsC",
    "outputId": "ec64cba5-5ea0-4812-8359-0e44f5b3d438"
   },
   "outputs": [
    {
     "name": "stdout",
     "output_type": "stream",
     "text": [
      "Epoch 1/20\n",
      "\u001b[1m251/251\u001b[0m \u001b[32m━━━━━━━━━━━━━━━━━━━━\u001b[0m\u001b[37m\u001b[0m \u001b[1m30s\u001b[0m 94ms/step - accuracy: 0.5620 - loss: 0.7607 - val_accuracy: 0.5190 - val_loss: 0.7078\n",
      "Epoch 2/20\n",
      "\u001b[1m251/251\u001b[0m \u001b[32m━━━━━━━━━━━━━━━━━━━━\u001b[0m\u001b[37m\u001b[0m \u001b[1m20s\u001b[0m 79ms/step - accuracy: 0.6464 - loss: 0.6316 - val_accuracy: 0.6139 - val_loss: 0.6621\n",
      "Epoch 3/20\n",
      "\u001b[1m251/251\u001b[0m \u001b[32m━━━━━━━━━━━━━━━━━━━━\u001b[0m\u001b[37m\u001b[0m \u001b[1m21s\u001b[0m 82ms/step - accuracy: 0.6970 - loss: 0.5751 - val_accuracy: 0.6639 - val_loss: 0.6117\n",
      "Epoch 4/20\n",
      "\u001b[1m251/251\u001b[0m \u001b[32m━━━━━━━━━━━━━━━━━━━━\u001b[0m\u001b[37m\u001b[0m \u001b[1m41s\u001b[0m 81ms/step - accuracy: 0.7334 - loss: 0.5310 - val_accuracy: 0.6836 - val_loss: 0.6001\n",
      "Epoch 5/20\n",
      "\u001b[1m251/251\u001b[0m \u001b[32m━━━━━━━━━━━━━━━━━━━━\u001b[0m\u001b[37m\u001b[0m \u001b[1m21s\u001b[0m 82ms/step - accuracy: 0.7595 - loss: 0.4996 - val_accuracy: 0.6822 - val_loss: 0.5933\n",
      "Epoch 6/20\n",
      "\u001b[1m251/251\u001b[0m \u001b[32m━━━━━━━━━━━━━━━━━━━━\u001b[0m\u001b[37m\u001b[0m \u001b[1m40s\u001b[0m 80ms/step - accuracy: 0.7851 - loss: 0.4629 - val_accuracy: 0.6881 - val_loss: 0.5866\n",
      "Epoch 7/20\n",
      "\u001b[1m251/251\u001b[0m \u001b[32m━━━━━━━━━━━━━━━━━━━━\u001b[0m\u001b[37m\u001b[0m \u001b[1m20s\u001b[0m 79ms/step - accuracy: 0.8009 - loss: 0.4340 - val_accuracy: 0.6925 - val_loss: 0.5807\n",
      "Epoch 8/20\n",
      "\u001b[1m251/251\u001b[0m \u001b[32m━━━━━━━━━━━━━━━━━━━━\u001b[0m\u001b[37m\u001b[0m \u001b[1m20s\u001b[0m 81ms/step - accuracy: 0.8097 - loss: 0.4190 - val_accuracy: 0.6985 - val_loss: 0.5770\n",
      "Epoch 9/20\n",
      "\u001b[1m251/251\u001b[0m \u001b[32m━━━━━━━━━━━━━━━━━━━━\u001b[0m\u001b[37m\u001b[0m \u001b[1m20s\u001b[0m 78ms/step - accuracy: 0.8372 - loss: 0.3870 - val_accuracy: 0.7093 - val_loss: 0.5711\n",
      "Epoch 10/20\n",
      "\u001b[1m251/251\u001b[0m \u001b[32m━━━━━━━━━━━━━━━━━━━━\u001b[0m\u001b[37m\u001b[0m \u001b[1m21s\u001b[0m 81ms/step - accuracy: 0.8444 - loss: 0.3640 - val_accuracy: 0.7084 - val_loss: 0.5689\n",
      "Epoch 11/20\n",
      "\u001b[1m251/251\u001b[0m \u001b[32m━━━━━━━━━━━━━━━━━━━━\u001b[0m\u001b[37m\u001b[0m \u001b[1m21s\u001b[0m 82ms/step - accuracy: 0.8555 - loss: 0.3484 - val_accuracy: 0.7088 - val_loss: 0.5671\n",
      "Epoch 12/20\n",
      "\u001b[1m251/251\u001b[0m \u001b[32m━━━━━━━━━━━━━━━━━━━━\u001b[0m\u001b[37m\u001b[0m \u001b[1m41s\u001b[0m 81ms/step - accuracy: 0.8758 - loss: 0.3311 - val_accuracy: 0.7158 - val_loss: 0.5623\n",
      "Epoch 13/20\n",
      "\u001b[1m251/251\u001b[0m \u001b[32m━━━━━━━━━━━━━━━━━━━━\u001b[0m\u001b[37m\u001b[0m \u001b[1m20s\u001b[0m 79ms/step - accuracy: 0.8878 - loss: 0.3121 - val_accuracy: 0.7168 - val_loss: 0.5655\n",
      "Epoch 14/20\n",
      "\u001b[1m251/251\u001b[0m \u001b[32m━━━━━━━━━━━━━━━━━━━━\u001b[0m\u001b[37m\u001b[0m \u001b[1m20s\u001b[0m 82ms/step - accuracy: 0.8908 - loss: 0.2996 - val_accuracy: 0.7232 - val_loss: 0.5608\n",
      "Epoch 15/20\n",
      "\u001b[1m251/251\u001b[0m \u001b[32m━━━━━━━━━━━━━━━━━━━━\u001b[0m\u001b[37m\u001b[0m \u001b[1m40s\u001b[0m 78ms/step - accuracy: 0.9046 - loss: 0.2804 - val_accuracy: 0.7197 - val_loss: 0.5646\n",
      "Epoch 16/20\n",
      "\u001b[1m251/251\u001b[0m \u001b[32m━━━━━━━━━━━━━━━━━━━━\u001b[0m\u001b[37m\u001b[0m \u001b[1m21s\u001b[0m 81ms/step - accuracy: 0.9080 - loss: 0.2718 - val_accuracy: 0.7286 - val_loss: 0.5600\n",
      "Epoch 17/20\n",
      "\u001b[1m251/251\u001b[0m \u001b[32m━━━━━━━━━━━━━━━━━━━━\u001b[0m\u001b[37m\u001b[0m \u001b[1m20s\u001b[0m 79ms/step - accuracy: 0.9178 - loss: 0.2568 - val_accuracy: 0.7276 - val_loss: 0.5607\n",
      "Epoch 18/20\n",
      "\u001b[1m251/251\u001b[0m \u001b[32m━━━━━━━━━━━━━━━━━━━━\u001b[0m\u001b[37m\u001b[0m \u001b[1m20s\u001b[0m 80ms/step - accuracy: 0.9199 - loss: 0.2497 - val_accuracy: 0.7311 - val_loss: 0.5614\n",
      "Epoch 19/20\n",
      "\u001b[1m251/251\u001b[0m \u001b[32m━━━━━━━━━━━━━━━━━━━━\u001b[0m\u001b[37m\u001b[0m \u001b[1m20s\u001b[0m 78ms/step - accuracy: 0.9337 - loss: 0.2299 - val_accuracy: 0.7296 - val_loss: 0.5612\n",
      "Epoch 20/20\n",
      "\u001b[1m251/251\u001b[0m \u001b[32m━━━━━━━━━━━━━━━━━━━━\u001b[0m\u001b[37m\u001b[0m \u001b[1m20s\u001b[0m 80ms/step - accuracy: 0.9341 - loss: 0.2211 - val_accuracy: 0.7346 - val_loss: 0.5616\n"
     ]
    }
   ],
   "source": [
    "model_adadelta_64 = get_model()\n",
    "model_adadelta_64.compile(optimizer='AdaDelta', loss='binary_crossentropy', metrics=['accuracy'])\n",
    "history_AdaDelta = model_adadelta_64.fit(train_ds, epochs=20, validation_data=validation_ds, batch_size=64)"
   ]
  },
  {
   "cell_type": "code",
   "execution_count": null,
   "metadata": {
    "colab": {
     "base_uri": "https://localhost:8080/"
    },
    "id": "mH7x_xlZGlwm",
    "outputId": "60dffbdb-b57e-45e2-8391-59ff452c8175"
   },
   "outputs": [
    {
     "name": "stdout",
     "output_type": "stream",
     "text": [
      "Epoch 1/20\n",
      "\u001b[1m251/251\u001b[0m \u001b[32m━━━━━━━━━━━━━━━━━━━━\u001b[0m\u001b[37m\u001b[0m \u001b[1m28s\u001b[0m 92ms/step - accuracy: 0.5269 - loss: 0.7605 - val_accuracy: 0.5007 - val_loss: 0.7098\n",
      "Epoch 2/20\n",
      "\u001b[1m251/251\u001b[0m \u001b[32m━━━━━━━━━━━━━━━━━━━━\u001b[0m\u001b[37m\u001b[0m \u001b[1m35s\u001b[0m 80ms/step - accuracy: 0.6350 - loss: 0.6437 - val_accuracy: 0.5798 - val_loss: 0.6725\n",
      "Epoch 3/20\n",
      "\u001b[1m251/251\u001b[0m \u001b[32m━━━━━━━━━━━━━━━━━━━━\u001b[0m\u001b[37m\u001b[0m \u001b[1m20s\u001b[0m 79ms/step - accuracy: 0.6754 - loss: 0.5929 - val_accuracy: 0.6550 - val_loss: 0.6269\n",
      "Epoch 4/20\n",
      "\u001b[1m251/251\u001b[0m \u001b[32m━━━━━━━━━━━━━━━━━━━━\u001b[0m\u001b[37m\u001b[0m \u001b[1m21s\u001b[0m 81ms/step - accuracy: 0.7076 - loss: 0.5606 - val_accuracy: 0.6619 - val_loss: 0.6138\n",
      "Epoch 5/20\n",
      "\u001b[1m251/251\u001b[0m \u001b[32m━━━━━━━━━━━━━━━━━━━━\u001b[0m\u001b[37m\u001b[0m \u001b[1m20s\u001b[0m 79ms/step - accuracy: 0.7400 - loss: 0.5262 - val_accuracy: 0.6658 - val_loss: 0.6055\n",
      "Epoch 6/20\n",
      "\u001b[1m251/251\u001b[0m \u001b[32m━━━━━━━━━━━━━━━━━━━━\u001b[0m\u001b[37m\u001b[0m \u001b[1m21s\u001b[0m 79ms/step - accuracy: 0.7608 - loss: 0.5001 - val_accuracy: 0.6703 - val_loss: 0.6006\n",
      "Epoch 7/20\n",
      "\u001b[1m251/251\u001b[0m \u001b[32m━━━━━━━━━━━━━━━━━━━━\u001b[0m\u001b[37m\u001b[0m \u001b[1m21s\u001b[0m 83ms/step - accuracy: 0.7811 - loss: 0.4711 - val_accuracy: 0.6822 - val_loss: 0.5943\n",
      "Epoch 8/20\n",
      "\u001b[1m251/251\u001b[0m \u001b[32m━━━━━━━━━━━━━━━━━━━━\u001b[0m\u001b[37m\u001b[0m \u001b[1m20s\u001b[0m 79ms/step - accuracy: 0.7924 - loss: 0.4498 - val_accuracy: 0.6896 - val_loss: 0.5907\n",
      "Epoch 9/20\n",
      "\u001b[1m251/251\u001b[0m \u001b[32m━━━━━━━━━━━━━━━━━━━━\u001b[0m\u001b[37m\u001b[0m \u001b[1m22s\u001b[0m 89ms/step - accuracy: 0.8187 - loss: 0.4239 - val_accuracy: 0.6935 - val_loss: 0.5856\n",
      "Epoch 10/20\n",
      "\u001b[1m251/251\u001b[0m \u001b[32m━━━━━━━━━━━━━━━━━━━━\u001b[0m\u001b[37m\u001b[0m \u001b[1m20s\u001b[0m 78ms/step - accuracy: 0.8344 - loss: 0.4020 - val_accuracy: 0.6970 - val_loss: 0.5816\n",
      "Epoch 11/20\n",
      "\u001b[1m251/251\u001b[0m \u001b[32m━━━━━━━━━━━━━━━━━━━━\u001b[0m\u001b[37m\u001b[0m \u001b[1m20s\u001b[0m 81ms/step - accuracy: 0.8503 - loss: 0.3818 - val_accuracy: 0.7029 - val_loss: 0.5789\n",
      "Epoch 12/20\n",
      "\u001b[1m251/251\u001b[0m \u001b[32m━━━━━━━━━━━━━━━━━━━━\u001b[0m\u001b[37m\u001b[0m \u001b[1m22s\u001b[0m 89ms/step - accuracy: 0.8554 - loss: 0.3671 - val_accuracy: 0.7049 - val_loss: 0.5768\n",
      "Epoch 13/20\n",
      "\u001b[1m251/251\u001b[0m \u001b[32m━━━━━━━━━━━━━━━━━━━━\u001b[0m\u001b[37m\u001b[0m \u001b[1m20s\u001b[0m 79ms/step - accuracy: 0.8696 - loss: 0.3506 - val_accuracy: 0.7088 - val_loss: 0.5739\n",
      "Epoch 14/20\n",
      "\u001b[1m251/251\u001b[0m \u001b[32m━━━━━━━━━━━━━━━━━━━━\u001b[0m\u001b[37m\u001b[0m \u001b[1m23s\u001b[0m 90ms/step - accuracy: 0.8766 - loss: 0.3316 - val_accuracy: 0.7113 - val_loss: 0.5714\n",
      "Epoch 15/20\n",
      "\u001b[1m251/251\u001b[0m \u001b[32m━━━━━━━━━━━━━━━━━━━━\u001b[0m\u001b[37m\u001b[0m \u001b[1m38s\u001b[0m 78ms/step - accuracy: 0.8846 - loss: 0.3219 - val_accuracy: 0.7148 - val_loss: 0.5710\n",
      "Epoch 16/20\n",
      "\u001b[1m251/251\u001b[0m \u001b[32m━━━━━━━━━━━━━━━━━━━━\u001b[0m\u001b[37m\u001b[0m \u001b[1m21s\u001b[0m 82ms/step - accuracy: 0.8945 - loss: 0.3015 - val_accuracy: 0.7138 - val_loss: 0.5692\n",
      "Epoch 17/20\n",
      "\u001b[1m251/251\u001b[0m \u001b[32m━━━━━━━━━━━━━━━━━━━━\u001b[0m\u001b[37m\u001b[0m \u001b[1m41s\u001b[0m 81ms/step - accuracy: 0.9000 - loss: 0.2948 - val_accuracy: 0.7163 - val_loss: 0.5667\n",
      "Epoch 18/20\n",
      "\u001b[1m251/251\u001b[0m \u001b[32m━━━━━━━━━━━━━━━━━━━━\u001b[0m\u001b[37m\u001b[0m \u001b[1m23s\u001b[0m 90ms/step - accuracy: 0.9132 - loss: 0.2782 - val_accuracy: 0.7173 - val_loss: 0.5677\n",
      "Epoch 19/20\n",
      "\u001b[1m251/251\u001b[0m \u001b[32m━━━━━━━━━━━━━━━━━━━━\u001b[0m\u001b[37m\u001b[0m \u001b[1m20s\u001b[0m 79ms/step - accuracy: 0.9177 - loss: 0.2616 - val_accuracy: 0.7192 - val_loss: 0.5660\n",
      "Epoch 20/20\n",
      "\u001b[1m251/251\u001b[0m \u001b[32m━━━━━━━━━━━━━━━━━━━━\u001b[0m\u001b[37m\u001b[0m \u001b[1m20s\u001b[0m 81ms/step - accuracy: 0.9219 - loss: 0.2493 - val_accuracy: 0.7192 - val_loss: 0.5645\n"
     ]
    }
   ],
   "source": [
    "model_adadelta_128 = get_model()\n",
    "model_adadelta_128.compile(optimizer='AdaDelta', loss='binary_crossentropy', metrics=['accuracy'])\n",
    "history_AdaDelta = model_adadelta_128.fit(train_ds, epochs=20, validation_data=validation_ds, batch_size=128)"
   ]
  },
  {
   "cell_type": "code",
   "execution_count": null,
   "metadata": {
    "colab": {
     "base_uri": "https://localhost:8080/"
    },
    "id": "nDP0vRWBGqV6",
    "outputId": "caa61486-685c-4807-f48d-659ec7de65c9"
   },
   "outputs": [
    {
     "name": "stdout",
     "output_type": "stream",
     "text": [
      "Epoch 1/20\n",
      "\u001b[1m251/251\u001b[0m \u001b[32m━━━━━━━━━━━━━━━━━━━━\u001b[0m\u001b[37m\u001b[0m \u001b[1m28s\u001b[0m 94ms/step - accuracy: 0.5207 - loss: 0.8348 - val_accuracy: 0.5037 - val_loss: 0.7249\n",
      "Epoch 2/20\n",
      "\u001b[1m251/251\u001b[0m \u001b[32m━━━━━━━━━━━━━━━━━━━━\u001b[0m\u001b[37m\u001b[0m \u001b[1m37s\u001b[0m 90ms/step - accuracy: 0.6380 - loss: 0.6451 - val_accuracy: 0.5971 - val_loss: 0.6705\n",
      "Epoch 3/20\n",
      "\u001b[1m251/251\u001b[0m \u001b[32m━━━━━━━━━━━━━━━━━━━━\u001b[0m\u001b[37m\u001b[0m \u001b[1m38s\u001b[0m 80ms/step - accuracy: 0.6811 - loss: 0.5901 - val_accuracy: 0.6500 - val_loss: 0.6305\n",
      "Epoch 4/20\n",
      "\u001b[1m251/251\u001b[0m \u001b[32m━━━━━━━━━━━━━━━━━━━━\u001b[0m\u001b[37m\u001b[0m \u001b[1m21s\u001b[0m 83ms/step - accuracy: 0.7199 - loss: 0.5474 - val_accuracy: 0.6668 - val_loss: 0.6187\n",
      "Epoch 5/20\n",
      "\u001b[1m251/251\u001b[0m \u001b[32m━━━━━━━━━━━━━━━━━━━━\u001b[0m\u001b[37m\u001b[0m \u001b[1m20s\u001b[0m 78ms/step - accuracy: 0.7531 - loss: 0.4996 - val_accuracy: 0.6733 - val_loss: 0.6084\n",
      "Epoch 6/20\n",
      "\u001b[1m251/251\u001b[0m \u001b[32m━━━━━━━━━━━━━━━━━━━━\u001b[0m\u001b[37m\u001b[0m \u001b[1m21s\u001b[0m 82ms/step - accuracy: 0.7758 - loss: 0.4706 - val_accuracy: 0.6802 - val_loss: 0.6022\n",
      "Epoch 7/20\n",
      "\u001b[1m251/251\u001b[0m \u001b[32m━━━━━━━━━━━━━━━━━━━━\u001b[0m\u001b[37m\u001b[0m \u001b[1m20s\u001b[0m 78ms/step - accuracy: 0.7935 - loss: 0.4422 - val_accuracy: 0.6822 - val_loss: 0.5956\n",
      "Epoch 8/20\n",
      "\u001b[1m251/251\u001b[0m \u001b[32m━━━━━━━━━━━━━━━━━━━━\u001b[0m\u001b[37m\u001b[0m \u001b[1m23s\u001b[0m 90ms/step - accuracy: 0.8210 - loss: 0.4097 - val_accuracy: 0.6930 - val_loss: 0.5911\n",
      "Epoch 9/20\n",
      "\u001b[1m251/251\u001b[0m \u001b[32m━━━━━━━━━━━━━━━━━━━━\u001b[0m\u001b[37m\u001b[0m \u001b[1m22s\u001b[0m 89ms/step - accuracy: 0.8343 - loss: 0.3847 - val_accuracy: 0.7024 - val_loss: 0.5859\n",
      "Epoch 10/20\n",
      "\u001b[1m251/251\u001b[0m \u001b[32m━━━━━━━━━━━━━━━━━━━━\u001b[0m\u001b[37m\u001b[0m \u001b[1m20s\u001b[0m 78ms/step - accuracy: 0.8516 - loss: 0.3684 - val_accuracy: 0.7019 - val_loss: 0.5862\n",
      "Epoch 11/20\n",
      "\u001b[1m251/251\u001b[0m \u001b[32m━━━━━━━━━━━━━━━━━━━━\u001b[0m\u001b[37m\u001b[0m \u001b[1m21s\u001b[0m 80ms/step - accuracy: 0.8724 - loss: 0.3393 - val_accuracy: 0.7034 - val_loss: 0.5833\n",
      "Epoch 12/20\n",
      "\u001b[1m251/251\u001b[0m \u001b[32m━━━━━━━━━━━━━━━━━━━━\u001b[0m\u001b[37m\u001b[0m \u001b[1m20s\u001b[0m 79ms/step - accuracy: 0.8785 - loss: 0.3172 - val_accuracy: 0.7103 - val_loss: 0.5808\n",
      "Epoch 13/20\n",
      "\u001b[1m251/251\u001b[0m \u001b[32m━━━━━━━━━━━━━━━━━━━━\u001b[0m\u001b[37m\u001b[0m \u001b[1m20s\u001b[0m 81ms/step - accuracy: 0.8869 - loss: 0.2994 - val_accuracy: 0.7153 - val_loss: 0.5781\n",
      "Epoch 14/20\n",
      "\u001b[1m251/251\u001b[0m \u001b[32m━━━━━━━━━━━━━━━━━━━━\u001b[0m\u001b[37m\u001b[0m \u001b[1m20s\u001b[0m 79ms/step - accuracy: 0.9016 - loss: 0.2816 - val_accuracy: 0.7192 - val_loss: 0.5757\n",
      "Epoch 15/20\n",
      "\u001b[1m251/251\u001b[0m \u001b[32m━━━━━━━━━━━━━━━━━━━━\u001b[0m\u001b[37m\u001b[0m \u001b[1m21s\u001b[0m 80ms/step - accuracy: 0.9106 - loss: 0.2659 - val_accuracy: 0.7212 - val_loss: 0.5740\n",
      "Epoch 16/20\n",
      "\u001b[1m251/251\u001b[0m \u001b[32m━━━━━━━━━━━━━━━━━━━━\u001b[0m\u001b[37m\u001b[0m \u001b[1m21s\u001b[0m 83ms/step - accuracy: 0.9247 - loss: 0.2515 - val_accuracy: 0.7197 - val_loss: 0.5765\n",
      "Epoch 17/20\n",
      "\u001b[1m251/251\u001b[0m \u001b[32m━━━━━━━━━━━━━━━━━━━━\u001b[0m\u001b[37m\u001b[0m \u001b[1m20s\u001b[0m 79ms/step - accuracy: 0.9247 - loss: 0.2455 - val_accuracy: 0.7222 - val_loss: 0.5802\n",
      "Epoch 18/20\n",
      "\u001b[1m251/251\u001b[0m \u001b[32m━━━━━━━━━━━━━━━━━━━━\u001b[0m\u001b[37m\u001b[0m \u001b[1m21s\u001b[0m 82ms/step - accuracy: 0.9371 - loss: 0.2230 - val_accuracy: 0.7217 - val_loss: 0.5757\n",
      "Epoch 19/20\n",
      "\u001b[1m251/251\u001b[0m \u001b[32m━━━━━━━━━━━━━━━━━━━━\u001b[0m\u001b[37m\u001b[0m \u001b[1m20s\u001b[0m 79ms/step - accuracy: 0.9463 - loss: 0.2085 - val_accuracy: 0.7232 - val_loss: 0.5757\n",
      "Epoch 20/20\n",
      "\u001b[1m251/251\u001b[0m \u001b[32m━━━━━━━━━━━━━━━━━━━━\u001b[0m\u001b[37m\u001b[0m \u001b[1m21s\u001b[0m 80ms/step - accuracy: 0.9495 - loss: 0.1986 - val_accuracy: 0.7261 - val_loss: 0.5780\n"
     ]
    }
   ],
   "source": [
    "model_adadelta_512 = get_model()\n",
    "model_adadelta_512.compile(optimizer='AdaDelta', loss='binary_crossentropy', metrics=['accuracy'])\n",
    "history_AdaDelta = model_adadelta_512.fit(train_ds, epochs=20, validation_data=validation_ds, batch_size=512)"
   ]
  },
  {
   "cell_type": "markdown",
   "metadata": {
    "id": "jcqb_EJUGvhf"
   },
   "source": [
    "# Different Batch sizes with Nadam"
   ]
  },
  {
   "cell_type": "code",
   "execution_count": null,
   "metadata": {
    "colab": {
     "base_uri": "https://localhost:8080/"
    },
    "id": "SC2PnU-pGsnF",
    "outputId": "1c7dc18a-fec5-489a-cfc0-0adb8adf3a0f"
   },
   "outputs": [
    {
     "name": "stdout",
     "output_type": "stream",
     "text": [
      "Epoch 1/20\n",
      "\u001b[1m251/251\u001b[0m \u001b[32m━━━━━━━━━━━━━━━━━━━━\u001b[0m\u001b[37m\u001b[0m \u001b[1m30s\u001b[0m 94ms/step - accuracy: 0.5490 - loss: 2.6491 - val_accuracy: 0.5091 - val_loss: 1.1518\n",
      "Epoch 2/20\n",
      "\u001b[1m251/251\u001b[0m \u001b[32m━━━━━━━━━━━━━━━━━━━━\u001b[0m\u001b[37m\u001b[0m \u001b[1m21s\u001b[0m 83ms/step - accuracy: 0.5899 - loss: 0.8188 - val_accuracy: 0.6134 - val_loss: 0.6847\n",
      "Epoch 3/20\n",
      "\u001b[1m251/251\u001b[0m \u001b[32m━━━━━━━━━━━━━━━━━━━━\u001b[0m\u001b[37m\u001b[0m \u001b[1m40s\u001b[0m 80ms/step - accuracy: 0.6791 - loss: 0.6010 - val_accuracy: 0.6757 - val_loss: 0.6020\n",
      "Epoch 4/20\n",
      "\u001b[1m251/251\u001b[0m \u001b[32m━━━━━━━━━━━━━━━━━━━━\u001b[0m\u001b[37m\u001b[0m \u001b[1m20s\u001b[0m 80ms/step - accuracy: 0.7347 - loss: 0.5283 - val_accuracy: 0.4998 - val_loss: 3.3076\n",
      "Epoch 5/20\n",
      "\u001b[1m251/251\u001b[0m \u001b[32m━━━━━━━━━━━━━━━━━━━━\u001b[0m\u001b[37m\u001b[0m \u001b[1m21s\u001b[0m 81ms/step - accuracy: 0.7649 - loss: 0.4891 - val_accuracy: 0.7182 - val_loss: 0.5525\n",
      "Epoch 6/20\n",
      "\u001b[1m251/251\u001b[0m \u001b[32m━━━━━━━━━━━━━━━━━━━━\u001b[0m\u001b[37m\u001b[0m \u001b[1m22s\u001b[0m 89ms/step - accuracy: 0.8072 - loss: 0.4221 - val_accuracy: 0.7286 - val_loss: 0.5500\n",
      "Epoch 7/20\n",
      "\u001b[1m251/251\u001b[0m \u001b[32m━━━━━━━━━━━━━━━━━━━━\u001b[0m\u001b[37m\u001b[0m \u001b[1m20s\u001b[0m 78ms/step - accuracy: 0.8191 - loss: 0.4043 - val_accuracy: 0.7504 - val_loss: 0.6756\n",
      "Epoch 8/20\n",
      "\u001b[1m251/251\u001b[0m \u001b[32m━━━━━━━━━━━━━━━━━━━━\u001b[0m\u001b[37m\u001b[0m \u001b[1m23s\u001b[0m 90ms/step - accuracy: 0.8709 - loss: 0.3115 - val_accuracy: 0.7622 - val_loss: 0.5792\n",
      "Epoch 9/20\n",
      "\u001b[1m251/251\u001b[0m \u001b[32m━━━━━━━━━━━━━━━━━━━━\u001b[0m\u001b[37m\u001b[0m \u001b[1m22s\u001b[0m 89ms/step - accuracy: 0.9023 - loss: 0.2395 - val_accuracy: 0.7395 - val_loss: 0.7219\n",
      "Epoch 10/20\n",
      "\u001b[1m251/251\u001b[0m \u001b[32m━━━━━━━━━━━━━━━━━━━━\u001b[0m\u001b[37m\u001b[0m \u001b[1m39s\u001b[0m 81ms/step - accuracy: 0.9345 - loss: 0.1688 - val_accuracy: 0.7291 - val_loss: 0.7942\n",
      "Epoch 11/20\n",
      "\u001b[1m251/251\u001b[0m \u001b[32m━━━━━━━━━━━━━━━━━━━━\u001b[0m\u001b[37m\u001b[0m \u001b[1m20s\u001b[0m 79ms/step - accuracy: 0.9464 - loss: 0.1348 - val_accuracy: 0.7454 - val_loss: 0.8168\n",
      "Epoch 12/20\n",
      "\u001b[1m251/251\u001b[0m \u001b[32m━━━━━━━━━━━━━━━━━━━━\u001b[0m\u001b[37m\u001b[0m \u001b[1m21s\u001b[0m 81ms/step - accuracy: 0.9638 - loss: 0.1080 - val_accuracy: 0.7603 - val_loss: 0.8911\n",
      "Epoch 13/20\n",
      "\u001b[1m251/251\u001b[0m \u001b[32m━━━━━━━━━━━━━━━━━━━━\u001b[0m\u001b[37m\u001b[0m \u001b[1m20s\u001b[0m 80ms/step - accuracy: 0.9716 - loss: 0.0855 - val_accuracy: 0.7583 - val_loss: 0.9385\n",
      "Epoch 14/20\n",
      "\u001b[1m251/251\u001b[0m \u001b[32m━━━━━━━━━━━━━━━━━━━━\u001b[0m\u001b[37m\u001b[0m \u001b[1m20s\u001b[0m 79ms/step - accuracy: 0.9731 - loss: 0.0825 - val_accuracy: 0.7568 - val_loss: 1.1187\n",
      "Epoch 15/20\n",
      "\u001b[1m251/251\u001b[0m \u001b[32m━━━━━━━━━━━━━━━━━━━━\u001b[0m\u001b[37m\u001b[0m \u001b[1m21s\u001b[0m 83ms/step - accuracy: 0.9710 - loss: 0.0885 - val_accuracy: 0.7642 - val_loss: 0.8737\n",
      "Epoch 16/20\n",
      "\u001b[1m251/251\u001b[0m \u001b[32m━━━━━━━━━━━━━━━━━━━━\u001b[0m\u001b[37m\u001b[0m \u001b[1m20s\u001b[0m 79ms/step - accuracy: 0.9742 - loss: 0.0759 - val_accuracy: 0.7558 - val_loss: 1.0367\n",
      "Epoch 17/20\n",
      "\u001b[1m251/251\u001b[0m \u001b[32m━━━━━━━━━━━━━━━━━━━━\u001b[0m\u001b[37m\u001b[0m \u001b[1m23s\u001b[0m 90ms/step - accuracy: 0.9806 - loss: 0.0517 - val_accuracy: 0.7568 - val_loss: 1.3084\n",
      "Epoch 18/20\n",
      "\u001b[1m251/251\u001b[0m \u001b[32m━━━━━━━━━━━━━━━━━━━━\u001b[0m\u001b[37m\u001b[0m \u001b[1m22s\u001b[0m 89ms/step - accuracy: 0.9850 - loss: 0.0414 - val_accuracy: 0.7682 - val_loss: 1.0618\n",
      "Epoch 19/20\n",
      "\u001b[1m251/251\u001b[0m \u001b[32m━━━━━━━━━━━━━━━━━━━━\u001b[0m\u001b[37m\u001b[0m \u001b[1m20s\u001b[0m 78ms/step - accuracy: 0.9868 - loss: 0.0455 - val_accuracy: 0.7692 - val_loss: 1.2100\n",
      "Epoch 20/20\n",
      "\u001b[1m251/251\u001b[0m \u001b[32m━━━━━━━━━━━━━━━━━━━━\u001b[0m\u001b[37m\u001b[0m \u001b[1m21s\u001b[0m 80ms/step - accuracy: 0.9888 - loss: 0.0411 - val_accuracy: 0.7469 - val_loss: 1.2961\n"
     ]
    }
   ],
   "source": [
    "model_nadam_16 = get_model()\n",
    "model_nadam_16.compile(optimizer='Nadam', loss='binary_crossentropy', metrics=['accuracy'])\n",
    "history_Nadam = model_nadam_16.fit(train_ds, epochs=20, validation_data=validation_ds, batch_size=16)"
   ]
  },
  {
   "cell_type": "code",
   "execution_count": null,
   "metadata": {
    "colab": {
     "base_uri": "https://localhost:8080/"
    },
    "id": "k7hC4gmrHBNh",
    "outputId": "4caf3758-8f82-4498-aee1-8321fe194292"
   },
   "outputs": [
    {
     "name": "stdout",
     "output_type": "stream",
     "text": [
      "Epoch 1/20\n",
      "\u001b[1m251/251\u001b[0m \u001b[32m━━━━━━━━━━━━━━━━━━━━\u001b[0m\u001b[37m\u001b[0m \u001b[1m29s\u001b[0m 92ms/step - accuracy: 0.5245 - loss: 2.6923 - val_accuracy: 0.5037 - val_loss: 2.2943\n",
      "Epoch 2/20\n",
      "\u001b[1m251/251\u001b[0m \u001b[32m━━━━━━━━━━━━━━━━━━━━\u001b[0m\u001b[37m\u001b[0m \u001b[1m21s\u001b[0m 83ms/step - accuracy: 0.5913 - loss: 0.7670 - val_accuracy: 0.6283 - val_loss: 0.6353\n",
      "Epoch 3/20\n",
      "\u001b[1m251/251\u001b[0m \u001b[32m━━━━━━━━━━━━━━━━━━━━\u001b[0m\u001b[37m\u001b[0m \u001b[1m20s\u001b[0m 79ms/step - accuracy: 0.6646 - loss: 0.6148 - val_accuracy: 0.5961 - val_loss: 0.7092\n",
      "Epoch 4/20\n",
      "\u001b[1m251/251\u001b[0m \u001b[32m━━━━━━━━━━━━━━━━━━━━\u001b[0m\u001b[37m\u001b[0m \u001b[1m22s\u001b[0m 89ms/step - accuracy: 0.7231 - loss: 0.5457 - val_accuracy: 0.7143 - val_loss: 0.5445\n",
      "Epoch 5/20\n",
      "\u001b[1m251/251\u001b[0m \u001b[32m━━━━━━━━━━━━━━━━━━━━\u001b[0m\u001b[37m\u001b[0m \u001b[1m39s\u001b[0m 80ms/step - accuracy: 0.7852 - loss: 0.4725 - val_accuracy: 0.7148 - val_loss: 0.5706\n",
      "Epoch 6/20\n",
      "\u001b[1m251/251\u001b[0m \u001b[32m━━━━━━━━━━━━━━━━━━━━\u001b[0m\u001b[37m\u001b[0m \u001b[1m21s\u001b[0m 84ms/step - accuracy: 0.8276 - loss: 0.3809 - val_accuracy: 0.7237 - val_loss: 0.5737\n",
      "Epoch 7/20\n",
      "\u001b[1m251/251\u001b[0m \u001b[32m━━━━━━━━━━━━━━━━━━━━\u001b[0m\u001b[37m\u001b[0m \u001b[1m20s\u001b[0m 79ms/step - accuracy: 0.8512 - loss: 0.3394 - val_accuracy: 0.7425 - val_loss: 0.5791\n",
      "Epoch 8/20\n",
      "\u001b[1m251/251\u001b[0m \u001b[32m━━━━━━━━━━━━━━━━━━━━\u001b[0m\u001b[37m\u001b[0m \u001b[1m20s\u001b[0m 81ms/step - accuracy: 0.8893 - loss: 0.2690 - val_accuracy: 0.7657 - val_loss: 0.6021\n",
      "Epoch 9/20\n",
      "\u001b[1m251/251\u001b[0m \u001b[32m━━━━━━━━━━━━━━━━━━━━\u001b[0m\u001b[37m\u001b[0m \u001b[1m20s\u001b[0m 78ms/step - accuracy: 0.9243 - loss: 0.1943 - val_accuracy: 0.7464 - val_loss: 0.8725\n",
      "Epoch 10/20\n",
      "\u001b[1m251/251\u001b[0m \u001b[32m━━━━━━━━━━━━━━━━━━━━\u001b[0m\u001b[37m\u001b[0m \u001b[1m20s\u001b[0m 81ms/step - accuracy: 0.9416 - loss: 0.1506 - val_accuracy: 0.7029 - val_loss: 0.9321\n",
      "Epoch 11/20\n",
      "\u001b[1m251/251\u001b[0m \u001b[32m━━━━━━━━━━━━━━━━━━━━\u001b[0m\u001b[37m\u001b[0m \u001b[1m20s\u001b[0m 79ms/step - accuracy: 0.9482 - loss: 0.1428 - val_accuracy: 0.7425 - val_loss: 0.8723\n",
      "Epoch 12/20\n",
      "\u001b[1m251/251\u001b[0m \u001b[32m━━━━━━━━━━━━━━━━━━━━\u001b[0m\u001b[37m\u001b[0m \u001b[1m20s\u001b[0m 80ms/step - accuracy: 0.9613 - loss: 0.1066 - val_accuracy: 0.7716 - val_loss: 0.8756\n",
      "Epoch 13/20\n",
      "\u001b[1m251/251\u001b[0m \u001b[32m━━━━━━━━━━━━━━━━━━━━\u001b[0m\u001b[37m\u001b[0m \u001b[1m20s\u001b[0m 78ms/step - accuracy: 0.9677 - loss: 0.0870 - val_accuracy: 0.7331 - val_loss: 0.8461\n",
      "Epoch 14/20\n",
      "\u001b[1m251/251\u001b[0m \u001b[32m━━━━━━━━━━━━━━━━━━━━\u001b[0m\u001b[37m\u001b[0m \u001b[1m20s\u001b[0m 81ms/step - accuracy: 0.9728 - loss: 0.0821 - val_accuracy: 0.7578 - val_loss: 1.0388\n",
      "Epoch 15/20\n",
      "\u001b[1m251/251\u001b[0m \u001b[32m━━━━━━━━━━━━━━━━━━━━\u001b[0m\u001b[37m\u001b[0m \u001b[1m20s\u001b[0m 79ms/step - accuracy: 0.9783 - loss: 0.0709 - val_accuracy: 0.7252 - val_loss: 1.1347\n",
      "Epoch 16/20\n",
      "\u001b[1m251/251\u001b[0m \u001b[32m━━━━━━━━━━━━━━━━━━━━\u001b[0m\u001b[37m\u001b[0m \u001b[1m20s\u001b[0m 81ms/step - accuracy: 0.9767 - loss: 0.0730 - val_accuracy: 0.7682 - val_loss: 1.1157\n",
      "Epoch 17/20\n",
      "\u001b[1m251/251\u001b[0m \u001b[32m━━━━━━━━━━━━━━━━━━━━\u001b[0m\u001b[37m\u001b[0m \u001b[1m20s\u001b[0m 79ms/step - accuracy: 0.9845 - loss: 0.0447 - val_accuracy: 0.7113 - val_loss: 2.0282\n",
      "Epoch 18/20\n",
      "\u001b[1m251/251\u001b[0m \u001b[32m━━━━━━━━━━━━━━━━━━━━\u001b[0m\u001b[37m\u001b[0m \u001b[1m20s\u001b[0m 79ms/step - accuracy: 0.9844 - loss: 0.0490 - val_accuracy: 0.7593 - val_loss: 1.2441\n",
      "Epoch 19/20\n",
      "\u001b[1m251/251\u001b[0m \u001b[32m━━━━━━━━━━━━━━━━━━━━\u001b[0m\u001b[37m\u001b[0m \u001b[1m22s\u001b[0m 88ms/step - accuracy: 0.9890 - loss: 0.0348 - val_accuracy: 0.7469 - val_loss: 1.2667\n",
      "Epoch 20/20\n",
      "\u001b[1m251/251\u001b[0m \u001b[32m━━━━━━━━━━━━━━━━━━━━\u001b[0m\u001b[37m\u001b[0m \u001b[1m39s\u001b[0m 79ms/step - accuracy: 0.9887 - loss: 0.0354 - val_accuracy: 0.7523 - val_loss: 1.0169\n"
     ]
    }
   ],
   "source": [
    "model_nadam_32 = get_model()\n",
    "model_nadam_32.compile(optimizer='Nadam', loss='binary_crossentropy', metrics=['accuracy'])\n",
    "history_Nadam = model_nadam_32.fit(train_ds, epochs=20, validation_data=validation_ds, batch_size=32)"
   ]
  },
  {
   "cell_type": "code",
   "execution_count": null,
   "metadata": {
    "colab": {
     "base_uri": "https://localhost:8080/"
    },
    "id": "lYZAPtWfHGIY",
    "outputId": "d0cbfec7-07dd-4cc7-e754-b23cba2ca99d"
   },
   "outputs": [
    {
     "name": "stdout",
     "output_type": "stream",
     "text": [
      "Epoch 1/20\n",
      "\u001b[1m251/251\u001b[0m \u001b[32m━━━━━━━━━━━━━━━━━━━━\u001b[0m\u001b[37m\u001b[0m \u001b[1m31s\u001b[0m 101ms/step - accuracy: 0.5468 - loss: 2.6749 - val_accuracy: 0.5052 - val_loss: 2.5331\n",
      "Epoch 2/20\n",
      "\u001b[1m251/251\u001b[0m \u001b[32m━━━━━━━━━━━━━━━━━━━━\u001b[0m\u001b[37m\u001b[0m \u001b[1m33s\u001b[0m 79ms/step - accuracy: 0.5853 - loss: 0.7702 - val_accuracy: 0.6075 - val_loss: 0.6954\n",
      "Epoch 3/20\n",
      "\u001b[1m251/251\u001b[0m \u001b[32m━━━━━━━━━━━━━━━━━━━━\u001b[0m\u001b[37m\u001b[0m \u001b[1m20s\u001b[0m 79ms/step - accuracy: 0.6673 - loss: 0.6167 - val_accuracy: 0.7000 - val_loss: 0.5810\n",
      "Epoch 4/20\n",
      "\u001b[1m251/251\u001b[0m \u001b[32m━━━━━━━━━━━━━━━━━━━━\u001b[0m\u001b[37m\u001b[0m \u001b[1m21s\u001b[0m 80ms/step - accuracy: 0.7238 - loss: 0.5426 - val_accuracy: 0.7355 - val_loss: 0.5376\n",
      "Epoch 5/20\n",
      "\u001b[1m251/251\u001b[0m \u001b[32m━━━━━━━━━━━━━━━━━━━━\u001b[0m\u001b[37m\u001b[0m \u001b[1m22s\u001b[0m 89ms/step - accuracy: 0.7794 - loss: 0.4687 - val_accuracy: 0.7588 - val_loss: 0.5287\n",
      "Epoch 6/20\n",
      "\u001b[1m251/251\u001b[0m \u001b[32m━━━━━━━━━━━━━━━━━━━━\u001b[0m\u001b[37m\u001b[0m \u001b[1m20s\u001b[0m 78ms/step - accuracy: 0.8163 - loss: 0.4095 - val_accuracy: 0.7375 - val_loss: 0.6581\n",
      "Epoch 7/20\n",
      "\u001b[1m251/251\u001b[0m \u001b[32m━━━━━━━━━━━━━━━━━━━━\u001b[0m\u001b[37m\u001b[0m \u001b[1m20s\u001b[0m 80ms/step - accuracy: 0.8395 - loss: 0.3500 - val_accuracy: 0.7281 - val_loss: 0.6557\n",
      "Epoch 8/20\n",
      "\u001b[1m251/251\u001b[0m \u001b[32m━━━━━━━━━━━━━━━━━━━━\u001b[0m\u001b[37m\u001b[0m \u001b[1m20s\u001b[0m 78ms/step - accuracy: 0.8743 - loss: 0.2901 - val_accuracy: 0.7400 - val_loss: 0.6010\n",
      "Epoch 9/20\n",
      "\u001b[1m251/251\u001b[0m \u001b[32m━━━━━━━━━━━━━━━━━━━━\u001b[0m\u001b[37m\u001b[0m \u001b[1m23s\u001b[0m 90ms/step - accuracy: 0.9101 - loss: 0.2177 - val_accuracy: 0.7568 - val_loss: 0.8254\n",
      "Epoch 10/20\n",
      "\u001b[1m251/251\u001b[0m \u001b[32m━━━━━━━━━━━━━━━━━━━━\u001b[0m\u001b[37m\u001b[0m \u001b[1m22s\u001b[0m 89ms/step - accuracy: 0.9079 - loss: 0.2356 - val_accuracy: 0.7716 - val_loss: 0.7366\n",
      "Epoch 11/20\n",
      "\u001b[1m251/251\u001b[0m \u001b[32m━━━━━━━━━━━━━━━━━━━━\u001b[0m\u001b[37m\u001b[0m \u001b[1m20s\u001b[0m 79ms/step - accuracy: 0.9437 - loss: 0.1458 - val_accuracy: 0.7435 - val_loss: 0.8552\n",
      "Epoch 12/20\n",
      "\u001b[1m251/251\u001b[0m \u001b[32m━━━━━━━━━━━━━━━━━━━━\u001b[0m\u001b[37m\u001b[0m \u001b[1m21s\u001b[0m 80ms/step - accuracy: 0.9560 - loss: 0.1204 - val_accuracy: 0.7687 - val_loss: 0.7271\n",
      "Epoch 13/20\n",
      "\u001b[1m251/251\u001b[0m \u001b[32m━━━━━━━━━━━━━━━━━━━━\u001b[0m\u001b[37m\u001b[0m \u001b[1m20s\u001b[0m 78ms/step - accuracy: 0.9618 - loss: 0.1001 - val_accuracy: 0.7751 - val_loss: 0.9156\n",
      "Epoch 14/20\n",
      "\u001b[1m251/251\u001b[0m \u001b[32m━━━━━━━━━━━━━━━━━━━━\u001b[0m\u001b[37m\u001b[0m \u001b[1m21s\u001b[0m 80ms/step - accuracy: 0.9696 - loss: 0.0822 - val_accuracy: 0.7637 - val_loss: 0.9948\n",
      "Epoch 15/20\n",
      "\u001b[1m251/251\u001b[0m \u001b[32m━━━━━━━━━━━━━━━━━━━━\u001b[0m\u001b[37m\u001b[0m \u001b[1m21s\u001b[0m 81ms/step - accuracy: 0.9699 - loss: 0.0919 - val_accuracy: 0.7701 - val_loss: 0.9087\n",
      "Epoch 16/20\n",
      "\u001b[1m251/251\u001b[0m \u001b[32m━━━━━━━━━━━━━━━━━━━━\u001b[0m\u001b[37m\u001b[0m \u001b[1m20s\u001b[0m 79ms/step - accuracy: 0.9830 - loss: 0.0486 - val_accuracy: 0.7781 - val_loss: 1.1956\n",
      "Epoch 17/20\n",
      "\u001b[1m251/251\u001b[0m \u001b[32m━━━━━━━━━━━━━━━━━━━━\u001b[0m\u001b[37m\u001b[0m \u001b[1m21s\u001b[0m 83ms/step - accuracy: 0.9842 - loss: 0.0445 - val_accuracy: 0.7736 - val_loss: 1.0669\n",
      "Epoch 18/20\n",
      "\u001b[1m251/251\u001b[0m \u001b[32m━━━━━━━━━━━━━━━━━━━━\u001b[0m\u001b[37m\u001b[0m \u001b[1m20s\u001b[0m 78ms/step - accuracy: 0.9777 - loss: 0.0603 - val_accuracy: 0.7677 - val_loss: 1.0538\n",
      "Epoch 19/20\n",
      "\u001b[1m251/251\u001b[0m \u001b[32m━━━━━━━━━━━━━━━━━━━━\u001b[0m\u001b[37m\u001b[0m \u001b[1m21s\u001b[0m 82ms/step - accuracy: 0.9788 - loss: 0.0559 - val_accuracy: 0.7533 - val_loss: 1.0522\n",
      "Epoch 20/20\n",
      "\u001b[1m251/251\u001b[0m \u001b[32m━━━━━━━━━━━━━━━━━━━━\u001b[0m\u001b[37m\u001b[0m \u001b[1m20s\u001b[0m 78ms/step - accuracy: 0.9825 - loss: 0.0447 - val_accuracy: 0.7899 - val_loss: 1.1525\n"
     ]
    }
   ],
   "source": [
    "model_nadam_64 = get_model()\n",
    "model_nadam_64.compile(optimizer='Nadam', loss='binary_crossentropy', metrics=['accuracy'])\n",
    "history_Nadam = model_nadam_64.fit(train_ds, epochs=20, validation_data=validation_ds, batch_size=64)"
   ]
  },
  {
   "cell_type": "code",
   "execution_count": null,
   "metadata": {
    "colab": {
     "base_uri": "https://localhost:8080/"
    },
    "id": "drwN466WHIgw",
    "outputId": "2d5e4740-4e53-4eed-dd9f-302fd768b37d"
   },
   "outputs": [
    {
     "name": "stdout",
     "output_type": "stream",
     "text": [
      "Epoch 1/20\n",
      "\u001b[1m251/251\u001b[0m \u001b[32m━━━━━━━━━━━━━━━━━━━━\u001b[0m\u001b[37m\u001b[0m \u001b[1m32s\u001b[0m 99ms/step - accuracy: 0.5492 - loss: 2.4167 - val_accuracy: 0.5408 - val_loss: 0.9731\n",
      "Epoch 2/20\n",
      "\u001b[1m251/251\u001b[0m \u001b[32m━━━━━━━━━━━━━━━━━━━━\u001b[0m\u001b[37m\u001b[0m \u001b[1m32s\u001b[0m 78ms/step - accuracy: 0.6001 - loss: 0.7550 - val_accuracy: 0.6382 - val_loss: 0.6454\n",
      "Epoch 3/20\n",
      "\u001b[1m251/251\u001b[0m \u001b[32m━━━━━━━━━━━━━━━━━━━━\u001b[0m\u001b[37m\u001b[0m \u001b[1m21s\u001b[0m 81ms/step - accuracy: 0.6495 - loss: 0.6265 - val_accuracy: 0.6871 - val_loss: 0.5926\n",
      "Epoch 4/20\n",
      "\u001b[1m251/251\u001b[0m \u001b[32m━━━━━━━━━━━━━━━━━━━━\u001b[0m\u001b[37m\u001b[0m \u001b[1m20s\u001b[0m 79ms/step - accuracy: 0.7047 - loss: 0.5648 - val_accuracy: 0.6569 - val_loss: 0.6352\n",
      "Epoch 5/20\n",
      "\u001b[1m251/251\u001b[0m \u001b[32m━━━━━━━━━━━━━━━━━━━━\u001b[0m\u001b[37m\u001b[0m \u001b[1m21s\u001b[0m 80ms/step - accuracy: 0.7122 - loss: 0.5395 - val_accuracy: 0.7054 - val_loss: 0.5834\n",
      "Epoch 6/20\n",
      "\u001b[1m251/251\u001b[0m \u001b[32m━━━━━━━━━━━━━━━━━━━━\u001b[0m\u001b[37m\u001b[0m \u001b[1m21s\u001b[0m 83ms/step - accuracy: 0.7772 - loss: 0.4577 - val_accuracy: 0.7425 - val_loss: 0.5379\n",
      "Epoch 7/20\n",
      "\u001b[1m251/251\u001b[0m \u001b[32m━━━━━━━━━━━━━━━━━━━━\u001b[0m\u001b[37m\u001b[0m \u001b[1m20s\u001b[0m 79ms/step - accuracy: 0.8078 - loss: 0.4095 - val_accuracy: 0.7237 - val_loss: 0.5864\n",
      "Epoch 8/20\n",
      "\u001b[1m251/251\u001b[0m \u001b[32m━━━━━━━━━━━━━━━━━━━━\u001b[0m\u001b[37m\u001b[0m \u001b[1m22s\u001b[0m 89ms/step - accuracy: 0.8303 - loss: 0.3455 - val_accuracy: 0.7519 - val_loss: 0.7095\n",
      "Epoch 9/20\n",
      "\u001b[1m251/251\u001b[0m \u001b[32m━━━━━━━━━━━━━━━━━━━━\u001b[0m\u001b[37m\u001b[0m \u001b[1m20s\u001b[0m 78ms/step - accuracy: 0.8653 - loss: 0.2901 - val_accuracy: 0.7444 - val_loss: 0.7337\n",
      "Epoch 10/20\n",
      "\u001b[1m251/251\u001b[0m \u001b[32m━━━━━━━━━━━━━━━━━━━━\u001b[0m\u001b[37m\u001b[0m \u001b[1m21s\u001b[0m 80ms/step - accuracy: 0.8799 - loss: 0.2467 - val_accuracy: 0.7647 - val_loss: 0.6324\n",
      "Epoch 11/20\n",
      "\u001b[1m251/251\u001b[0m \u001b[32m━━━━━━━━━━━━━━━━━━━━\u001b[0m\u001b[37m\u001b[0m \u001b[1m22s\u001b[0m 89ms/step - accuracy: 0.9034 - loss: 0.2020 - val_accuracy: 0.7929 - val_loss: 0.8180\n",
      "Epoch 12/20\n",
      "\u001b[1m251/251\u001b[0m \u001b[32m━━━━━━━━━━━━━━━━━━━━\u001b[0m\u001b[37m\u001b[0m \u001b[1m20s\u001b[0m 78ms/step - accuracy: 0.9139 - loss: 0.1973 - val_accuracy: 0.7232 - val_loss: 0.8373\n",
      "Epoch 13/20\n",
      "\u001b[1m251/251\u001b[0m \u001b[32m━━━━━━━━━━━━━━━━━━━━\u001b[0m\u001b[37m\u001b[0m \u001b[1m21s\u001b[0m 80ms/step - accuracy: 0.9212 - loss: 0.1738 - val_accuracy: 0.7538 - val_loss: 0.7419\n",
      "Epoch 14/20\n",
      "\u001b[1m251/251\u001b[0m \u001b[32m━━━━━━━━━━━━━━━━━━━━\u001b[0m\u001b[37m\u001b[0m \u001b[1m20s\u001b[0m 78ms/step - accuracy: 0.9217 - loss: 0.1768 - val_accuracy: 0.7128 - val_loss: 1.1454\n",
      "Epoch 15/20\n",
      "\u001b[1m251/251\u001b[0m \u001b[32m━━━━━━━━━━━━━━━━━━━━\u001b[0m\u001b[37m\u001b[0m \u001b[1m21s\u001b[0m 81ms/step - accuracy: 0.9404 - loss: 0.1367 - val_accuracy: 0.7776 - val_loss: 0.8786\n",
      "Epoch 16/20\n",
      "\u001b[1m251/251\u001b[0m \u001b[32m━━━━━━━━━━━━━━━━━━━━\u001b[0m\u001b[37m\u001b[0m \u001b[1m20s\u001b[0m 78ms/step - accuracy: 0.9396 - loss: 0.1345 - val_accuracy: 0.7523 - val_loss: 0.8734\n",
      "Epoch 17/20\n",
      "\u001b[1m251/251\u001b[0m \u001b[32m━━━━━━━━━━━━━━━━━━━━\u001b[0m\u001b[37m\u001b[0m \u001b[1m20s\u001b[0m 80ms/step - accuracy: 0.9469 - loss: 0.1197 - val_accuracy: 0.7845 - val_loss: 0.8006\n",
      "Epoch 18/20\n",
      "\u001b[1m251/251\u001b[0m \u001b[32m━━━━━━━━━━━━━━━━━━━━\u001b[0m\u001b[37m\u001b[0m \u001b[1m20s\u001b[0m 79ms/step - accuracy: 0.9511 - loss: 0.1076 - val_accuracy: 0.7360 - val_loss: 1.4409\n",
      "Epoch 19/20\n",
      "\u001b[1m251/251\u001b[0m \u001b[32m━━━━━━━━━━━━━━━━━━━━\u001b[0m\u001b[37m\u001b[0m \u001b[1m21s\u001b[0m 80ms/step - accuracy: 0.9541 - loss: 0.0987 - val_accuracy: 0.7519 - val_loss: 1.2993\n",
      "Epoch 20/20\n",
      "\u001b[1m251/251\u001b[0m \u001b[32m━━━━━━━━━━━━━━━━━━━━\u001b[0m\u001b[37m\u001b[0m \u001b[1m21s\u001b[0m 83ms/step - accuracy: 0.9606 - loss: 0.0836 - val_accuracy: 0.7766 - val_loss: 0.9014\n"
     ]
    }
   ],
   "source": [
    "model_nadam_128 = get_model()\n",
    "model_nadam_128.compile(optimizer='Nadam', loss='binary_crossentropy', metrics=['accuracy'])\n",
    "history_Nadam = model_nadam_128.fit(train_ds, epochs=20, validation_data=validation_ds, batch_size=128)"
   ]
  },
  {
   "cell_type": "code",
   "execution_count": null,
   "metadata": {
    "colab": {
     "base_uri": "https://localhost:8080/"
    },
    "id": "gFT1RYg9HPMr",
    "outputId": "e9b01fb3-15fe-42ff-93ca-9efd2cf2bf4a"
   },
   "outputs": [
    {
     "name": "stdout",
     "output_type": "stream",
     "text": [
      "Epoch 1/20\n",
      "\u001b[1m251/251\u001b[0m \u001b[32m━━━━━━━━━━━━━━━━━━━━\u001b[0m\u001b[37m\u001b[0m \u001b[1m31s\u001b[0m 99ms/step - accuracy: 0.5722 - loss: 2.2392 - val_accuracy: 0.5205 - val_loss: 1.6402\n",
      "Epoch 2/20\n",
      "\u001b[1m251/251\u001b[0m \u001b[32m━━━━━━━━━━━━━━━━━━━━\u001b[0m\u001b[37m\u001b[0m \u001b[1m20s\u001b[0m 79ms/step - accuracy: 0.6123 - loss: 0.6795 - val_accuracy: 0.5675 - val_loss: 0.7627\n",
      "Epoch 3/20\n",
      "\u001b[1m251/251\u001b[0m \u001b[32m━━━━━━━━━━━━━━━━━━━━\u001b[0m\u001b[37m\u001b[0m \u001b[1m20s\u001b[0m 80ms/step - accuracy: 0.6827 - loss: 0.5944 - val_accuracy: 0.7257 - val_loss: 0.5498\n",
      "Epoch 4/20\n",
      "\u001b[1m251/251\u001b[0m \u001b[32m━━━━━━━━━━━━━━━━━━━━\u001b[0m\u001b[37m\u001b[0m \u001b[1m20s\u001b[0m 78ms/step - accuracy: 0.7494 - loss: 0.5129 - val_accuracy: 0.7093 - val_loss: 0.5661\n",
      "Epoch 5/20\n",
      "\u001b[1m251/251\u001b[0m \u001b[32m━━━━━━━━━━━━━━━━━━━━\u001b[0m\u001b[37m\u001b[0m \u001b[1m20s\u001b[0m 80ms/step - accuracy: 0.7851 - loss: 0.4460 - val_accuracy: 0.7415 - val_loss: 0.5429\n",
      "Epoch 6/20\n",
      "\u001b[1m251/251\u001b[0m \u001b[32m━━━━━━━━━━━━━━━━━━━━\u001b[0m\u001b[37m\u001b[0m \u001b[1m20s\u001b[0m 79ms/step - accuracy: 0.8171 - loss: 0.3936 - val_accuracy: 0.7360 - val_loss: 0.6241\n",
      "Epoch 7/20\n",
      "\u001b[1m251/251\u001b[0m \u001b[32m━━━━━━━━━━━━━━━━━━━━\u001b[0m\u001b[37m\u001b[0m \u001b[1m21s\u001b[0m 81ms/step - accuracy: 0.8513 - loss: 0.3347 - val_accuracy: 0.7039 - val_loss: 1.1109\n",
      "Epoch 8/20\n",
      "\u001b[1m251/251\u001b[0m \u001b[32m━━━━━━━━━━━━━━━━━━━━\u001b[0m\u001b[37m\u001b[0m \u001b[1m20s\u001b[0m 82ms/step - accuracy: 0.8793 - loss: 0.2950 - val_accuracy: 0.7612 - val_loss: 0.8473\n",
      "Epoch 9/20\n",
      "\u001b[1m251/251\u001b[0m \u001b[32m━━━━━━━━━━━━━━━━━━━━\u001b[0m\u001b[37m\u001b[0m \u001b[1m20s\u001b[0m 78ms/step - accuracy: 0.9164 - loss: 0.2141 - val_accuracy: 0.7479 - val_loss: 0.9364\n",
      "Epoch 10/20\n",
      "\u001b[1m251/251\u001b[0m \u001b[32m━━━━━━━━━━━━━━━━━━━━\u001b[0m\u001b[37m\u001b[0m \u001b[1m21s\u001b[0m 83ms/step - accuracy: 0.9358 - loss: 0.1642 - val_accuracy: 0.7346 - val_loss: 0.9320\n",
      "Epoch 11/20\n",
      "\u001b[1m251/251\u001b[0m \u001b[32m━━━━━━━━━━━━━━━━━━━━\u001b[0m\u001b[37m\u001b[0m \u001b[1m40s\u001b[0m 80ms/step - accuracy: 0.9544 - loss: 0.1212 - val_accuracy: 0.7519 - val_loss: 0.8967\n",
      "Epoch 12/20\n",
      "\u001b[1m251/251\u001b[0m \u001b[32m━━━━━━━━━━━━━━━━━━━━\u001b[0m\u001b[37m\u001b[0m \u001b[1m20s\u001b[0m 79ms/step - accuracy: 0.9755 - loss: 0.0708 - val_accuracy: 0.7578 - val_loss: 1.0701\n",
      "Epoch 13/20\n",
      "\u001b[1m251/251\u001b[0m \u001b[32m━━━━━━━━━━━━━━━━━━━━\u001b[0m\u001b[37m\u001b[0m \u001b[1m20s\u001b[0m 81ms/step - accuracy: 0.9756 - loss: 0.0773 - val_accuracy: 0.7558 - val_loss: 1.1969\n",
      "Epoch 14/20\n",
      "\u001b[1m251/251\u001b[0m \u001b[32m━━━━━━━━━━━━━━━━━━━━\u001b[0m\u001b[37m\u001b[0m \u001b[1m22s\u001b[0m 88ms/step - accuracy: 0.9763 - loss: 0.0669 - val_accuracy: 0.7741 - val_loss: 1.3763\n",
      "Epoch 15/20\n",
      "\u001b[1m251/251\u001b[0m \u001b[32m━━━━━━━━━━━━━━━━━━━━\u001b[0m\u001b[37m\u001b[0m \u001b[1m20s\u001b[0m 78ms/step - accuracy: 0.9804 - loss: 0.0590 - val_accuracy: 0.7578 - val_loss: 1.1674\n",
      "Epoch 16/20\n",
      "\u001b[1m251/251\u001b[0m \u001b[32m━━━━━━━━━━━━━━━━━━━━\u001b[0m\u001b[37m\u001b[0m \u001b[1m20s\u001b[0m 81ms/step - accuracy: 0.9851 - loss: 0.0451 - val_accuracy: 0.7346 - val_loss: 1.2425\n",
      "Epoch 17/20\n",
      "\u001b[1m251/251\u001b[0m \u001b[32m━━━━━━━━━━━━━━━━━━━━\u001b[0m\u001b[37m\u001b[0m \u001b[1m20s\u001b[0m 78ms/step - accuracy: 0.9775 - loss: 0.0648 - val_accuracy: 0.7420 - val_loss: 1.1499\n",
      "Epoch 18/20\n",
      "\u001b[1m251/251\u001b[0m \u001b[32m━━━━━━━━━━━━━━━━━━━━\u001b[0m\u001b[37m\u001b[0m \u001b[1m20s\u001b[0m 80ms/step - accuracy: 0.9865 - loss: 0.0446 - val_accuracy: 0.7776 - val_loss: 1.3882\n",
      "Epoch 19/20\n",
      "\u001b[1m251/251\u001b[0m \u001b[32m━━━━━━━━━━━━━━━━━━━━\u001b[0m\u001b[37m\u001b[0m \u001b[1m20s\u001b[0m 78ms/step - accuracy: 0.9844 - loss: 0.0474 - val_accuracy: 0.7771 - val_loss: 1.1886\n",
      "Epoch 20/20\n",
      "\u001b[1m251/251\u001b[0m \u001b[32m━━━━━━━━━━━━━━━━━━━━\u001b[0m\u001b[37m\u001b[0m \u001b[1m20s\u001b[0m 80ms/step - accuracy: 0.9863 - loss: 0.0392 - val_accuracy: 0.7860 - val_loss: 1.3124\n"
     ]
    }
   ],
   "source": [
    "model_nadam_512 = get_model()\n",
    "model_nadam_512.compile(optimizer='Nadam', loss='binary_crossentropy', metrics=['accuracy'])\n",
    "history_Nadam = model_nadam_512.fit(train_ds, epochs=20, validation_data=validation_ds, batch_size=512)"
   ]
  },
  {
   "cell_type": "markdown",
   "metadata": {
    "id": "dGMoFobZHbn_"
   },
   "source": [
    "# Different Batch sizes with RMSprop"
   ]
  },
  {
   "cell_type": "code",
   "execution_count": null,
   "metadata": {
    "colab": {
     "base_uri": "https://localhost:8080/"
    },
    "id": "5jfpjwrWHajJ",
    "outputId": "7a9df695-5346-4ddb-9f70-11dda5fd59a1"
   },
   "outputs": [
    {
     "name": "stderr",
     "output_type": "stream",
     "text": [
      "/usr/local/lib/python3.10/dist-packages/keras/src/layers/convolutional/base_conv.py:107: UserWarning: Do not pass an `input_shape`/`input_dim` argument to a layer. When using Sequential models, prefer using an `Input(shape)` object as the first layer in the model instead.\n",
      "  super().__init__(activity_regularizer=activity_regularizer, **kwargs)\n"
     ]
    },
    {
     "name": "stdout",
     "output_type": "stream",
     "text": [
      "Epoch 1/20\n",
      "\u001b[1m251/251\u001b[0m \u001b[32m━━━━━━━━━━━━━━━━━━━━\u001b[0m\u001b[37m\u001b[0m \u001b[1m39s\u001b[0m 109ms/step - accuracy: 0.5550 - loss: 7.5551 - val_accuracy: 0.5566 - val_loss: 0.6897\n",
      "Epoch 2/20\n",
      "\u001b[1m251/251\u001b[0m \u001b[32m━━━━━━━━━━━━━━━━━━━━\u001b[0m\u001b[37m\u001b[0m \u001b[1m19s\u001b[0m 77ms/step - accuracy: 0.6048 - loss: 0.9010 - val_accuracy: 0.6733 - val_loss: 0.6285\n",
      "Epoch 3/20\n",
      "\u001b[1m251/251\u001b[0m \u001b[32m━━━━━━━━━━━━━━━━━━━━\u001b[0m\u001b[37m\u001b[0m \u001b[1m21s\u001b[0m 80ms/step - accuracy: 0.7107 - loss: 0.5782 - val_accuracy: 0.6742 - val_loss: 0.6868\n",
      "Epoch 4/20\n",
      "\u001b[1m251/251\u001b[0m \u001b[32m━━━━━━━━━━━━━━━━━━━━\u001b[0m\u001b[37m\u001b[0m \u001b[1m20s\u001b[0m 78ms/step - accuracy: 0.7810 - loss: 0.4946 - val_accuracy: 0.7257 - val_loss: 0.6701\n",
      "Epoch 5/20\n",
      "\u001b[1m251/251\u001b[0m \u001b[32m━━━━━━━━━━━━━━━━━━━━\u001b[0m\u001b[37m\u001b[0m \u001b[1m21s\u001b[0m 80ms/step - accuracy: 0.8151 - loss: 0.4266 - val_accuracy: 0.7682 - val_loss: 0.6271\n",
      "Epoch 6/20\n",
      "\u001b[1m251/251\u001b[0m \u001b[32m━━━━━━━━━━━━━━━━━━━━\u001b[0m\u001b[37m\u001b[0m \u001b[1m20s\u001b[0m 78ms/step - accuracy: 0.8640 - loss: 0.3287 - val_accuracy: 0.7360 - val_loss: 0.9067\n",
      "Epoch 7/20\n",
      "\u001b[1m251/251\u001b[0m \u001b[32m━━━━━━━━━━━━━━━━━━━━\u001b[0m\u001b[37m\u001b[0m \u001b[1m21s\u001b[0m 80ms/step - accuracy: 0.9081 - loss: 0.2378 - val_accuracy: 0.7430 - val_loss: 0.9605\n",
      "Epoch 8/20\n",
      "\u001b[1m251/251\u001b[0m \u001b[32m━━━━━━━━━━━━━━━━━━━━\u001b[0m\u001b[37m\u001b[0m \u001b[1m22s\u001b[0m 87ms/step - accuracy: 0.9375 - loss: 0.1654 - val_accuracy: 0.7311 - val_loss: 1.6510\n",
      "Epoch 9/20\n",
      "\u001b[1m251/251\u001b[0m \u001b[32m━━━━━━━━━━━━━━━━━━━━\u001b[0m\u001b[37m\u001b[0m \u001b[1m19s\u001b[0m 77ms/step - accuracy: 0.9614 - loss: 0.1101 - val_accuracy: 0.7687 - val_loss: 1.3288\n",
      "Epoch 10/20\n",
      "\u001b[1m251/251\u001b[0m \u001b[32m━━━━━━━━━━━━━━━━━━━━\u001b[0m\u001b[37m\u001b[0m \u001b[1m22s\u001b[0m 88ms/step - accuracy: 0.9643 - loss: 0.0942 - val_accuracy: 0.7504 - val_loss: 1.5067\n",
      "Epoch 11/20\n",
      "\u001b[1m251/251\u001b[0m \u001b[32m━━━━━━━━━━━━━━━━━━━━\u001b[0m\u001b[37m\u001b[0m \u001b[1m39s\u001b[0m 79ms/step - accuracy: 0.9780 - loss: 0.0737 - val_accuracy: 0.7687 - val_loss: 1.8740\n",
      "Epoch 12/20\n",
      "\u001b[1m251/251\u001b[0m \u001b[32m━━━━━━━━━━━━━━━━━━━━\u001b[0m\u001b[37m\u001b[0m \u001b[1m20s\u001b[0m 81ms/step - accuracy: 0.9804 - loss: 0.0724 - val_accuracy: 0.7593 - val_loss: 1.0419\n",
      "Epoch 13/20\n",
      "\u001b[1m251/251\u001b[0m \u001b[32m━━━━━━━━━━━━━━━━━━━━\u001b[0m\u001b[37m\u001b[0m \u001b[1m20s\u001b[0m 79ms/step - accuracy: 0.9865 - loss: 0.0460 - val_accuracy: 0.7568 - val_loss: 1.4789\n",
      "Epoch 14/20\n",
      "\u001b[1m251/251\u001b[0m \u001b[32m━━━━━━━━━━━━━━━━━━━━\u001b[0m\u001b[37m\u001b[0m \u001b[1m21s\u001b[0m 82ms/step - accuracy: 0.9850 - loss: 0.0556 - val_accuracy: 0.7538 - val_loss: 2.2437\n",
      "Epoch 15/20\n",
      "\u001b[1m251/251\u001b[0m \u001b[32m━━━━━━━━━━━━━━━━━━━━\u001b[0m\u001b[37m\u001b[0m \u001b[1m40s\u001b[0m 80ms/step - accuracy: 0.9875 - loss: 0.0524 - val_accuracy: 0.7380 - val_loss: 1.2918\n",
      "Epoch 16/20\n",
      "\u001b[1m251/251\u001b[0m \u001b[32m━━━━━━━━━━━━━━━━━━━━\u001b[0m\u001b[37m\u001b[0m \u001b[1m20s\u001b[0m 77ms/step - accuracy: 0.9894 - loss: 0.0392 - val_accuracy: 0.7588 - val_loss: 2.6720\n",
      "Epoch 17/20\n",
      "\u001b[1m251/251\u001b[0m \u001b[32m━━━━━━━━━━━━━━━━━━━━\u001b[0m\u001b[37m\u001b[0m \u001b[1m20s\u001b[0m 80ms/step - accuracy: 0.9848 - loss: 0.0529 - val_accuracy: 0.7548 - val_loss: 1.5560\n",
      "Epoch 18/20\n",
      "\u001b[1m251/251\u001b[0m \u001b[32m━━━━━━━━━━━━━━━━━━━━\u001b[0m\u001b[37m\u001b[0m \u001b[1m20s\u001b[0m 77ms/step - accuracy: 0.9868 - loss: 0.0565 - val_accuracy: 0.7533 - val_loss: 1.7009\n",
      "Epoch 19/20\n",
      "\u001b[1m251/251\u001b[0m \u001b[32m━━━━━━━━━━━━━━━━━━━━\u001b[0m\u001b[37m\u001b[0m \u001b[1m20s\u001b[0m 79ms/step - accuracy: 0.9875 - loss: 0.0514 - val_accuracy: 0.7469 - val_loss: 2.9784\n",
      "Epoch 20/20\n",
      "\u001b[1m251/251\u001b[0m \u001b[32m━━━━━━━━━━━━━━━━━━━━\u001b[0m\u001b[37m\u001b[0m \u001b[1m20s\u001b[0m 77ms/step - accuracy: 0.9913 - loss: 0.0415 - val_accuracy: 0.6693 - val_loss: 2.8447\n"
     ]
    }
   ],
   "source": [
    "model_rmsprop_16 = get_model()\n",
    "model_rmsprop_16.compile(optimizer='RMSprop', loss='binary_crossentropy', metrics=['accuracy'])\n",
    "history_RMSprop = model_rmsprop_16.fit(train_ds, epochs=20, validation_data=validation_ds, batch_size=16)"
   ]
  },
  {
   "cell_type": "code",
   "execution_count": null,
   "metadata": {
    "colab": {
     "base_uri": "https://localhost:8080/"
    },
    "id": "aQ102UEtHgD7",
    "outputId": "6cac92ab-4eb0-456b-8304-215ad9551cf2"
   },
   "outputs": [
    {
     "name": "stdout",
     "output_type": "stream",
     "text": [
      "Epoch 1/20\n",
      "\u001b[1m251/251\u001b[0m \u001b[32m━━━━━━━━━━━━━━━━━━━━\u001b[0m\u001b[37m\u001b[0m \u001b[1m30s\u001b[0m 100ms/step - accuracy: 0.5456 - loss: 5.9611 - val_accuracy: 0.4998 - val_loss: 9.0801\n",
      "Epoch 2/20\n",
      "\u001b[1m251/251\u001b[0m \u001b[32m━━━━━━━━━━━━━━━━━━━━\u001b[0m\u001b[37m\u001b[0m \u001b[1m35s\u001b[0m 88ms/step - accuracy: 0.5953 - loss: 0.7228 - val_accuracy: 0.5472 - val_loss: 0.8158\n",
      "Epoch 3/20\n",
      "\u001b[1m251/251\u001b[0m \u001b[32m━━━━━━━━━━━━━━━━━━━━\u001b[0m\u001b[37m\u001b[0m \u001b[1m20s\u001b[0m 78ms/step - accuracy: 0.6966 - loss: 0.5879 - val_accuracy: 0.6179 - val_loss: 1.1315\n",
      "Epoch 4/20\n",
      "\u001b[1m251/251\u001b[0m \u001b[32m━━━━━━━━━━━━━━━━━━━━\u001b[0m\u001b[37m\u001b[0m \u001b[1m20s\u001b[0m 81ms/step - accuracy: 0.7653 - loss: 0.5140 - val_accuracy: 0.7459 - val_loss: 0.5461\n",
      "Epoch 5/20\n",
      "\u001b[1m251/251\u001b[0m \u001b[32m━━━━━━━━━━━━━━━━━━━━\u001b[0m\u001b[37m\u001b[0m \u001b[1m19s\u001b[0m 77ms/step - accuracy: 0.8033 - loss: 0.4379 - val_accuracy: 0.7054 - val_loss: 0.8822\n",
      "Epoch 6/20\n",
      "\u001b[1m251/251\u001b[0m \u001b[32m━━━━━━━━━━━━━━━━━━━━\u001b[0m\u001b[37m\u001b[0m \u001b[1m21s\u001b[0m 79ms/step - accuracy: 0.8496 - loss: 0.3621 - val_accuracy: 0.7202 - val_loss: 1.0600\n",
      "Epoch 7/20\n",
      "\u001b[1m251/251\u001b[0m \u001b[32m━━━━━━━━━━━━━━━━━━━━\u001b[0m\u001b[37m\u001b[0m \u001b[1m20s\u001b[0m 78ms/step - accuracy: 0.8808 - loss: 0.2815 - val_accuracy: 0.7825 - val_loss: 0.6996\n",
      "Epoch 8/20\n",
      "\u001b[1m251/251\u001b[0m \u001b[32m━━━━━━━━━━━━━━━━━━━━\u001b[0m\u001b[37m\u001b[0m \u001b[1m20s\u001b[0m 79ms/step - accuracy: 0.9329 - loss: 0.1804 - val_accuracy: 0.7652 - val_loss: 0.7641\n",
      "Epoch 9/20\n",
      "\u001b[1m251/251\u001b[0m \u001b[32m━━━━━━━━━━━━━━━━━━━━\u001b[0m\u001b[37m\u001b[0m \u001b[1m19s\u001b[0m 77ms/step - accuracy: 0.9558 - loss: 0.1233 - val_accuracy: 0.7212 - val_loss: 1.7529\n",
      "Epoch 10/20\n",
      "\u001b[1m251/251\u001b[0m \u001b[32m━━━━━━━━━━━━━━━━━━━━\u001b[0m\u001b[37m\u001b[0m \u001b[1m21s\u001b[0m 80ms/step - accuracy: 0.9742 - loss: 0.0892 - val_accuracy: 0.7449 - val_loss: 2.3452\n",
      "Epoch 11/20\n",
      "\u001b[1m251/251\u001b[0m \u001b[32m━━━━━━━━━━━━━━━━━━━━\u001b[0m\u001b[37m\u001b[0m \u001b[1m20s\u001b[0m 78ms/step - accuracy: 0.9756 - loss: 0.0778 - val_accuracy: 0.7232 - val_loss: 2.0993\n",
      "Epoch 12/20\n",
      "\u001b[1m251/251\u001b[0m \u001b[32m━━━━━━━━━━━━━━━━━━━━\u001b[0m\u001b[37m\u001b[0m \u001b[1m20s\u001b[0m 80ms/step - accuracy: 0.9818 - loss: 0.0682 - val_accuracy: 0.7603 - val_loss: 1.6916\n",
      "Epoch 13/20\n",
      "\u001b[1m251/251\u001b[0m \u001b[32m━━━━━━━━━━━━━━━━━━━━\u001b[0m\u001b[37m\u001b[0m \u001b[1m19s\u001b[0m 77ms/step - accuracy: 0.9849 - loss: 0.0477 - val_accuracy: 0.7509 - val_loss: 1.8092\n",
      "Epoch 14/20\n",
      "\u001b[1m251/251\u001b[0m \u001b[32m━━━━━━━━━━━━━━━━━━━━\u001b[0m\u001b[37m\u001b[0m \u001b[1m21s\u001b[0m 79ms/step - accuracy: 0.9869 - loss: 0.0465 - val_accuracy: 0.7731 - val_loss: 2.0912\n",
      "Epoch 15/20\n",
      "\u001b[1m251/251\u001b[0m \u001b[32m━━━━━━━━━━━━━━━━━━━━\u001b[0m\u001b[37m\u001b[0m \u001b[1m22s\u001b[0m 88ms/step - accuracy: 0.9858 - loss: 0.0563 - val_accuracy: 0.7563 - val_loss: 1.3896\n",
      "Epoch 16/20\n",
      "\u001b[1m251/251\u001b[0m \u001b[32m━━━━━━━━━━━━━━━━━━━━\u001b[0m\u001b[37m\u001b[0m \u001b[1m19s\u001b[0m 77ms/step - accuracy: 0.9838 - loss: 0.0569 - val_accuracy: 0.7439 - val_loss: 1.2650\n",
      "Epoch 17/20\n",
      "\u001b[1m251/251\u001b[0m \u001b[32m━━━━━━━━━━━━━━━━━━━━\u001b[0m\u001b[37m\u001b[0m \u001b[1m21s\u001b[0m 81ms/step - accuracy: 0.9914 - loss: 0.0430 - val_accuracy: 0.7514 - val_loss: 2.9929\n",
      "Epoch 18/20\n",
      "\u001b[1m251/251\u001b[0m \u001b[32m━━━━━━━━━━━━━━━━━━━━\u001b[0m\u001b[37m\u001b[0m \u001b[1m20s\u001b[0m 78ms/step - accuracy: 0.9888 - loss: 0.0377 - val_accuracy: 0.7578 - val_loss: 2.9226\n",
      "Epoch 19/20\n",
      "\u001b[1m251/251\u001b[0m \u001b[32m━━━━━━━━━━━━━━━━━━━━\u001b[0m\u001b[37m\u001b[0m \u001b[1m20s\u001b[0m 80ms/step - accuracy: 0.9863 - loss: 0.0584 - val_accuracy: 0.7425 - val_loss: 1.3759\n",
      "Epoch 20/20\n",
      "\u001b[1m251/251\u001b[0m \u001b[32m━━━━━━━━━━━━━━━━━━━━\u001b[0m\u001b[37m\u001b[0m \u001b[1m20s\u001b[0m 78ms/step - accuracy: 0.9919 - loss: 0.0361 - val_accuracy: 0.7024 - val_loss: 2.2982\n"
     ]
    }
   ],
   "source": [
    "model_rmsprop_32 = get_model()\n",
    "model_rmsprop_32.compile(optimizer='RMSprop', loss='binary_crossentropy', metrics=['accuracy'])\n",
    "history_RMSprop = model_rmsprop_32.fit(train_ds, epochs=20, validation_data=validation_ds, batch_size=32)"
   ]
  },
  {
   "cell_type": "code",
   "execution_count": null,
   "metadata": {
    "colab": {
     "base_uri": "https://localhost:8080/"
    },
    "id": "XejXjFGBHlVJ",
    "outputId": "c64f83a9-450d-491f-b121-688fd8555797"
   },
   "outputs": [
    {
     "name": "stdout",
     "output_type": "stream",
     "text": [
      "Epoch 1/20\n",
      "\u001b[1m251/251\u001b[0m \u001b[32m━━━━━━━━━━━━━━━━━━━━\u001b[0m\u001b[37m\u001b[0m \u001b[1m30s\u001b[0m 98ms/step - accuracy: 0.5400 - loss: 5.5069 - val_accuracy: 0.5620 - val_loss: 0.7820\n",
      "Epoch 2/20\n",
      "\u001b[1m251/251\u001b[0m \u001b[32m━━━━━━━━━━━━━━━━━━━━\u001b[0m\u001b[37m\u001b[0m \u001b[1m22s\u001b[0m 88ms/step - accuracy: 0.5724 - loss: 0.8761 - val_accuracy: 0.5180 - val_loss: 0.8001\n",
      "Epoch 3/20\n",
      "\u001b[1m251/251\u001b[0m \u001b[32m━━━━━━━━━━━━━━━━━━━━\u001b[0m\u001b[37m\u001b[0m \u001b[1m20s\u001b[0m 80ms/step - accuracy: 0.6170 - loss: 0.6733 - val_accuracy: 0.6214 - val_loss: 0.7311\n",
      "Epoch 4/20\n",
      "\u001b[1m251/251\u001b[0m \u001b[32m━━━━━━━━━━━━━━━━━━━━\u001b[0m\u001b[37m\u001b[0m \u001b[1m19s\u001b[0m 77ms/step - accuracy: 0.6795 - loss: 0.6198 - val_accuracy: 0.5640 - val_loss: 2.2804\n",
      "Epoch 5/20\n",
      "\u001b[1m251/251\u001b[0m \u001b[32m━━━━━━━━━━━━━━━━━━━━\u001b[0m\u001b[37m\u001b[0m \u001b[1m21s\u001b[0m 79ms/step - accuracy: 0.7405 - loss: 0.5412 - val_accuracy: 0.7355 - val_loss: 0.5690\n",
      "Epoch 6/20\n",
      "\u001b[1m251/251\u001b[0m \u001b[32m━━━━━━━━━━━━━━━━━━━━\u001b[0m\u001b[37m\u001b[0m \u001b[1m21s\u001b[0m 82ms/step - accuracy: 0.7911 - loss: 0.4491 - val_accuracy: 0.7593 - val_loss: 0.6716\n",
      "Epoch 7/20\n",
      "\u001b[1m251/251\u001b[0m \u001b[32m━━━━━━━━━━━━━━━━━━━━\u001b[0m\u001b[37m\u001b[0m \u001b[1m20s\u001b[0m 78ms/step - accuracy: 0.8268 - loss: 0.3803 - val_accuracy: 0.7543 - val_loss: 0.5621\n",
      "Epoch 8/20\n",
      "\u001b[1m251/251\u001b[0m \u001b[32m━━━━━━━━━━━━━━━━━━━━\u001b[0m\u001b[37m\u001b[0m \u001b[1m23s\u001b[0m 88ms/step - accuracy: 0.8563 - loss: 0.3073 - val_accuracy: 0.7355 - val_loss: 0.6226\n",
      "Epoch 9/20\n",
      "\u001b[1m251/251\u001b[0m \u001b[32m━━━━━━━━━━━━━━━━━━━━\u001b[0m\u001b[37m\u001b[0m \u001b[1m20s\u001b[0m 77ms/step - accuracy: 0.8745 - loss: 0.2845 - val_accuracy: 0.7642 - val_loss: 0.8751\n",
      "Epoch 10/20\n",
      "\u001b[1m251/251\u001b[0m \u001b[32m━━━━━━━━━━━━━━━━━━━━\u001b[0m\u001b[37m\u001b[0m \u001b[1m20s\u001b[0m 79ms/step - accuracy: 0.8984 - loss: 0.2231 - val_accuracy: 0.7825 - val_loss: 0.9070\n",
      "Epoch 11/20\n",
      "\u001b[1m251/251\u001b[0m \u001b[32m━━━━━━━━━━━━━━━━━━━━\u001b[0m\u001b[37m\u001b[0m \u001b[1m20s\u001b[0m 77ms/step - accuracy: 0.9230 - loss: 0.1754 - val_accuracy: 0.7701 - val_loss: 1.2087\n",
      "Epoch 12/20\n",
      "\u001b[1m251/251\u001b[0m \u001b[32m━━━━━━━━━━━━━━━━━━━━\u001b[0m\u001b[37m\u001b[0m \u001b[1m21s\u001b[0m 80ms/step - accuracy: 0.9288 - loss: 0.1681 - val_accuracy: 0.7449 - val_loss: 0.7034\n",
      "Epoch 13/20\n",
      "\u001b[1m251/251\u001b[0m \u001b[32m━━━━━━━━━━━━━━━━━━━━\u001b[0m\u001b[37m\u001b[0m \u001b[1m20s\u001b[0m 79ms/step - accuracy: 0.9394 - loss: 0.1426 - val_accuracy: 0.6678 - val_loss: 0.6867\n",
      "Epoch 14/20\n",
      "\u001b[1m251/251\u001b[0m \u001b[32m━━━━━━━━━━━━━━━━━━━━\u001b[0m\u001b[37m\u001b[0m \u001b[1m21s\u001b[0m 81ms/step - accuracy: 0.9450 - loss: 0.1444 - val_accuracy: 0.7810 - val_loss: 1.3169\n",
      "Epoch 15/20\n",
      "\u001b[1m251/251\u001b[0m \u001b[32m━━━━━━━━━━━━━━━━━━━━\u001b[0m\u001b[37m\u001b[0m \u001b[1m22s\u001b[0m 89ms/step - accuracy: 0.9544 - loss: 0.1137 - val_accuracy: 0.6268 - val_loss: 0.9507\n",
      "Epoch 16/20\n",
      "\u001b[1m251/251\u001b[0m \u001b[32m━━━━━━━━━━━━━━━━━━━━\u001b[0m\u001b[37m\u001b[0m \u001b[1m20s\u001b[0m 78ms/step - accuracy: 0.9545 - loss: 0.1144 - val_accuracy: 0.7731 - val_loss: 0.8140\n",
      "Epoch 17/20\n",
      "\u001b[1m251/251\u001b[0m \u001b[32m━━━━━━━━━━━━━━━━━━━━\u001b[0m\u001b[37m\u001b[0m \u001b[1m20s\u001b[0m 80ms/step - accuracy: 0.9689 - loss: 0.0856 - val_accuracy: 0.6846 - val_loss: 0.7474\n",
      "Epoch 18/20\n",
      "\u001b[1m251/251\u001b[0m \u001b[32m━━━━━━━━━━━━━━━━━━━━\u001b[0m\u001b[37m\u001b[0m \u001b[1m20s\u001b[0m 78ms/step - accuracy: 0.9632 - loss: 0.1003 - val_accuracy: 0.7924 - val_loss: 0.7744\n",
      "Epoch 19/20\n",
      "\u001b[1m251/251\u001b[0m \u001b[32m━━━━━━━━━━━━━━━━━━━━\u001b[0m\u001b[37m\u001b[0m \u001b[1m22s\u001b[0m 89ms/step - accuracy: 0.9727 - loss: 0.0748 - val_accuracy: 0.6105 - val_loss: 0.6609\n",
      "Epoch 20/20\n",
      "\u001b[1m251/251\u001b[0m \u001b[32m━━━━━━━━━━━━━━━━━━━━\u001b[0m\u001b[37m\u001b[0m \u001b[1m38s\u001b[0m 78ms/step - accuracy: 0.9761 - loss: 0.0675 - val_accuracy: 0.7336 - val_loss: 1.1455\n"
     ]
    }
   ],
   "source": [
    "model_rmsprop_64 = get_model()\n",
    "model_rmsprop_64.compile(optimizer='RMSprop', loss='binary_crossentropy', metrics=['accuracy'])\n",
    "history_RMSprop = model_rmsprop_64.fit(train_ds, epochs=20, validation_data=validation_ds, batch_size=64)"
   ]
  },
  {
   "cell_type": "code",
   "execution_count": null,
   "metadata": {
    "colab": {
     "base_uri": "https://localhost:8080/"
    },
    "id": "07Uw95cSHpNA",
    "outputId": "0f67a75c-ce36-4796-9c73-8c4294075e93"
   },
   "outputs": [
    {
     "name": "stdout",
     "output_type": "stream",
     "text": [
      "Epoch 1/20\n",
      "\u001b[1m251/251\u001b[0m \u001b[32m━━━━━━━━━━━━━━━━━━━━\u001b[0m\u001b[37m\u001b[0m \u001b[1m31s\u001b[0m 100ms/step - accuracy: 0.5437 - loss: 6.8943 - val_accuracy: 0.5096 - val_loss: 1.3829\n",
      "Epoch 2/20\n",
      "\u001b[1m251/251\u001b[0m \u001b[32m━━━━━━━━━━━━━━━━━━━━\u001b[0m\u001b[37m\u001b[0m \u001b[1m20s\u001b[0m 80ms/step - accuracy: 0.5494 - loss: 0.7859 - val_accuracy: 0.5729 - val_loss: 1.7326\n",
      "Epoch 3/20\n",
      "\u001b[1m251/251\u001b[0m \u001b[32m━━━━━━━━━━━━━━━━━━━━\u001b[0m\u001b[37m\u001b[0m \u001b[1m23s\u001b[0m 88ms/step - accuracy: 0.5568 - loss: 0.7388 - val_accuracy: 0.5482 - val_loss: 2.2883\n",
      "Epoch 4/20\n",
      "\u001b[1m251/251\u001b[0m \u001b[32m━━━━━━━━━━━━━━━━━━━━\u001b[0m\u001b[37m\u001b[0m \u001b[1m20s\u001b[0m 78ms/step - accuracy: 0.5576 - loss: 0.7116 - val_accuracy: 0.5818 - val_loss: 0.7063\n",
      "Epoch 5/20\n",
      "\u001b[1m251/251\u001b[0m \u001b[32m━━━━━━━━━━━━━━━━━━━━\u001b[0m\u001b[37m\u001b[0m \u001b[1m21s\u001b[0m 81ms/step - accuracy: 0.5762 - loss: 0.6929 - val_accuracy: 0.6693 - val_loss: 0.9071\n",
      "Epoch 6/20\n",
      "\u001b[1m251/251\u001b[0m \u001b[32m━━━━━━━━━━━━━━━━━━━━\u001b[0m\u001b[37m\u001b[0m \u001b[1m20s\u001b[0m 78ms/step - accuracy: 0.6503 - loss: 0.6730 - val_accuracy: 0.6214 - val_loss: 0.6973\n",
      "Epoch 7/20\n",
      "\u001b[1m251/251\u001b[0m \u001b[32m━━━━━━━━━━━━━━━━━━━━\u001b[0m\u001b[37m\u001b[0m \u001b[1m20s\u001b[0m 81ms/step - accuracy: 0.6704 - loss: 0.6195 - val_accuracy: 0.6856 - val_loss: 0.6563\n",
      "Epoch 8/20\n",
      "\u001b[1m251/251\u001b[0m \u001b[32m━━━━━━━━━━━━━━━━━━━━\u001b[0m\u001b[37m\u001b[0m \u001b[1m20s\u001b[0m 78ms/step - accuracy: 0.7336 - loss: 0.5438 - val_accuracy: 0.7182 - val_loss: 0.6526\n",
      "Epoch 9/20\n",
      "\u001b[1m251/251\u001b[0m \u001b[32m━━━━━━━━━━━━━━━━━━━━\u001b[0m\u001b[37m\u001b[0m \u001b[1m20s\u001b[0m 81ms/step - accuracy: 0.7690 - loss: 0.4965 - val_accuracy: 0.6945 - val_loss: 0.5983\n",
      "Epoch 10/20\n",
      "\u001b[1m251/251\u001b[0m \u001b[32m━━━━━━━━━━━━━━━━━━━━\u001b[0m\u001b[37m\u001b[0m \u001b[1m20s\u001b[0m 79ms/step - accuracy: 0.7965 - loss: 0.4531 - val_accuracy: 0.6836 - val_loss: 1.0649\n",
      "Epoch 11/20\n",
      "\u001b[1m251/251\u001b[0m \u001b[32m━━━━━━━━━━━━━━━━━━━━\u001b[0m\u001b[37m\u001b[0m \u001b[1m21s\u001b[0m 79ms/step - accuracy: 0.8227 - loss: 0.3900 - val_accuracy: 0.7449 - val_loss: 0.7144\n",
      "Epoch 12/20\n",
      "\u001b[1m251/251\u001b[0m \u001b[32m━━━━━━━━━━━━━━━━━━━━\u001b[0m\u001b[37m\u001b[0m \u001b[1m22s\u001b[0m 88ms/step - accuracy: 0.8445 - loss: 0.3553 - val_accuracy: 0.7000 - val_loss: 0.9061\n",
      "Epoch 13/20\n",
      "\u001b[1m251/251\u001b[0m \u001b[32m━━━━━━━━━━━━━━━━━━━━\u001b[0m\u001b[37m\u001b[0m \u001b[1m41s\u001b[0m 90ms/step - accuracy: 0.8723 - loss: 0.3090 - val_accuracy: 0.7533 - val_loss: 0.8479\n",
      "Epoch 14/20\n",
      "\u001b[1m251/251\u001b[0m \u001b[32m━━━━━━━━━━━━━━━━━━━━\u001b[0m\u001b[37m\u001b[0m \u001b[1m38s\u001b[0m 77ms/step - accuracy: 0.8886 - loss: 0.2853 - val_accuracy: 0.7336 - val_loss: 1.0485\n",
      "Epoch 15/20\n",
      "\u001b[1m251/251\u001b[0m \u001b[32m━━━━━━━━━━━━━━━━━━━━\u001b[0m\u001b[37m\u001b[0m \u001b[1m23s\u001b[0m 88ms/step - accuracy: 0.9025 - loss: 0.2427 - val_accuracy: 0.7014 - val_loss: 0.6974\n",
      "Epoch 16/20\n",
      "\u001b[1m251/251\u001b[0m \u001b[32m━━━━━━━━━━━━━━━━━━━━\u001b[0m\u001b[37m\u001b[0m \u001b[1m38s\u001b[0m 78ms/step - accuracy: 0.9099 - loss: 0.2269 - val_accuracy: 0.7538 - val_loss: 0.7112\n",
      "Epoch 17/20\n",
      "\u001b[1m251/251\u001b[0m \u001b[32m━━━━━━━━━━━━━━━━━━━━\u001b[0m\u001b[37m\u001b[0m \u001b[1m21s\u001b[0m 82ms/step - accuracy: 0.9261 - loss: 0.1932 - val_accuracy: 0.6945 - val_loss: 1.5431\n",
      "Epoch 18/20\n",
      "\u001b[1m251/251\u001b[0m \u001b[32m━━━━━━━━━━━━━━━━━━━━\u001b[0m\u001b[37m\u001b[0m \u001b[1m43s\u001b[0m 89ms/step - accuracy: 0.9282 - loss: 0.1859 - val_accuracy: 0.7425 - val_loss: 1.0207\n",
      "Epoch 19/20\n",
      "\u001b[1m251/251\u001b[0m \u001b[32m━━━━━━━━━━━━━━━━━━━━\u001b[0m\u001b[37m\u001b[0m \u001b[1m38s\u001b[0m 76ms/step - accuracy: 0.9279 - loss: 0.1811 - val_accuracy: 0.7721 - val_loss: 0.9588\n",
      "Epoch 20/20\n",
      "\u001b[1m251/251\u001b[0m \u001b[32m━━━━━━━━━━━━━━━━━━━━\u001b[0m\u001b[37m\u001b[0m \u001b[1m20s\u001b[0m 81ms/step - accuracy: 0.9389 - loss: 0.1601 - val_accuracy: 0.7523 - val_loss: 1.0218\n"
     ]
    }
   ],
   "source": [
    "model_rmsprop_128 = get_model()\n",
    "model_rmsprop_128.compile(optimizer='RMSprop', loss='binary_crossentropy', metrics=['accuracy'])\n",
    "history_RMSprop = model_rmsprop_128.fit(train_ds, epochs=20, validation_data=validation_ds, batch_size=128)"
   ]
  },
  {
   "cell_type": "code",
   "execution_count": null,
   "metadata": {
    "colab": {
     "base_uri": "https://localhost:8080/"
    },
    "id": "WCtbLvWWHryb",
    "outputId": "439ac1f5-b86f-4466-e223-89fcebbcc216"
   },
   "outputs": [
    {
     "name": "stdout",
     "output_type": "stream",
     "text": [
      "Epoch 1/20\n",
      "\u001b[1m251/251\u001b[0m \u001b[32m━━━━━━━━━━━━━━━━━━━━\u001b[0m\u001b[37m\u001b[0m \u001b[1m28s\u001b[0m 93ms/step - accuracy: 0.5349 - loss: 5.4358 - val_accuracy: 0.4444 - val_loss: 1.8405\n",
      "Epoch 2/20\n",
      "\u001b[1m251/251\u001b[0m \u001b[32m━━━━━━━━━━━━━━━━━━━━\u001b[0m\u001b[37m\u001b[0m \u001b[1m19s\u001b[0m 77ms/step - accuracy: 0.5313 - loss: 0.7657 - val_accuracy: 0.5981 - val_loss: 1.2397\n",
      "Epoch 3/20\n",
      "\u001b[1m251/251\u001b[0m \u001b[32m━━━━━━━━━━━━━━━━━━━━\u001b[0m\u001b[37m\u001b[0m \u001b[1m21s\u001b[0m 80ms/step - accuracy: 0.5534 - loss: 0.7230 - val_accuracy: 0.6189 - val_loss: 0.6585\n",
      "Epoch 4/20\n",
      "\u001b[1m251/251\u001b[0m \u001b[32m━━━━━━━━━━━━━━━━━━━━\u001b[0m\u001b[37m\u001b[0m \u001b[1m19s\u001b[0m 77ms/step - accuracy: 0.6244 - loss: 0.6517 - val_accuracy: 0.5793 - val_loss: 0.7330\n",
      "Epoch 5/20\n",
      "\u001b[1m251/251\u001b[0m \u001b[32m━━━━━━━━━━━━━━━━━━━━\u001b[0m\u001b[37m\u001b[0m \u001b[1m21s\u001b[0m 80ms/step - accuracy: 0.6620 - loss: 0.5664 - val_accuracy: 0.6782 - val_loss: 1.0355\n",
      "Epoch 6/20\n",
      "\u001b[1m251/251\u001b[0m \u001b[32m━━━━━━━━━━━━━━━━━━━━\u001b[0m\u001b[37m\u001b[0m \u001b[1m22s\u001b[0m 88ms/step - accuracy: 0.7194 - loss: 0.5270 - val_accuracy: 0.7232 - val_loss: 0.9042\n",
      "Epoch 7/20\n",
      "\u001b[1m251/251\u001b[0m \u001b[32m━━━━━━━━━━━━━━━━━━━━\u001b[0m\u001b[37m\u001b[0m \u001b[1m20s\u001b[0m 78ms/step - accuracy: 0.7649 - loss: 0.4594 - val_accuracy: 0.7212 - val_loss: 0.6134\n",
      "Epoch 8/20\n",
      "\u001b[1m251/251\u001b[0m \u001b[32m━━━━━━━━━━━━━━━━━━━━\u001b[0m\u001b[37m\u001b[0m \u001b[1m21s\u001b[0m 79ms/step - accuracy: 0.7988 - loss: 0.4021 - val_accuracy: 0.7598 - val_loss: 0.8798\n",
      "Epoch 9/20\n",
      "\u001b[1m251/251\u001b[0m \u001b[32m━━━━━━━━━━━━━━━━━━━━\u001b[0m\u001b[37m\u001b[0m \u001b[1m20s\u001b[0m 77ms/step - accuracy: 0.8138 - loss: 0.3687 - val_accuracy: 0.7583 - val_loss: 0.9730\n",
      "Epoch 10/20\n",
      "\u001b[1m251/251\u001b[0m \u001b[32m━━━━━━━━━━━━━━━━━━━━\u001b[0m\u001b[37m\u001b[0m \u001b[1m20s\u001b[0m 80ms/step - accuracy: 0.8420 - loss: 0.3225 - val_accuracy: 0.7514 - val_loss: 1.4787\n",
      "Epoch 11/20\n",
      "\u001b[1m251/251\u001b[0m \u001b[32m━━━━━━━━━━━━━━━━━━━━\u001b[0m\u001b[37m\u001b[0m \u001b[1m20s\u001b[0m 78ms/step - accuracy: 0.8684 - loss: 0.2879 - val_accuracy: 0.7237 - val_loss: 0.7882\n",
      "Epoch 12/20\n",
      "\u001b[1m251/251\u001b[0m \u001b[32m━━━━━━━━━━━━━━━━━━━━\u001b[0m\u001b[37m\u001b[0m \u001b[1m20s\u001b[0m 79ms/step - accuracy: 0.8944 - loss: 0.2298 - val_accuracy: 0.7439 - val_loss: 0.9806\n",
      "Epoch 13/20\n",
      "\u001b[1m251/251\u001b[0m \u001b[32m━━━━━━━━━━━━━━━━━━━━\u001b[0m\u001b[37m\u001b[0m \u001b[1m19s\u001b[0m 77ms/step - accuracy: 0.9123 - loss: 0.2064 - val_accuracy: 0.7657 - val_loss: 1.0043\n",
      "Epoch 14/20\n",
      "\u001b[1m251/251\u001b[0m \u001b[32m━━━━━━━━━━━━━━━━━━━━\u001b[0m\u001b[37m\u001b[0m \u001b[1m20s\u001b[0m 79ms/step - accuracy: 0.9202 - loss: 0.1829 - val_accuracy: 0.7894 - val_loss: 0.7521\n",
      "Epoch 15/20\n",
      "\u001b[1m251/251\u001b[0m \u001b[32m━━━━━━━━━━━━━━━━━━━━\u001b[0m\u001b[37m\u001b[0m \u001b[1m20s\u001b[0m 78ms/step - accuracy: 0.9318 - loss: 0.1545 - val_accuracy: 0.7405 - val_loss: 1.0191\n",
      "Epoch 16/20\n",
      "\u001b[1m251/251\u001b[0m \u001b[32m━━━━━━━━━━━━━━━━━━━━\u001b[0m\u001b[37m\u001b[0m \u001b[1m21s\u001b[0m 80ms/step - accuracy: 0.9310 - loss: 0.1546 - val_accuracy: 0.7598 - val_loss: 0.8678\n",
      "Epoch 17/20\n",
      "\u001b[1m251/251\u001b[0m \u001b[32m━━━━━━━━━━━━━━━━━━━━\u001b[0m\u001b[37m\u001b[0m \u001b[1m20s\u001b[0m 78ms/step - accuracy: 0.9328 - loss: 0.1502 - val_accuracy: 0.7593 - val_loss: 0.8961\n",
      "Epoch 18/20\n",
      "\u001b[1m251/251\u001b[0m \u001b[32m━━━━━━━━━━━━━━━━━━━━\u001b[0m\u001b[37m\u001b[0m \u001b[1m20s\u001b[0m 80ms/step - accuracy: 0.9497 - loss: 0.1278 - val_accuracy: 0.7815 - val_loss: 0.8365\n",
      "Epoch 19/20\n",
      "\u001b[1m251/251\u001b[0m \u001b[32m━━━━━━━━━━━━━━━━━━━━\u001b[0m\u001b[37m\u001b[0m \u001b[1m20s\u001b[0m 79ms/step - accuracy: 0.9574 - loss: 0.1034 - val_accuracy: 0.7291 - val_loss: 0.6803\n",
      "Epoch 20/20\n",
      "\u001b[1m251/251\u001b[0m \u001b[32m━━━━━━━━━━━━━━━━━━━━\u001b[0m\u001b[37m\u001b[0m \u001b[1m23s\u001b[0m 89ms/step - accuracy: 0.9613 - loss: 0.1005 - val_accuracy: 0.7958 - val_loss: 1.3261\n"
     ]
    }
   ],
   "source": [
    "model_rmsprop_512 = get_model()\n",
    "model_rmsprop_512.compile(optimizer='RMSprop', loss='binary_crossentropy', metrics=['accuracy'])\n",
    "history_RMSprop = model_rmsprop_512.fit(train_ds, epochs=20, validation_data=validation_ds, batch_size=512)"
   ]
  },
  {
   "cell_type": "code",
   "execution_count": null,
   "metadata": {
    "id": "lCKVGz0DHtks"
   },
   "outputs": [],
   "source": []
  }
 ],
 "metadata": {
  "accelerator": "GPU",
  "colab": {
   "gpuType": "T4",
   "provenance": []
  },
  "kernelspec": {
   "display_name": "Python 3",
   "name": "python3"
  },
  "language_info": {
   "name": "python"
  }
 },
 "nbformat": 4,
 "nbformat_minor": 0
}
